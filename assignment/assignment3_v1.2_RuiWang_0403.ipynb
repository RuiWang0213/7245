{
 "cells": [
  {
   "cell_type": "markdown",
   "metadata": {},
   "source": [
    "<div style=\"text-align: right\">CSYE 7245 Big Data Sys and Int Analytics, Assignment 3</div>\n",
    "<div style=\"text-align: right\"> Rui Wang (001430832), 14th March 2019</div>"
   ]
  },
  {
   "cell_type": "markdown",
   "metadata": {},
   "source": [
    "# Deep Learning using Keras--Face recognition"
   ]
  },
  {
   "cell_type": "markdown",
   "metadata": {},
   "source": [
    "**The  Database of Faces**\n",
    "\n",
    "Can you identify different faces?"
   ]
  },
  {
   "cell_type": "markdown",
   "metadata": {},
   "source": [
    "**Dataset description:**\n",
    "\n",
    "Database of Faces, (formerly 'The ORL Database of Faces'), contains a set of face images taken between April 1992 and April 1994 at the lab. The database was used in the context of a face recognition project carried out in collaboration with the Speech, Vision and Robotics Group of the Cambridge University Engineering Department.\n",
    "\n",
    "There are ten different images of each of 40 distinct subjects. For some subjects, the images were taken at different times, varying the lighting, facial expressions (open/closed eyes, smiling / not smiling) and facial details (glasses / no glasses). All the images were taken against a dark homogeneous background with the subjects in an upright, frontal position (with tolerance for some side movement). \n",
    "\n",
    "The files are in PGM format, and can conveniently be viewed on UNIX (TM) systems using the 'xv' program. The size of each image is 92x112 pixels, with 256 grey levels per pixel. The images are organised in 40 directories (one for each subject), which have names of the form sX, where X indicates the subject number (between 1 and 40). In each of these directories, there are ten different images of that subject, which have names of the form Y.pgm, where Y is the image number for that subject (between 1 and 10).\n",
    "\n",
    " \n",
    "\n",
    "Dataset Link: https://www.cl.cam.ac.uk/research/dtg/attarchive/facedatabase.html"
   ]
  },
  {
   "cell_type": "markdown",
   "metadata": {},
   "source": [
    "## File structure:\n",
    "\n",
    "#### Part 1: - Deep Learning model \n",
    "\n",
    "#### Part 2: - Activation function \n",
    "\n",
    "#### Part 3: - Cost function\n",
    "\n",
    "#### Part 4: - Epochs\n",
    "\n",
    "#### Part 5: - Gradient estimation\n",
    "\n",
    "#### Part 6: - Network Architecture\n",
    "\n",
    "#### Part 7: - Network initialization\n"
   ]
  },
  {
   "cell_type": "markdown",
   "metadata": {},
   "source": [
    "## Assignment 3 - Deep Learning using TensorFlow\n",
    "\n",
    "**Due March 22, 2019**\n",
    "\n",
    "You MUST do this assignment alone. You can use TensorFlow with Keras and just TensorFlow.\n",
    "\n",
    "### Part A - Deep Learning model (40 points)   \n",
    "\n",
    "Create a deep learning model for some data.  You cannot use the same data as another student.  The TAs will set up a data sign-up sheet.    MNIST data is NOT ALLOWED.  \n",
    "\n",
    "* Apply a Deep Learning model to your data. Validate the accuracy on out of sample data.\n",
    "* The Deep Learning model can be a CNN, RNN, Autoencoder, Variational autoencoder (VAE), Restricted Boltzmann machine (RBM), Deep belief network (DBN) or Generative Model. It cannot be a simple multilayer perceptron (MLP).\n",
    "\n",
    "\n",
    "### Part B - Activation function (10 points)  \n",
    "\n",
    "On _your Deep Learning model data_ \n",
    "* Change the activation function (use at least two). How does it effect the accuracy?\n",
    "* How does it effect how quickly the network plateaus?\n",
    "* Various activation functions:  \n",
    "-\tRectified linear unit (ReLU)  \n",
    "-\tTanH   \n",
    "-\tLeaky rectified linear unit (Leaky ReLU)   \n",
    "-\tParameteric rectified linear unit (PReLU)   \n",
    "-\tRandomized leaky rectified linear unit (RReLU)  \n",
    "-\tExponential linear unit (ELU)  \n",
    "-\tScaled exponential linear unit (SELU)  \n",
    "-\tS-shaped rectified linear activation unit (SReLU)  \n",
    "-\tIdentity   \n",
    "-\tBinary step  \n",
    "-\tLogistic  \n",
    "-\tArcTan  \n",
    "-\tSoftsign   \n",
    "-\tAdaptive piecewise linear (APL)   \n",
    "-\tSoftPlus  \n",
    "-\tSoftExponential   \n",
    "-\tSinusoid   \n",
    "-\tSinc  \n",
    "-\tGaussian  \n",
    "\n",
    "\n",
    "### Part C - Cost function (10 points)  \n",
    "\n",
    "On _your Deep Learning model data_ \n",
    "* Change the cost function (use at least two). How does it effect the accuracy?\n",
    "* How does it effect how quickly the network plateaus?\n",
    "* Various forms of cost:  \n",
    "-\tQuadratic cost (mean-square error)\n",
    "-\tCross-Entropy  \n",
    "-\tHinge   \n",
    "-\tKullback–Leibler divergence  \n",
    "-\tCosine Proximity  \n",
    "-\tUser defined  \n",
    "\n",
    "\n",
    "\n",
    "### Part D - Epochs (10 points)  \n",
    "\n",
    "On _your Deep Learning model data_   \n",
    "* Change the number of epochs initialization. How does it effect the accuracy?   \n",
    "* How quickly does the network plateau?  \n",
    "\n",
    "\n",
    "### Part E - Gradient estimation (10 points)  \n",
    "\n",
    "On _your Deep Learning model data_ \n",
    "* Change the gradient estimation (use at least two). How does it effect the accuracy?\n",
    "* How does it effect how quickly the network plateaus?\n",
    "* Various forms of gradient estimation:\n",
    "-\tStochastic Gradient Descent  \n",
    "-\tAdagrad  \n",
    "-\tRMSProp  \n",
    "-\tADAM  \n",
    "-\tNAG  \n",
    "-\tAdadelta  \n",
    "-\tMomentum  \n",
    "\n",
    "### Part F - Network Architecture (10 points)  \n",
    "\n",
    "On _your Deep Learning model data_ \n",
    "* Change the network architecture (use at least two). How does it effect the accuracy?\n",
    "* How does it effect how quickly the network plateaus?\n",
    "* Various forms of network architecture:\n",
    "-\tNumber of layers  \n",
    "-\tSize of each layer  \n",
    "-\tConnection type   \n",
    "-\tPre-trained components?   \n",
    "\n",
    "\n",
    "### Part G - Network initialization  (10 points)   \n",
    "\n",
    "On _your Deep Learning model data_   \n",
    "* Change the network initialization (use at least two). How does it effect the accuracy?  \n",
    "* How does it effect how quickly the network plateaus?  \n",
    "* Various forms of network initialization:  \n",
    "-\t0   \n",
    "-\tUniform  \n",
    "-\tGaussian   \n",
    "-\tXavier Glorot Initialization   [http://andyljones.tumblr.com/post/110998971763/an-explanation-of-xavier-initialization](http://andyljones.tumblr.com/post/110998971763/an-explanation-of-xavier-initialization)  \n",
    "    -\tXavier Uniform  \n",
    "    -\tXavier Gaussian  \n",
    "\n"
   ]
  },
  {
   "cell_type": "markdown",
   "metadata": {},
   "source": [
    "## Part 1: - Deep Learning model "
   ]
  },
  {
   "cell_type": "markdown",
   "metadata": {},
   "source": [
    "### 1.0 Import Necessary Tools"
   ]
  },
  {
   "cell_type": "code",
   "execution_count": 1,
   "metadata": {},
   "outputs": [
    {
     "name": "stderr",
     "output_type": "stream",
     "text": [
      "Using TensorFlow backend.\n"
     ]
    }
   ],
   "source": [
    "import os\n",
    "import keras\n",
    "from keras import optimizers\n",
    "from keras.models import Sequential, Model\n",
    "from keras.layers import (Dropout, Flatten, Dense, Conv2D, \n",
    "                          Activation, MaxPooling2D)\n",
    "from keras.preprocessing.image import ImageDataGenerator\n",
    "import numpy as np\n",
    "import matplotlib.pyplot as plt\n",
    "import os\n",
    "from skimage import io"
   ]
  },
  {
   "cell_type": "markdown",
   "metadata": {},
   "source": [
    "### 1.1 Prepare Data"
   ]
  },
  {
   "cell_type": "code",
   "execution_count": 2,
   "metadata": {},
   "outputs": [
    {
     "name": "stdout",
     "output_type": "stream",
     "text": [
      "shape of image is: (112, 92)\n",
      "size of image is: 10304 pixel\n"
     ]
    },
    {
     "data": {
      "text/plain": [
       "<matplotlib.image.AxesImage at 0x2a0b5f99278>"
      ]
     },
     "execution_count": 2,
     "metadata": {},
     "output_type": "execute_result"
    },
    {
     "data": {
      "image/png": "[encoded data removed]",
      "text/plain": [
       "<Figure size 432x288 with 1 Axes>"
      ]
     },
     "metadata": {
      "needs_background": "light"
     },
     "output_type": "display_data"
    }
   ],
   "source": [
    "# check the shape and size of 1 sample pic\n",
    "sampleImg=np.array(io.imread('orl_faces_cnn/Train/s37/2 (1).png')) \n",
    "print('shape of image is: {}'.format(sampleImg.shape))\n",
    "print('size of image is: {} pixel'.format(sampleImg.size))\n",
    "plt.imshow(sampleImg)"
   ]
  },
  {
   "cell_type": "code",
   "execution_count": 3,
   "metadata": {},
   "outputs": [],
   "source": [
    "import os\n",
    "\n",
    "# unify image formatting\n",
    "def img_format(mainPath,fmt):\n",
    "    global labels\n",
    "    labels = [filename for filename in os.listdir(mainPath) if not filename.startswith('.')]\n",
    "    for label in labels:\n",
    "        filePath = os.path.join(mainPath, label)\n",
    "        for img in os.listdir(filePath):\n",
    "            name = img.split(\".\")[0]\n",
    "            newFmt = name+'.'+fmt\n",
    "            os.rename(os.path.join(mainPath,label,img),os.path.join(mainPath,label,newFmt))\n",
    "        print(img+' has been converted into ' + newFmt)"
   ]
  },
  {
   "cell_type": "code",
   "execution_count": 4,
   "metadata": {},
   "outputs": [
    {
     "name": "stdout",
     "output_type": "stream",
     "text": [
      "1 (9).png has been converted into 1 (9).png\n",
      "2 (9).png has been converted into 2 (9).png\n",
      "3 (9).png has been converted into 3 (9).png\n",
      "4 (9).png has been converted into 4 (9).png\n",
      "5 (9).png has been converted into 5 (9).png\n",
      "1 (9).png has been converted into 1 (9).png\n",
      "2 (9).png has been converted into 2 (9).png\n",
      "3 (9).png has been converted into 3 (9).png\n",
      "4 (9).png has been converted into 4 (9).png\n",
      "5 (9).png has been converted into 5 (9).png\n",
      "1 (4).png has been converted into 1 (4).png\n",
      "2 (4).png has been converted into 2 (4).png\n",
      "3 (4).png has been converted into 3 (4).png\n",
      "4 (4).png has been converted into 4 (4).png\n",
      "5 (4).png has been converted into 5 (4).png\n"
     ]
    }
   ],
   "source": [
    "# update all picture format\n",
    "\n",
    "# prepare path for data\n",
    "train_path = 'orl_faces_cnn/Train'\n",
    "valid_path = 'orl_faces_cnn/Valid'\n",
    "test_path = 'orl_faces_cnn/Test'\n",
    "\n",
    "fmt = 'png'\n",
    "\n",
    "img_format(train_path, fmt)\n",
    "img_format(valid_path, fmt)\n",
    "img_format(test_path, fmt)"
   ]
  },
  {
   "cell_type": "code",
   "execution_count": 5,
   "metadata": {},
   "outputs": [],
   "source": [
    "# generate img data for train, valid, test\n",
    "\n",
    "def img_data_generator(train_path, valid_path, test_path, height, width, labels):\n",
    "    train_batches = ImageDataGenerator().flow_from_directory(train_path, target_size=(height,width),classes=labels)\n",
    "    valid_batches = ImageDataGenerator().flow_from_directory(valid_path, target_size=(height,width),classes=labels)\n",
    "    test_batches = ImageDataGenerator().flow_from_directory(test_path, target_size=(height,width),classes=labels)"
   ]
  },
  {
   "cell_type": "code",
   "execution_count": 6,
   "metadata": {},
   "outputs": [],
   "source": [
    "mainPath = 'E:/master1_2/7245/assignment/assignment3/data/att_faces.tar/orl_faces_cnn/orl_faces_cnn/Train'\n",
    "labels = [filename for filename in os.listdir(mainPath) if not filename.startswith('.')]"
   ]
  },
  {
   "cell_type": "code",
   "execution_count": 7,
   "metadata": {},
   "outputs": [
    {
     "name": "stdout",
     "output_type": "stream",
     "text": [
      "Found 360 images belonging to 5 classes.\n",
      "Found 40 images belonging to 5 classes.\n",
      "Found 20 images belonging to 5 classes.\n"
     ]
    }
   ],
   "source": [
    "train_batches = ImageDataGenerator().flow_from_directory(train_path, target_size=(224,224),classes=labels)\n",
    "valid_batches = ImageDataGenerator().flow_from_directory(valid_path, target_size=(224,224),classes=labels)\n",
    "test_batches = ImageDataGenerator().flow_from_directory(test_path, target_size=(224,224),classes=labels)"
   ]
  },
  {
   "cell_type": "code",
   "execution_count": 8,
   "metadata": {},
   "outputs": [
    {
     "data": {
      "text/plain": [
       "5"
      ]
     },
     "execution_count": 8,
     "metadata": {},
     "output_type": "execute_result"
    }
   ],
   "source": [
    "# number of classes\n",
    "nClass=len(labels)\n",
    "img, label = next(train_batches)\n",
    "nClass"
   ]
  },
  {
   "cell_type": "code",
   "execution_count": 9,
   "metadata": {},
   "outputs": [],
   "source": [
    "import sys\n",
    "from PIL import Image\n",
    "sys.modules['Image'] = Image "
   ]
  },
  {
   "cell_type": "code",
   "execution_count": 10,
   "metadata": {},
   "outputs": [],
   "source": [
    "import sys\n",
    "from PIL import Image\n",
    "sys.modules['Image'] = Image "
   ]
  },
  {
   "cell_type": "markdown",
   "metadata": {},
   "source": [
    "The preparation is complete, let's start defining the model."
   ]
  },
  {
   "cell_type": "markdown",
   "metadata": {},
   "source": [
    "### 1.2 Set CNN Model"
   ]
  },
  {
   "cell_type": "markdown",
   "metadata": {},
   "source": [
    "In deep learning, a convolutional neural network (CNN, or ConvNet) is a class of deep neural networks, most commonly applied to analyzing visual imagery.\n",
    "\n",
    "CNNs use relatively little pre-processing compared to other image classification algorithms. This means that the network learns the filters that in traditional algorithms were hand-engineered. This independence from prior knowledge and human effort in feature design is a major advantage.\n",
    "\n",
    "They have applications in image and video recognition, recommender systems, image classification, medical image analysis, and natural language processing."
   ]
  },
  {
   "cell_type": "code",
   "execution_count": 11,
   "metadata": {},
   "outputs": [],
   "source": [
    "# set up model\n",
    "\n",
    "model = Sequential()\n",
    "\n",
    "model.add(Conv2D(32, (3, 3), input_shape=(224, 224, 3)))\n",
    "model.add(Activation('relu'))\n",
    "model.add(MaxPooling2D(pool_size=(2, 2)))\n",
    "model.add(Dropout(0.5))\n",
    "\n",
    "model.add(Conv2D(32, (3, 3)))\n",
    "model.add(Activation('relu'))\n",
    "model.add(MaxPooling2D(pool_size=(2, 2)))\n",
    "model.add(Dropout(0.5))\n",
    "\n",
    "model.add(Conv2D(64, (3, 3)))\n",
    "model.add(Activation('relu'))\n",
    "model.add(MaxPooling2D(pool_size=(2, 2)))\n",
    "model.add(Dropout(0.5))\n",
    "\n",
    "model.add(Flatten())\n",
    "model.add(Dense(96))\n",
    "model.add(Activation('relu'))\n",
    "model.add(Dropout(0.5))\n",
    "\n",
    "model.add(Dense(nClass))\n",
    "model.add(Activation('softmax'))\n",
    "\n",
    "model.compile(loss='categorical_crossentropy',\n",
    "              optimizer='rmsprop',\n",
    "              metrics=['accuracy'])"
   ]
  },
  {
   "cell_type": "markdown",
   "metadata": {},
   "source": [
    "**Parameter meaning:**\n",
    "\n",
    "https://www.zhihu.com/question/58200419\n",
    "\n",
    "https://keras.io/models/model/\n",
    "\n"
   ]
  },
  {
   "cell_type": "markdown",
   "metadata": {},
   "source": [
    "**verbose:**\n",
    "Integer. 0, 1, or 2. Verbosity mode. 0 = silent, 1 = progress bar, 2 = one line per epoch.\n",
    "\n",
    "**steps_per_epoch:**\n",
    "Integer. Total number of steps (batches of samples) to yield from generator before declaring one epoch finished and starting the next epoch. \n",
    "\n",
    "**validation_data:**\n",
    "tuple (x_val, y_val) or tuple  (x_val, y_val, val_sample_weights) on which to evaluate the loss and any model metrics at the end of each epoch. The model will not be trained on this data.  validation_data will override validation_split.\n",
    "\n",
    "**validation_steps:**\n",
    "Only relevant if steps_per_epoch is specified. Total number of steps (batches of samples) to validate before stopping.\n",
    "\n",
    "**epochs:**\n",
    "Integer. Number of epochs to train the model. An epoch is an iteration over the entire x and y data provided. "
   ]
  },
  {
   "cell_type": "code",
   "execution_count": 12,
   "metadata": {},
   "outputs": [
    {
     "name": "stdout",
     "output_type": "stream",
     "text": [
      "Epoch 1/5\n",
      " - 9s - loss: 12.8059 - acc: 0.2018 - val_loss: 12.8945 - val_acc: 0.2000\n",
      "Epoch 2/5\n",
      " - 8s - loss: 12.7675 - acc: 0.2079 - val_loss: 12.8945 - val_acc: 0.2000\n",
      "Epoch 3/5\n",
      " - 7s - loss: 12.9471 - acc: 0.1967 - val_loss: 12.8945 - val_acc: 0.2000\n",
      "Epoch 4/5\n",
      " - 8s - loss: 12.7675 - acc: 0.2079 - val_loss: 12.8945 - val_acc: 0.2000\n",
      "Epoch 5/5\n",
      " - 8s - loss: 13.3265 - acc: 0.1732 - val_loss: 12.8945 - val_acc: 0.2000\n"
     ]
    },
    {
     "data": {
      "text/plain": [
       "<keras.callbacks.History at 0x1d54675e7b8>"
      ]
     },
     "execution_count": 12,
     "metadata": {},
     "output_type": "execute_result"
    }
   ],
   "source": [
    "model.fit_generator(train_batches, steps_per_epoch=3, \n",
    "                    validation_data = valid_batches, validation_steps=1, \n",
    "                    epochs=5, verbose=2)"
   ]
  },
  {
   "cell_type": "markdown",
   "metadata": {},
   "source": [
    "###### Conclusion: try CNN for face recognition based on a small sample size turns out to be a bad idea"
   ]
  },
  {
   "cell_type": "markdown",
   "metadata": {},
   "source": [
    "## Part 2: - Activation function"
   ]
  },
  {
   "cell_type": "markdown",
   "metadata": {},
   "source": [
    "On _your Deep Learning model data_ \n",
    "* Change the activation function (use at least two). How does it effect the accuracy?\n",
    "* How does it effect how quickly the network plateaus?\n",
    "* Various activation functions:  \n",
    "-\tRectified linear unit (ReLU)  \n",
    "-\tTanH   \n",
    "-\tLeaky rectified linear unit (Leaky ReLU)   \n",
    "-\tParameteric rectified linear unit (PReLU)   \n",
    "-\tRandomized leaky rectified linear unit (RReLU)  \n",
    "-\tExponential linear unit (ELU)  \n",
    "-\tScaled exponential linear unit (SELU)  \n",
    "-\tS-shaped rectified linear activation unit (SReLU)  \n",
    "-\tIdentity   \n",
    "-\tBinary step  \n",
    "-\tLogistic  \n",
    "-\tArcTan  \n",
    "-\tSoftsign   \n",
    "-\tAdaptive piecewise linear (APL)   \n",
    "-\tSoftPlus  \n",
    "-\tSoftExponential   \n",
    "-\tSinusoid   \n",
    "-\tSinc  \n",
    "-\tGaussian  "
   ]
  },
  {
   "cell_type": "markdown",
   "metadata": {},
   "source": [
    "**Activation function reference：**\n",
    "\n",
    "https://keras.io/activations/\n",
    "\n",
    "https://zhuanlan.zhihu.com/p/30510596\n",
    "\n",
    "https://blog.csdn.net/qq_23304241/article/details/80300149\n",
    "\n",
    "https://github.com/keras-team/keras/issues/117"
   ]
  },
  {
   "cell_type": "markdown",
   "metadata": {},
   "source": [
    "When the brain gets a lot of information, it tries to understand and classify useful information and less useful information. In deep learning, we also need a similar mechanism to classify incoming information.\n",
    "\n",
    "Not all information is useful, some are just noise. The activation function can help the neural network do this isolation. It activates useful information and suppresses irrelevant data points."
   ]
  },
  {
   "cell_type": "markdown",
   "metadata": {},
   "source": [
    "The activation function is an extremely important feature of artificial neural networks. It determines whether a neuron should be activated, and activation of information received on behalf of the neuron is related to the given information.\n",
    "\n",
    "The activation function performs a nonlinear transformation of the input information. The transformed output information is then passed as input information to the next layer of neurons."
   ]
  },
  {
   "cell_type": "markdown",
   "metadata": {},
   "source": [
    "### 2.1 tanh\n",
    "\n",
    "keras.activations.tanh(x)\n",
    "\n",
    "Hyperbolic tangent activation function."
   ]
  },
  {
   "cell_type": "markdown",
   "metadata": {},
   "source": [
    "The tanh function is very similar to the Sigmoid function. It's actually just a larger version of the Sigmoid function.\n",
    "\n",
    "Tanh(x)=2sigmoid(2x)-1\n",
    "\n",
    "It can also be expressed directly as:\n",
    "\n",
    "Tanh(x)=2/(1+e^(-2x)) -1\n",
    "\n",
    "The Tanh function is similar to the sigmoid function, but the origin is symmetric. It ranges from -1 to 1."
   ]
  },
  {
   "cell_type": "code",
   "execution_count": 15,
   "metadata": {},
   "outputs": [],
   "source": [
    "# set up model\n",
    "\n",
    "model = Sequential()\n",
    "\n",
    "model.add(Conv2D(32, (3, 3), input_shape=(224, 224, 3)))\n",
    "model.add(Activation('tanh'))\n",
    "model.add(MaxPooling2D(pool_size=(2, 2)))\n",
    "model.add(Dropout(0.5))\n",
    "\n",
    "model.add(Conv2D(32, (3, 3)))\n",
    "model.add(Activation('tanh'))\n",
    "model.add(MaxPooling2D(pool_size=(2, 2)))\n",
    "model.add(Dropout(0.5))\n",
    "\n",
    "model.add(Conv2D(64, (3, 3)))\n",
    "model.add(Activation('tanh'))\n",
    "model.add(MaxPooling2D(pool_size=(2, 2)))\n",
    "model.add(Dropout(0.5))\n",
    "\n",
    "model.add(Flatten())\n",
    "model.add(Dense(96))\n",
    "model.add(Activation('tanh'))\n",
    "model.add(Dropout(0.5))\n",
    "\n",
    "model.add(Dense(nClass))\n",
    "model.add(Activation('softmax'))\n",
    "\n",
    "model.compile(loss='categorical_crossentropy',\n",
    "              optimizer='rmsprop',\n",
    "              metrics=['accuracy'])"
   ]
  },
  {
   "cell_type": "markdown",
   "metadata": {},
   "source": [
    "It basically solves all the problems with the same value symbol, and other properties are the same as the sigmoid function. The function is continuous and differentiable. You can see that the function is non-linear, so we can easily propagate the error back.\n",
    "\n",
    "Compared to the Sigmoid function, the gradient of the tanh function is steeper. Whether the sigmoid function or the tanh function is used depends on the gradient requirements in the problem statement. But the tanh function has a similar problem with the Sigmoid function, the gradient is flattened and the value is very low."
   ]
  },
  {
   "cell_type": "code",
   "execution_count": 16,
   "metadata": {
    "scrolled": true
   },
   "outputs": [
    {
     "name": "stdout",
     "output_type": "stream",
     "text": [
      "Epoch 1/5\n",
      " - 7s - loss: 3.1307 - acc: 0.2000 - val_loss: 2.2292 - val_acc: 0.2000\n",
      "Epoch 2/5\n",
      " - 6s - loss: 2.7588 - acc: 0.2667 - val_loss: 1.9070 - val_acc: 0.2000\n",
      "Epoch 3/5\n",
      " - 7s - loss: 2.9501 - acc: 0.1444 - val_loss: 1.9648 - val_acc: 0.2000\n",
      "Epoch 4/5\n",
      " - 8s - loss: 2.6655 - acc: 0.1778 - val_loss: 1.9836 - val_acc: 0.4000\n",
      "Epoch 5/5\n",
      " - 8s - loss: 2.6633 - acc: 0.1778 - val_loss: 1.9361 - val_acc: 0.3000\n"
     ]
    },
    {
     "data": {
      "text/plain": [
       "<keras.callbacks.History at 0x232997b5828>"
      ]
     },
     "execution_count": 16,
     "metadata": {},
     "output_type": "execute_result"
    }
   ],
   "source": [
    "model.fit_generator(train_batches, steps_per_epoch=3, \n",
    "                    validation_data = valid_batches, validation_steps=1, \n",
    "                    epochs=5, verbose=2)"
   ]
  },
  {
   "cell_type": "markdown",
   "metadata": {},
   "source": [
    "The accuracy of the test set has been declining, and the accuracy of the validation set first increases and then decreases, possibly over-fitting."
   ]
  },
  {
   "cell_type": "markdown",
   "metadata": {},
   "source": [
    "Can I not use activation function?\n",
    "\n",
    "If the activation function adds a lot of complexity, can we not activate the function?\n",
    "\n",
    "Of course not! When we don't use the activation function, the weights and deviations will only be linearly transformed. Linear equations are simple, but their ability to solve complex problems is limited. A neural network without an activation function is essentially a linear regression model. The activation function nonlinearly transforms the input to enable it to learn and perform more complex tasks. We want our neural network to handle complex tasks such as language translation and image classification. Linear transformations can never perform such tasks.\n",
    "\n",
    "The activation function makes backpropagation possible because the error gradient of the activation function can be used to adjust weights and deviations. This is not possible without a differentiable nonlinear function."
   ]
  },
  {
   "cell_type": "markdown",
   "metadata": {},
   "source": [
    "### 2.2 softmax\n",
    "\n",
    "keras.activations.softmax(x, axis=-1)\n",
    "\n",
    "Softmax activation function.\n",
    "\n",
    "Arguments\n",
    "\n",
    "x: Input tensor.\n",
    "axis: Integer, axis along which the softmax normalization is applied.\n",
    "Returns\n",
    "\n",
    "Tensor, output of softmax transformation.\n",
    "\n",
    "Raises\n",
    "\n",
    "ValueError: In case dim(x) == 1.\n",
    "\n",
    "The softmax function is also a sigmoid function, but it is convenient when dealing with classification problems. The sigmoid function can only handle two classes. What should we do when we want to process multiple classes? It would not be helpful to only classify \"yes\" or \"no\" for a single class. The softmax function will compress each class between 0 and 1 and divide by the output sum. It can actually represent the input probability of a class. It is defined as:\n",
    "\n",
    "\n",
    "For example, we enter [1.2, 0.9, 0.75], and when applying the softmax function, we get [0.42, 0.31, 0.27]. These values can now be used to represent the probability of each class.\n",
    "\n",
    "The softmax function is best used at the output layer of the classifier."
   ]
  },
  {
   "cell_type": "code",
   "execution_count": 13,
   "metadata": {},
   "outputs": [],
   "source": [
    "# set up model\n",
    "\n",
    "model = Sequential()\n",
    "\n",
    "model.add(Conv2D(32, (3, 3), input_shape=(224, 224, 3)))\n",
    "model.add(Activation('softmax'))\n",
    "model.add(MaxPooling2D(pool_size=(2, 2)))\n",
    "model.add(Dropout(0.5))\n",
    "\n",
    "model.add(Conv2D(32, (3, 3)))\n",
    "model.add(Activation('softmax'))\n",
    "model.add(MaxPooling2D(pool_size=(2, 2)))\n",
    "model.add(Dropout(0.5))\n",
    "\n",
    "model.add(Conv2D(64, (3, 3)))\n",
    "model.add(Activation('softmax'))\n",
    "model.add(MaxPooling2D(pool_size=(2, 2)))\n",
    "model.add(Dropout(0.5))\n",
    "\n",
    "model.add(Flatten())\n",
    "model.add(Dense(96))\n",
    "model.add(Activation('softmax'))\n",
    "model.add(Dropout(0.5))\n",
    "\n",
    "model.add(Dense(nClass))\n",
    "model.add(Activation('softmax'))\n",
    "\n",
    "model.compile(loss='categorical_crossentropy',\n",
    "              optimizer='rmsprop',\n",
    "              metrics=['accuracy'])"
   ]
  },
  {
   "cell_type": "code",
   "execution_count": 14,
   "metadata": {
    "scrolled": true
   },
   "outputs": [
    {
     "name": "stdout",
     "output_type": "stream",
     "text": [
      "Epoch 1/5\n",
      " - 15s - loss: 1.6128 - acc: 0.1676 - val_loss: 1.6114 - val_acc: 0.2000\n",
      "Epoch 2/5\n",
      " - 20s - loss: 1.6176 - acc: 0.2162 - val_loss: 1.6111 - val_acc: 0.2000\n",
      "Epoch 3/5\n",
      " - 15s - loss: 1.6171 - acc: 0.1816 - val_loss: 1.6104 - val_acc: 0.2000\n",
      "Epoch 4/5\n",
      " - 14s - loss: 1.6143 - acc: 0.2162 - val_loss: 1.6104 - val_acc: 0.2000\n",
      "Epoch 5/5\n",
      " - 15s - loss: 1.6142 - acc: 0.2052 - val_loss: 1.6102 - val_acc: 0.2000\n"
     ]
    },
    {
     "data": {
      "text/plain": [
       "<keras.callbacks.History at 0x1d54df988d0>"
      ]
     },
     "execution_count": 14,
     "metadata": {},
     "output_type": "execute_result"
    }
   ],
   "source": [
    "model.fit_generator(train_batches, steps_per_epoch=3, \n",
    "                    validation_data = valid_batches, validation_steps=1, \n",
    "                    epochs=5, verbose=2)"
   ]
  },
  {
   "cell_type": "markdown",
   "metadata": {},
   "source": [
    "The accuracy of the test set is wavy, and the accuracy of the validation set has not changed."
   ]
  },
  {
   "cell_type": "markdown",
   "metadata": {},
   "source": [
    "### 2.3 linear\n",
    "\n",
    "keras.activations.linear(x)\n",
    "\n",
    "Linear (i.e. identity) activation function."
   ]
  },
  {
   "cell_type": "code",
   "execution_count": 21,
   "metadata": {},
   "outputs": [],
   "source": [
    "# set up model\n",
    "\n",
    "model = Sequential()\n",
    "\n",
    "model.add(Conv2D(32, (3, 3), input_shape=(224, 224, 3)))\n",
    "model.add(Activation('linear'))\n",
    "model.add(MaxPooling2D(pool_size=(2, 2)))\n",
    "model.add(Dropout(0.5))\n",
    "\n",
    "model.add(Conv2D(32, (3, 3)))\n",
    "model.add(Activation('linear'))\n",
    "model.add(MaxPooling2D(pool_size=(2, 2)))\n",
    "model.add(Dropout(0.5))\n",
    "\n",
    "model.add(Conv2D(64, (3, 3)))\n",
    "model.add(Activation('linear'))\n",
    "model.add(MaxPooling2D(pool_size=(2, 2)))\n",
    "model.add(Dropout(0.5))\n",
    "\n",
    "model.add(Flatten())\n",
    "model.add(Dense(96))\n",
    "model.add(Activation('linear'))\n",
    "model.add(Dropout(0.5))\n",
    "\n",
    "model.add(Dense(nClass))\n",
    "model.add(Activation('linear'))\n",
    "\n",
    "model.compile(loss='categorical_crossentropy',\n",
    "              optimizer='rmsprop',\n",
    "              metrics=['accuracy'])"
   ]
  },
  {
   "cell_type": "code",
   "execution_count": 22,
   "metadata": {},
   "outputs": [
    {
     "name": "stdout",
     "output_type": "stream",
     "text": [
      "Epoch 1/5\n",
      " - 8s - loss: 4.6015 - acc: 0.2333 - val_loss: 1.6076 - val_acc: 0.2000\n",
      "Epoch 2/5\n",
      " - 7s - loss: 1.7984 - acc: 0.1778 - val_loss: 4.2118 - val_acc: 0.4000\n",
      "Epoch 3/5\n",
      " - 7s - loss: 1.5599 - acc: 0.2667 - val_loss: 3.5857 - val_acc: 0.4000\n",
      "Epoch 4/5\n",
      " - 7s - loss: 1.5365 - acc: 0.3333 - val_loss: 7.6554 - val_acc: 0.4000\n",
      "Epoch 5/5\n",
      " - 7s - loss: 2.7198 - acc: 0.4889 - val_loss: 1.7222 - val_acc: 0.2000\n"
     ]
    },
    {
     "data": {
      "text/plain": [
       "<keras.callbacks.History at 0x2329a7aba20>"
      ]
     },
     "execution_count": 22,
     "metadata": {},
     "output_type": "execute_result"
    }
   ],
   "source": [
    "model.fit_generator(train_batches, steps_per_epoch=3, \n",
    "                    validation_data = valid_batches, validation_steps=1, \n",
    "                    epochs=5, verbose=2)"
   ]
  },
  {
   "cell_type": "markdown",
   "metadata": {},
   "source": [
    "The accuracy of the test set increases, the accuracy of the validation set increases and then decreases, and there may be an over-fitting phenomenon."
   ]
  },
  {
   "cell_type": "markdown",
   "metadata": {},
   "source": [
    "### 2.4 LeakyReLU\n",
    "\n"
   ]
  },
  {
   "cell_type": "markdown",
   "metadata": {},
   "source": [
    "The Leaky ReLU function is just a modified version of the ReLU function. We see that in the ReLU function, the gradient is 0 when x < 0, which causes neurons in this region to die. In order to solve this problem, Leaky ReLU appeared. This is its definition:\n",
    "\n",
    "f(x)= ax, x<0\n",
    "\n",
    "= x, x>=0\n",
    "\n",
    "All we did was simply replace the horizontal line with a non-horizontal line. Here a is a small value, such as 0.01.\n",
    "\n",
    "The main advantage of replacing the horizontal line is to remove the zero gradient."
   ]
  },
  {
   "cell_type": "code",
   "execution_count": 16,
   "metadata": {},
   "outputs": [],
   "source": [
    "from keras.layers.advanced_activations import LeakyReLU, PReLU"
   ]
  },
  {
   "cell_type": "markdown",
   "metadata": {},
   "source": [
    "Activations that are more complex than a simple TensorFlow/Theano/CNTK function (eg. learnable activations, which maintain a state) are available as Advanced Activation layers, and can be found in the module keras.layers.advanced_activations. These include PReLU and LeakyReLU."
   ]
  },
  {
   "cell_type": "code",
   "execution_count": 24,
   "metadata": {},
   "outputs": [],
   "source": [
    "# set up model\n",
    "\n",
    "model = Sequential()\n",
    "\n",
    "model.add(Conv2D(32, (3, 3), input_shape=(224, 224, 3)))\n",
    "model.add(LeakyReLU(alpha=.001))\n",
    "model.add(MaxPooling2D(pool_size=(2, 2)))\n",
    "model.add(Dropout(0.5))\n",
    "\n",
    "model.add(Conv2D(32, (3, 3)))\n",
    "model.add(LeakyReLU(alpha=.001))\n",
    "model.add(MaxPooling2D(pool_size=(2, 2)))\n",
    "model.add(Dropout(0.5))\n",
    "\n",
    "model.add(Conv2D(64, (3, 3)))\n",
    "model.add(LeakyReLU(alpha=.001))\n",
    "model.add(MaxPooling2D(pool_size=(2, 2)))\n",
    "model.add(Dropout(0.5))\n",
    "\n",
    "model.add(Flatten())\n",
    "model.add(Dense(96))\n",
    "model.add(LeakyReLU(alpha=.001))\n",
    "model.add(Dropout(0.5))\n",
    "\n",
    "model.add(Dense(nClass))\n",
    "model.add(LeakyReLU(alpha=.001))\n",
    "\n",
    "model.compile(loss='categorical_crossentropy',\n",
    "              optimizer='rmsprop',\n",
    "              metrics=['accuracy'])"
   ]
  },
  {
   "cell_type": "code",
   "execution_count": 25,
   "metadata": {},
   "outputs": [
    {
     "name": "stdout",
     "output_type": "stream",
     "text": [
      "Epoch 1/5\n",
      " - 9s - loss: 7.2312 - acc: 0.2111 - val_loss: 1.6356 - val_acc: 0.2000\n",
      "Epoch 2/5\n",
      " - 8s - loss: 2.6616 - acc: 0.1889 - val_loss: 1.6113 - val_acc: 0.2000\n",
      "Epoch 3/5\n",
      " - 8s - loss: 2.5635 - acc: 0.2333 - val_loss: 1.5316 - val_acc: 0.2000\n",
      "Epoch 4/5\n",
      " - 8s - loss: 1.9345 - acc: 0.2444 - val_loss: 1.5146 - val_acc: 0.4000\n",
      "Epoch 5/5\n",
      " - 8s - loss: 1.8285 - acc: 0.3000 - val_loss: 1.4963 - val_acc: 0.2000\n"
     ]
    },
    {
     "data": {
      "text/plain": [
       "<keras.callbacks.History at 0x2329b0905f8>"
      ]
     },
     "execution_count": 25,
     "metadata": {},
     "output_type": "execute_result"
    }
   ],
   "source": [
    "model.fit_generator(train_batches, steps_per_epoch=3, \n",
    "                    validation_data = valid_batches, validation_steps=1, \n",
    "                    epochs=5, verbose=2)"
   ]
  },
  {
   "cell_type": "markdown",
   "metadata": {},
   "source": [
    "The accuracy of the test set increases, the accuracy of the validation set increases and then decreases, and there may be an over-fitting phenomenon."
   ]
  },
  {
   "cell_type": "markdown",
   "metadata": {},
   "source": [
    "### 2.5 PReLU\n",
    "\n",
    "Similar to the Leaky ReLU function, there is also a PReLU function, which is defined similarly to Leaky ReLU.\n",
    "\n",
    "f(x)= ax, x<0\n",
    "\n",
    "= x, x>=0\n",
    "\n",
    "However, in the PReLU function, a is also a trainable function. The neural network also learns the value of a to get faster and better convergence. When the Leaky ReLU function still fails to solve the dead neuron problem and the relevant information is not successfully passed to the next layer, consider using the PReLU function.\n",
    "\n"
   ]
  },
  {
   "cell_type": "code",
   "execution_count": null,
   "metadata": {},
   "outputs": [],
   "source": [
    "#activation='linear'"
   ]
  },
  {
   "cell_type": "code",
   "execution_count": null,
   "metadata": {},
   "outputs": [],
   "source": [
    "#add(LeakyReLU(alpha=0.1))"
   ]
  },
  {
   "cell_type": "code",
   "execution_count": null,
   "metadata": {},
   "outputs": [],
   "source": [
    "#model.add(PReLU())"
   ]
  },
  {
   "cell_type": "code",
   "execution_count": 17,
   "metadata": {},
   "outputs": [],
   "source": [
    "# set up model\n",
    "\n",
    "model = Sequential()\n",
    "\n",
    "model.add(Conv2D(32, (3, 3), input_shape=(224, 224, 3)))\n",
    "model.add(PReLU())\n",
    "model.add(MaxPooling2D(pool_size=(2, 2)))\n",
    "model.add(Dropout(0.5))\n",
    "\n",
    "model.add(Conv2D(32, (3, 3)))\n",
    "model.add(PReLU())\n",
    "model.add(MaxPooling2D(pool_size=(2, 2)))\n",
    "model.add(Dropout(0.5))\n",
    "\n",
    "model.add(Conv2D(64, (3, 3)))\n",
    "model.add(PReLU())\n",
    "model.add(MaxPooling2D(pool_size=(2, 2)))\n",
    "model.add(Dropout(0.5))\n",
    "\n",
    "model.add(Flatten())\n",
    "model.add(Dense(96))\n",
    "model.add(PReLU())\n",
    "model.add(Dropout(0.5))\n",
    "\n",
    "model.add(Dense(nClass))\n",
    "model.add(PReLU())\n",
    "\n",
    "model.compile(loss='categorical_crossentropy',\n",
    "              optimizer='rmsprop',\n",
    "              metrics=['accuracy'])"
   ]
  },
  {
   "cell_type": "code",
   "execution_count": 18,
   "metadata": {},
   "outputs": [
    {
     "name": "stdout",
     "output_type": "stream",
     "text": [
      "Epoch 1/5\n",
      " - 9s - loss: 4.7553 - acc: 0.1805 - val_loss: 1.6689 - val_acc: 0.2000\n",
      "Epoch 2/5\n",
      " - 8s - loss: 2.2112 - acc: 0.2267 - val_loss: 1.5980 - val_acc: 0.2000\n",
      "Epoch 3/5\n",
      " - 8s - loss: 1.6125 - acc: 0.2040 - val_loss: 1.5872 - val_acc: 0.4000\n",
      "Epoch 4/5\n",
      " - 9s - loss: 1.7319 - acc: 0.2489 - val_loss: 1.5720 - val_acc: 0.6000\n",
      "Epoch 5/5\n",
      " - 9s - loss: 1.5754 - acc: 0.2455 - val_loss: 1.5627 - val_acc: 0.3000\n"
     ]
    },
    {
     "data": {
      "text/plain": [
       "<keras.callbacks.History at 0x1d500884e80>"
      ]
     },
     "execution_count": 18,
     "metadata": {},
     "output_type": "execute_result"
    }
   ],
   "source": [
    "model.fit_generator(train_batches, steps_per_epoch=3, \n",
    "                    validation_data = valid_batches, validation_steps=1, \n",
    "                    epochs=5, verbose=2)"
   ]
  },
  {
   "cell_type": "markdown",
   "metadata": {},
   "source": [
    "The accuracy of the test set increases, the accuracy of the verification set increases and then decreases, and there may be an over-fitting phenomenon.\n",
    "Using PReLU as the activation function produces higher accuracy than the previous activation function, and perhaps this is the appropriate activation function.\n",
    "\n",
    "Sigmoid and tanh are \"saturation activation functions\", while ReLU and its variants are \"unsaturated activation functions\". The advantages of using the \"unsaturated activation function\" are two points:\n",
    "     1. First, the \"unsaturated activation function\" solves the so-called \"gradient disappearance\" problem.\n",
    "     2. Second, it can speed up the convergence.\n",
    "     The Sigmoid function requires a real-valued input to be compressed to the range [0,1]\n",
    "     σ(x) = 1 / (1 + exp(−x))\n",
    "     The tanh function needs to say that a real value input is compressed to the range of [-1, 1]\n",
    "     Tanh(x) = 2σ(2x) − 1"
   ]
  },
  {
   "cell_type": "markdown",
   "metadata": {},
   "source": [
    "How to choose an activation function:\n",
    "Sigmoid functions and their combinations usually work better when used with classifiers.\n",
    "Due to the disappearance of the gradient, it is sometimes necessary to avoid using the sigmoid and tanh functions.\n",
    "The ReLU function is a generic activation function that is currently used in most cases.\n",
    "If dead neurons appear in the neural network, the PReLU function is the best choice.\n",
    "Keep in mind that ReLU functions can only be used in hidden layers."
   ]
  },
  {
   "cell_type": "markdown",
   "metadata": {},
   "source": [
    "Activation function  | Accuracy\n",
    "------------- | ------------- \n",
    "tanh |  0.2667\n",
    "softmax |  0.2162\n",
    "linear |  0.4889\n",
    "LeakyReLU |  0.3000\n",
    "PReLU |  0.2455\n"
   ]
  },
  {
   "cell_type": "markdown",
   "metadata": {},
   "source": [
    "## Part 3: - Cost function"
   ]
  },
  {
   "cell_type": "markdown",
   "metadata": {},
   "source": [
    "On _your Deep Learning model data_ \n",
    "* Change the cost function (use at least two). How does it effect the accuracy?\n",
    "* How does it effect how quickly the network plateaus?\n",
    "* Various forms of cost:  \n",
    "-\tQuadratic cost (mean-square error)\n",
    "-\tCross-Entropy  \n",
    "-\tHinge   \n",
    "-\tKullback–Leibler divergence  \n",
    "-\tCosine Proximity  \n",
    "-\tUser defined  \n"
   ]
  },
  {
   "cell_type": "markdown",
   "metadata": {},
   "source": [
    "https://keras.io/losses/\n",
    "\n",
    "http://www.csuldw.com/2016/03/26/2016-03-26-loss-function/\n",
    "\n",
    "https://en.wikipedia.org/wiki/Hinge_loss\n",
    "\n",
    "A loss function (or objective function, or optimization score function) is one of the two parameters required to compile a mode.\n",
    "It is a function that maps an event or values of one or more variables onto a real number intuitively representing some \"cost\" associated with the event. An optimization problem seeks to minimize a loss function. An objective function is either a loss function or its negative (in specific domains, variously called a reward function, a profit function, a utility function, a fitness function, etc.), in which case it is to be maximized.\n",
    "\n",
    "The loss function is used to estimate the degree of inconsistency between the predicted value f(x) of your model and the true value Y. The pass is expressed by L(Y,f(x)). The smaller the loss function, the more the model it is good."
   ]
  },
  {
   "cell_type": "markdown",
   "metadata": {},
   "source": [
    "### 3.1 categorical_crossentropy\n",
    "\n",
    "In general, if the last layer is connected to softmax as the classification probability output, categorical_crossentropy will be used as the loss function, so the framework will optimize and will combine and find the gradients of the two formulas. After the combination, the loss calculation will be super simple."
   ]
  },
  {
   "cell_type": "code",
   "execution_count": 28,
   "metadata": {},
   "outputs": [],
   "source": [
    "# set up model\n",
    "\n",
    "model = Sequential()\n",
    "\n",
    "model.add(Conv2D(32, (3, 3), input_shape=(224, 224, 3)))\n",
    "model.add(Activation('linear'))\n",
    "model.add(MaxPooling2D(pool_size=(2, 2)))\n",
    "model.add(Dropout(0.5))\n",
    "\n",
    "model.add(Conv2D(32, (3, 3)))\n",
    "model.add(Activation('linear'))\n",
    "model.add(MaxPooling2D(pool_size=(2, 2)))\n",
    "model.add(Dropout(0.5))\n",
    "\n",
    "model.add(Conv2D(64, (3, 3)))\n",
    "model.add(Activation('linear'))\n",
    "model.add(MaxPooling2D(pool_size=(2, 2)))\n",
    "model.add(Dropout(0.5))\n",
    "\n",
    "model.add(Flatten())\n",
    "model.add(Dense(96))\n",
    "model.add(Activation('linear'))\n",
    "model.add(Dropout(0.5))\n",
    "\n",
    "model.add(Dense(nClass))\n",
    "model.add(Activation('linear'))\n",
    "\n",
    "model.compile(loss='categorical_crossentropy',\n",
    "              optimizer='rmsprop',\n",
    "              metrics=['accuracy'])"
   ]
  },
  {
   "cell_type": "code",
   "execution_count": 29,
   "metadata": {},
   "outputs": [
    {
     "name": "stdout",
     "output_type": "stream",
     "text": [
      "Epoch 1/5\n",
      " - 8s - loss: 2.7038 - acc: 0.1556 - val_loss: 1.6166 - val_acc: 0.2000\n",
      "Epoch 2/5\n",
      " - 7s - loss: 1.6150 - acc: 0.3333 - val_loss: 1.5924 - val_acc: 0.5000\n",
      "Epoch 3/5\n",
      " - 7s - loss: 1.5962 - acc: 0.2000 - val_loss: 1.5682 - val_acc: 0.2000\n",
      "Epoch 4/5\n",
      " - 7s - loss: 1.5708 - acc: 0.2556 - val_loss: 1.5500 - val_acc: 0.2000\n",
      "Epoch 5/5\n",
      " - 7s - loss: 1.5506 - acc: 0.2778 - val_loss: 1.5351 - val_acc: 0.6000\n"
     ]
    },
    {
     "data": {
      "text/plain": [
       "<keras.callbacks.History at 0x2329c51add8>"
      ]
     },
     "execution_count": 29,
     "metadata": {},
     "output_type": "execute_result"
    }
   ],
   "source": [
    "model.fit_generator(train_batches, steps_per_epoch=3, \n",
    "                    validation_data = valid_batches, validation_steps=1, \n",
    "                    epochs=5, verbose=2)"
   ]
  },
  {
   "cell_type": "markdown",
   "metadata": {},
   "source": [
    "The accuracy rate is not very stable."
   ]
  },
  {
   "cell_type": "code",
   "execution_count": null,
   "metadata": {},
   "outputs": [],
   "source": [
    "#model.compile(loss='mean_squared_error', optimizer='sgd')\n"
   ]
  },
  {
   "cell_type": "markdown",
   "metadata": {},
   "source": [
    "### 3.2 mean_squared_error\n",
    "\n",
    "Mean squared error regression loss"
   ]
  },
  {
   "cell_type": "code",
   "execution_count": null,
   "metadata": {},
   "outputs": [],
   "source": [
    "# set up model\n",
    "\n",
    "model = Sequential()\n",
    "\n",
    "model.add(Conv2D(32, (3, 3), input_shape=(224, 224, 3)))\n",
    "model.add(Activation('linear'))\n",
    "model.add(MaxPooling2D(pool_size=(2, 2)))\n",
    "model.add(Dropout(0.5))\n",
    "\n",
    "model.add(Conv2D(32, (3, 3)))\n",
    "model.add(Activation('linear'))\n",
    "model.add(MaxPooling2D(pool_size=(2, 2)))\n",
    "model.add(Dropout(0.5))\n",
    "\n",
    "model.add(Conv2D(64, (3, 3)))\n",
    "model.add(Activation('linear'))\n",
    "model.add(MaxPooling2D(pool_size=(2, 2)))\n",
    "model.add(Dropout(0.5))\n",
    "\n",
    "model.add(Flatten())\n",
    "model.add(Dense(96))\n",
    "model.add(Activation('linear'))\n",
    "model.add(Dropout(0.5))\n",
    "\n",
    "model.add(Dense(nClass))\n",
    "model.add(Activation('linear'))\n",
    "\n",
    "model.compile(loss='mean_squared_error',\n",
    "              optimizer='sgd',\n",
    "              metrics=['accuracy'])"
   ]
  },
  {
   "cell_type": "code",
   "execution_count": 20,
   "metadata": {},
   "outputs": [
    {
     "name": "stdout",
     "output_type": "stream",
     "text": [
      "Epoch 1/5\n",
      " - 7s - loss: nan - acc: 0.2169 - val_loss: nan - val_acc: 0.2000\n",
      "Epoch 2/5\n",
      " - 6s - loss: nan - acc: 0.1613 - val_loss: nan - val_acc: 0.2000\n",
      "Epoch 3/5\n",
      " - 6s - loss: nan - acc: 0.2371 - val_loss: nan - val_acc: 0.2000\n",
      "Epoch 4/5\n",
      " - 6s - loss: nan - acc: 0.2101 - val_loss: nan - val_acc: 0.2000\n",
      "Epoch 5/5\n",
      " - 6s - loss: nan - acc: 0.1923 - val_loss: nan - val_acc: 0.2000\n"
     ]
    },
    {
     "data": {
      "text/plain": [
       "<keras.callbacks.History at 0x1d50129fb38>"
      ]
     },
     "execution_count": 20,
     "metadata": {},
     "output_type": "execute_result"
    }
   ],
   "source": [
    "model.fit_generator(train_batches, steps_per_epoch=3, \n",
    "                    validation_data = valid_batches, validation_steps=1, \n",
    "                    epochs=5, verbose=2)"
   ]
  },
  {
   "cell_type": "markdown",
   "metadata": {},
   "source": [
    "There is no change in the verification set accuracy."
   ]
  },
  {
   "cell_type": "markdown",
   "metadata": {},
   "source": [
    "### 3.3 hinge\n",
    "\n",
    "In machine learning, the hinge loss is a loss function used for training classifiers. The hinge loss is used for \"maximum-margin\" classification, most notably for support vector machines (SVMs)."
   ]
  },
  {
   "cell_type": "code",
   "execution_count": 36,
   "metadata": {},
   "outputs": [],
   "source": [
    "# set up model\n",
    "\n",
    "model = Sequential()\n",
    "\n",
    "model.add(Conv2D(32, (3, 3), input_shape=(224, 224, 3)))\n",
    "model.add(Activation('linear'))\n",
    "model.add(MaxPooling2D(pool_size=(2, 2)))\n",
    "model.add(Dropout(0.5))\n",
    "\n",
    "model.add(Conv2D(32, (3, 3)))\n",
    "model.add(Activation('linear'))\n",
    "model.add(MaxPooling2D(pool_size=(2, 2)))\n",
    "model.add(Dropout(0.5))\n",
    "\n",
    "model.add(Conv2D(64, (3, 3)))\n",
    "model.add(Activation('linear'))\n",
    "model.add(MaxPooling2D(pool_size=(2, 2)))\n",
    "model.add(Dropout(0.5))\n",
    "\n",
    "model.add(Flatten())\n",
    "model.add(Dense(96))\n",
    "model.add(Activation('linear'))\n",
    "model.add(Dropout(0.5))\n",
    "\n",
    "model.add(Dense(nClass))\n",
    "model.add(Activation('linear'))\n",
    "\n",
    "model.compile(loss='hinge',\n",
    "              optimizer='sgd',\n",
    "              metrics=['accuracy'])"
   ]
  },
  {
   "cell_type": "code",
   "execution_count": 37,
   "metadata": {},
   "outputs": [
    {
     "name": "stdout",
     "output_type": "stream",
     "text": [
      "Epoch 1/5\n",
      " - 7s - loss: 14.3224 - acc: 0.1889 - val_loss: 0.8000 - val_acc: 0.2000\n",
      "Epoch 2/5\n",
      " - 7s - loss: 291.0070 - acc: 0.2000 - val_loss: 6208742400.0000 - val_acc: 0.2000\n",
      "Epoch 3/5\n",
      " - 7s - loss: nan - acc: 0.1444 - val_loss: nan - val_acc: 0.2000\n",
      "Epoch 4/5\n",
      " - 8s - loss: nan - acc: 0.2000 - val_loss: nan - val_acc: 0.2000\n",
      "Epoch 5/5\n",
      " - 7s - loss: nan - acc: 0.2000 - val_loss: nan - val_acc: 0.2000\n"
     ]
    },
    {
     "data": {
      "text/plain": [
       "<keras.callbacks.History at 0x2329f3d9b70>"
      ]
     },
     "execution_count": 37,
     "metadata": {},
     "output_type": "execute_result"
    }
   ],
   "source": [
    "model.fit_generator(train_batches, steps_per_epoch=3, \n",
    "                    validation_data = valid_batches, validation_steps=1, \n",
    "                    epochs=5, verbose=2)"
   ]
  },
  {
   "cell_type": "markdown",
   "metadata": {},
   "source": [
    "not a good result"
   ]
  },
  {
   "cell_type": "markdown",
   "metadata": {},
   "source": [
    "### 3.4 kullback_leibler_divergence\n",
    "\n",
    "In mathematical statistics, the Kullback–Leibler divergence (also called relative entropy) is a measure of how one probability distribution is different from a second, reference probability distribution.[1][2] Applications include characterizing the relative (Shannon) entropy in information systems, randomness in continuous time-series, and information gain when comparing statistical models of inference. In contrast to variation of information, it is a distribution-wise asymmetric measure and thus does not qualify as a statistical metric of spread (it also does not satisfy the triangle inequality). In the simple case, a Kullback–Leibler divergence of 0 indicates that the two distributions in question are identical. In simplified terms, it is a measure of surprise, with diverse applications such as applied statistics, fluid mechanics, neuroscience and machine learning."
   ]
  },
  {
   "cell_type": "code",
   "execution_count": 43,
   "metadata": {},
   "outputs": [],
   "source": [
    "# set up model\n",
    "\n",
    "model = Sequential()\n",
    "\n",
    "model.add(Conv2D(32, (3, 3), input_shape=(224, 224, 3)))\n",
    "model.add(Activation('linear'))\n",
    "model.add(MaxPooling2D(pool_size=(2, 2)))\n",
    "model.add(Dropout(0.5))\n",
    "\n",
    "model.add(Conv2D(32, (3, 3)))\n",
    "model.add(Activation('linear'))\n",
    "model.add(MaxPooling2D(pool_size=(2, 2)))\n",
    "model.add(Dropout(0.5))\n",
    "\n",
    "model.add(Conv2D(64, (3, 3)))\n",
    "model.add(Activation('linear'))\n",
    "model.add(MaxPooling2D(pool_size=(2, 2)))\n",
    "model.add(Dropout(0.5))\n",
    "\n",
    "model.add(Flatten())\n",
    "model.add(Dense(96))\n",
    "model.add(Activation('linear'))\n",
    "model.add(Dropout(0.5))\n",
    "\n",
    "model.add(Dense(nClass))\n",
    "model.add(Activation('linear'))\n",
    "\n",
    "model.compile(loss='kullback_leibler_divergence',\n",
    "              optimizer='sgd',\n",
    "              #查一下optimizer是啥\n",
    "              metrics=['accuracy'])"
   ]
  },
  {
   "cell_type": "code",
   "execution_count": 44,
   "metadata": {},
   "outputs": [
    {
     "name": "stdout",
     "output_type": "stream",
     "text": [
      "Epoch 1/5\n",
      " - 9s - loss: 5.5518 - acc: 0.1889 - val_loss: 4.8354 - val_acc: 0.2000\n",
      "Epoch 2/5\n",
      " - 7s - loss: 6.0891 - acc: 0.1778 - val_loss: 4.8354 - val_acc: 0.2000\n",
      "Epoch 3/5\n",
      " - 8s - loss: 5.9100 - acc: 0.2000 - val_loss: 4.8354 - val_acc: 0.2000\n",
      "Epoch 4/5\n",
      " - 8s - loss: 7.1909 - acc: 0.1667 - val_loss: 9.6709 - val_acc: 0.2000\n",
      "Epoch 5/5\n",
      " - 7s - loss: 7.7009 - acc: 0.2222 - val_loss: 9.6709 - val_acc: 0.2000\n"
     ]
    },
    {
     "data": {
      "text/plain": [
       "<keras.callbacks.History at 0x2329fb882e8>"
      ]
     },
     "execution_count": 44,
     "metadata": {},
     "output_type": "execute_result"
    }
   ],
   "source": [
    "model.fit_generator(train_batches, steps_per_epoch=3, \n",
    "                    validation_data = valid_batches, validation_steps=1, \n",
    "                    epochs=5, verbose=2)"
   ]
  },
  {
   "cell_type": "markdown",
   "metadata": {},
   "source": [
    "### 3.5 logcosh\n",
    "\n",
    "log(cosh(x)) is approximately equal to (x ** 2) / 2 for small x and to abs(x) - log(2) for large x. This means that 'logcosh' works mostly like the mean squared error, but will not be so strongly affected by the occasional wildly incorrect prediction.\n",
    "\n",
    "The logarithm is used to facilitate the calculation of the maximum likelihood estimation, because in MLE, direct derivation is more difficult, so it is usually first to take the logarithm and then to find the extreme point."
   ]
  },
  {
   "cell_type": "code",
   "execution_count": 21,
   "metadata": {},
   "outputs": [],
   "source": [
    "# set up model\n",
    "\n",
    "model = Sequential()\n",
    "\n",
    "model.add(Conv2D(32, (3, 3), input_shape=(224, 224, 3)))\n",
    "model.add(Activation('linear'))\n",
    "model.add(MaxPooling2D(pool_size=(2, 2)))\n",
    "model.add(Dropout(0.5))\n",
    "\n",
    "model.add(Conv2D(32, (3, 3)))\n",
    "model.add(Activation('linear'))\n",
    "model.add(MaxPooling2D(pool_size=(2, 2)))\n",
    "model.add(Dropout(0.5))\n",
    "\n",
    "model.add(Conv2D(64, (3, 3)))\n",
    "model.add(Activation('linear'))\n",
    "model.add(MaxPooling2D(pool_size=(2, 2)))\n",
    "model.add(Dropout(0.5))\n",
    "\n",
    "model.add(Flatten())\n",
    "model.add(Dense(96))\n",
    "model.add(Activation('linear'))\n",
    "model.add(Dropout(0.5))\n",
    "\n",
    "model.add(Dense(nClass))\n",
    "model.add(Activation('linear'))\n",
    "\n",
    "model.compile(loss='logcosh',\n",
    "              optimizer='rmsprop',\n",
    "              #查一下optimizer是啥\n",
    "              metrics=['accuracy'])"
   ]
  },
  {
   "cell_type": "code",
   "execution_count": 22,
   "metadata": {},
   "outputs": [
    {
     "name": "stdout",
     "output_type": "stream",
     "text": [
      "Epoch 1/5\n",
      " - 8s - loss: 9064.1871 - acc: 0.2489 - val_loss: 11127.9092 - val_acc: 0.2000\n",
      "Epoch 2/5\n",
      " - 6s - loss: 7864.6727 - acc: 0.2162 - val_loss: 1374.8699 - val_acc: 0.2000\n",
      "Epoch 3/5\n",
      " - 6s - loss: 1017.8504 - acc: 0.1923 - val_loss: 330.4903 - val_acc: 0.2000\n",
      "Epoch 4/5\n",
      " - 7s - loss: 733.9107 - acc: 0.1646 - val_loss: 367.1722 - val_acc: 0.2000\n",
      "Epoch 5/5\n",
      " - 6s - loss: 348.6674 - acc: 0.2276 - val_loss: 215.2169 - val_acc: 0.2000\n"
     ]
    },
    {
     "data": {
      "text/plain": [
       "<keras.callbacks.History at 0x1d50129fe80>"
      ]
     },
     "execution_count": 22,
     "metadata": {},
     "output_type": "execute_result"
    }
   ],
   "source": [
    "model.fit_generator(train_batches, steps_per_epoch=3, \n",
    "                    validation_data = valid_batches, validation_steps=1, \n",
    "                    epochs=5, verbose=2)"
   ]
  },
  {
   "cell_type": "markdown",
   "metadata": {},
   "source": [
    "There is no change in the verification set accuracy."
   ]
  },
  {
   "cell_type": "markdown",
   "metadata": {},
   "source": [
    "The more parameters, the more complex the model, and the more complex the model, the easier it is to overfit. Overfitting means that the model performs much better on the training data than on the test set. At this point, regularization can be considered. By setting the hyper parameter in front of the regular term, weigh the loss function and the regular term, reduce the parameter size, and achieve the purpose of model simplification, so that the model has better generalization ability."
   ]
  },
  {
   "cell_type": "markdown",
   "metadata": {},
   "source": [
    "Cost function  | Accuracy\n",
    "------------- | ------------- \n",
    "categorical_crossentropy |  0.3333\n",
    "mean_squared_error |  0.2371\n",
    "hinge |  0.2000\n",
    "kullback_leibler_divergence |  0.2222\n",
    "logcosh |  0.2489\n"
   ]
  },
  {
   "cell_type": "markdown",
   "metadata": {},
   "source": [
    "## Part 4: - Epochs"
   ]
  },
  {
   "cell_type": "markdown",
   "metadata": {},
   "source": [
    "On _your Deep Learning model data_   \n",
    "* Change the number of epochs initialization. How does it effect the accuracy?   \n",
    "* How quickly does the network plateau?  \n"
   ]
  },
  {
   "cell_type": "markdown",
   "metadata": {},
   "source": [
    "https://keras.io/getting-started/faq/#what-does-sample-batch-epoch-mean\n",
    "\n",
    "**Epoch:**\n",
    "an arbitrary cutoff, generally defined as \"one pass over the entire dataset\", used to separate training into distinct phases, which is useful for logging and periodic evaluation.\n",
    "When using validation_data or validation_split with the fit method of Keras models, evaluation will be run at the end of every epoch.\n",
    "Within Keras, there is the ability to add callbacks specifically designed to be run at the end of an epoch. Examples of these are learning rate changes and model checkpointing (saving)."
   ]
  },
  {
   "cell_type": "markdown",
   "metadata": {},
   "source": [
    "### 4.1"
   ]
  },
  {
   "cell_type": "code",
   "execution_count": 23,
   "metadata": {},
   "outputs": [],
   "source": [
    "# set up model\n",
    "\n",
    "model = Sequential()\n",
    "\n",
    "model.add(Conv2D(32, (3, 3), input_shape=(224, 224, 3)))\n",
    "model.add(Activation('linear'))\n",
    "model.add(MaxPooling2D(pool_size=(2, 2)))\n",
    "model.add(Dropout(0.5))\n",
    "\n",
    "model.add(Conv2D(32, (3, 3)))\n",
    "model.add(Activation('linear'))\n",
    "model.add(MaxPooling2D(pool_size=(2, 2)))\n",
    "model.add(Dropout(0.5))\n",
    "\n",
    "model.add(Conv2D(64, (3, 3)))\n",
    "model.add(Activation('linear'))\n",
    "model.add(MaxPooling2D(pool_size=(2, 2)))\n",
    "model.add(Dropout(0.5))\n",
    "\n",
    "model.add(Flatten())\n",
    "model.add(Dense(96))\n",
    "model.add(Activation('linear'))\n",
    "model.add(Dropout(0.5))\n",
    "\n",
    "model.add(Dense(nClass))\n",
    "model.add(Activation('linear'))\n",
    "\n",
    "model.compile(loss='categorical_crossentropy',\n",
    "              optimizer='adadelta',\n",
    "              metrics=['accuracy'])"
   ]
  },
  {
   "cell_type": "code",
   "execution_count": 24,
   "metadata": {},
   "outputs": [
    {
     "name": "stdout",
     "output_type": "stream",
     "text": [
      "Epoch 1/5\n",
      " - 8s - loss: 7.1781 - acc: 0.1570 - val_loss: 9.6709 - val_acc: 0.2000\n",
      "Epoch 2/5\n",
      " - 7s - loss: 8.0953 - acc: 0.2384 - val_loss: 9.6709 - val_acc: 0.2000\n",
      "Epoch 3/5\n",
      " - 7s - loss: 9.5637 - acc: 0.1570 - val_loss: 9.6709 - val_acc: 0.2000\n",
      "Epoch 4/5\n",
      " - 7s - loss: 8.4185 - acc: 0.2478 - val_loss: 9.6709 - val_acc: 0.4000\n",
      "Epoch 5/5\n",
      " - 7s - loss: 7.8785 - acc: 0.2147 - val_loss: 9.6709 - val_acc: 0.4000\n"
     ]
    },
    {
     "data": {
      "text/plain": [
       "<keras.callbacks.History at 0x1d5018903c8>"
      ]
     },
     "execution_count": 24,
     "metadata": {},
     "output_type": "execute_result"
    }
   ],
   "source": [
    "model.fit_generator(train_batches, steps_per_epoch=3, \n",
    "                    validation_data = valid_batches, validation_steps=1, \n",
    "                    epochs=5, verbose=2)"
   ]
  },
  {
   "cell_type": "code",
   "execution_count": 25,
   "metadata": {
    "scrolled": true
   },
   "outputs": [
    {
     "name": "stdout",
     "output_type": "stream",
     "text": [
      "Epoch 1/10\n",
      " - 7s - loss: 8.6102 - acc: 0.2393 - val_loss: 9.6709 - val_acc: 0.4000\n",
      "Epoch 2/10\n",
      " - 7s - loss: 8.9103 - acc: 0.2173 - val_loss: 9.6709 - val_acc: 0.3000\n",
      "Epoch 3/10\n",
      " - 7s - loss: 8.6292 - acc: 0.2029 - val_loss: 9.6709 - val_acc: 0.4000\n",
      "Epoch 4/10\n",
      " - 7s - loss: 7.7556 - acc: 0.2301 - val_loss: 9.6709 - val_acc: 0.4000\n",
      "Epoch 5/10\n",
      " - 7s - loss: 8.9553 - acc: 0.1581 - val_loss: 9.6709 - val_acc: 0.4000\n",
      "Epoch 6/10\n",
      " - 7s - loss: 8.0620 - acc: 0.2921 - val_loss: 9.6709 - val_acc: 0.2000\n",
      "Epoch 7/10\n",
      " - 7s - loss: 7.9501 - acc: 0.2029 - val_loss: 9.6709 - val_acc: 0.5000\n",
      "Epoch 8/10\n",
      " - 7s - loss: 8.3990 - acc: 0.2384 - val_loss: 9.6709 - val_acc: 0.4000\n",
      "Epoch 9/10\n",
      " - 7s - loss: 8.5579 - acc: 0.2382 - val_loss: 9.6709 - val_acc: 0.4000\n",
      "Epoch 10/10\n",
      " - 7s - loss: 9.4708 - acc: 0.2489 - val_loss: 9.6709 - val_acc: 0.4000\n"
     ]
    },
    {
     "data": {
      "text/plain": [
       "<keras.callbacks.History at 0x1d501f509b0>"
      ]
     },
     "execution_count": 25,
     "metadata": {},
     "output_type": "execute_result"
    }
   ],
   "source": [
    "model.fit_generator(train_batches, steps_per_epoch=3, \n",
    "                    validation_data = valid_batches, validation_steps=1, \n",
    "                    epochs=10, verbose=2)"
   ]
  },
  {
   "cell_type": "markdown",
   "metadata": {},
   "source": [
    "Accuracy increases first and then falls, and there is over-fitting."
   ]
  },
  {
   "cell_type": "markdown",
   "metadata": {},
   "source": [
    "### 4.2"
   ]
  },
  {
   "cell_type": "code",
   "execution_count": 26,
   "metadata": {},
   "outputs": [],
   "source": [
    "# set up model\n",
    "\n",
    "model = Sequential()\n",
    "\n",
    "model.add(Conv2D(32, (3, 3), input_shape=(224, 224, 3)))\n",
    "model.add(Activation('linear'))\n",
    "model.add(MaxPooling2D(pool_size=(2, 2)))\n",
    "model.add(Dropout(0.5))\n",
    "\n",
    "model.add(Conv2D(32, (3, 3)))\n",
    "model.add(Activation('linear'))\n",
    "model.add(MaxPooling2D(pool_size=(2, 2)))\n",
    "model.add(Dropout(0.5))\n",
    "\n",
    "model.add(Conv2D(64, (3, 3)))\n",
    "model.add(Activation('linear'))\n",
    "model.add(MaxPooling2D(pool_size=(2, 2)))\n",
    "model.add(Dropout(0.5))\n",
    "\n",
    "model.add(Flatten())\n",
    "model.add(Dense(96))\n",
    "model.add(Activation('linear'))\n",
    "model.add(Dropout(0.5))\n",
    "\n",
    "model.add(Dense(nClass))\n",
    "model.add(Activation('linear'))\n",
    "\n",
    "model.compile(loss='categorical_crossentropy',\n",
    "              optimizer='adamax',\n",
    "              metrics=['accuracy'])"
   ]
  },
  {
   "cell_type": "code",
   "execution_count": 27,
   "metadata": {
    "scrolled": true
   },
   "outputs": [
    {
     "name": "stdout",
     "output_type": "stream",
     "text": [
      "Epoch 1/10\n",
      " - 9s - loss: 5.3557 - acc: 0.1752 - val_loss: 6.4472 - val_acc: 0.2000\n",
      "Epoch 2/10\n",
      " - 6s - loss: 7.0798 - acc: 0.1934 - val_loss: 9.6709 - val_acc: 0.2000\n",
      "Epoch 3/10\n",
      " - 7s - loss: 6.4477 - acc: 0.2489 - val_loss: 9.7900 - val_acc: 0.3000\n",
      "Epoch 4/10\n",
      " - 6s - loss: 7.9479 - acc: 0.2253 - val_loss: 9.8597 - val_acc: 0.4000\n",
      "Epoch 5/10\n",
      " - 7s - loss: 7.5184 - acc: 0.2289 - val_loss: 9.9123 - val_acc: 0.2000\n",
      "Epoch 6/10\n",
      " - 6s - loss: 9.3805 - acc: 0.2735 - val_loss: 4.8478 - val_acc: 0.2000\n",
      "Epoch 7/10\n",
      " - 7s - loss: 8.2135 - acc: 0.2173 - val_loss: 4.5920 - val_acc: 0.2000\n",
      "Epoch 8/10\n",
      " - 7s - loss: 7.0566 - acc: 0.1614 - val_loss: 4.4557 - val_acc: 0.2000\n",
      "Epoch 9/10\n",
      " - 7s - loss: 7.5718 - acc: 0.1508 - val_loss: 4.3651 - val_acc: 0.2000\n",
      "Epoch 10/10\n",
      " - 6s - loss: 7.5793 - acc: 0.2125 - val_loss: 4.3404 - val_acc: 0.2000\n"
     ]
    },
    {
     "data": {
      "text/plain": [
       "<keras.callbacks.History at 0x1d5027d5b70>"
      ]
     },
     "execution_count": 27,
     "metadata": {},
     "output_type": "execute_result"
    }
   ],
   "source": [
    "model.fit_generator(train_batches, steps_per_epoch=3, \n",
    "                    validation_data = valid_batches, validation_steps=1, \n",
    "                    epochs=10, verbose=2)"
   ]
  },
  {
   "cell_type": "code",
   "execution_count": 28,
   "metadata": {
    "scrolled": true
   },
   "outputs": [
    {
     "name": "stdout",
     "output_type": "stream",
     "text": [
      "Epoch 1/15\n",
      " - 7s - loss: 6.6350 - acc: 0.1827 - val_loss: 4.3510 - val_acc: 0.2000\n",
      "Epoch 2/15\n",
      " - 7s - loss: 6.9787 - acc: 0.1752 - val_loss: 4.3774 - val_acc: 0.2000\n",
      "Epoch 3/15\n",
      " - 6s - loss: 6.3154 - acc: 0.1934 - val_loss: 4.4315 - val_acc: 0.2000\n",
      "Epoch 4/15\n",
      " - 6s - loss: 6.9909 - acc: 0.1763 - val_loss: 4.5980 - val_acc: 0.2000\n",
      "Epoch 5/15\n",
      " - 6s - loss: 7.2112 - acc: 0.2074 - val_loss: 4.9876 - val_acc: 0.2000\n",
      "Epoch 6/15\n",
      " - 6s - loss: 7.6746 - acc: 0.1835 - val_loss: 10.1178 - val_acc: 0.2000\n",
      "Epoch 7/15\n",
      " - 6s - loss: 8.4853 - acc: 0.2276 - val_loss: 10.0976 - val_acc: 0.2000\n",
      "Epoch 8/15\n",
      " - 6s - loss: 10.0190 - acc: 0.1846 - val_loss: 10.0689 - val_acc: 0.2000\n",
      "Epoch 9/15\n",
      " - 6s - loss: 7.1751 - acc: 0.2265 - val_loss: 10.2928 - val_acc: 0.2000\n",
      "Epoch 10/15\n",
      " - 7s - loss: 7.7317 - acc: 0.2079 - val_loss: 11.4032 - val_acc: 0.2000\n",
      "Epoch 11/15\n",
      " - 7s - loss: 7.2760 - acc: 0.1816 - val_loss: 11.3394 - val_acc: 0.2000\n",
      "Epoch 12/15\n",
      " - 8s - loss: 9.6987 - acc: 0.2289 - val_loss: 10.3114 - val_acc: 0.2000\n",
      "Epoch 13/15\n",
      " - 7s - loss: 7.0971 - acc: 0.1816 - val_loss: 6.6287 - val_acc: 0.2000\n",
      "Epoch 14/15\n",
      " - 7s - loss: 8.2954 - acc: 0.1962 - val_loss: 6.5357 - val_acc: 0.2000\n",
      "Epoch 15/15\n",
      " - 6s - loss: 8.4503 - acc: 0.2180 - val_loss: 6.5284 - val_acc: 0.3000\n"
     ]
    },
    {
     "data": {
      "text/plain": [
       "<keras.callbacks.History at 0x1d501890470>"
      ]
     },
     "execution_count": 28,
     "metadata": {},
     "output_type": "execute_result"
    }
   ],
   "source": [
    "model.fit_generator(train_batches, steps_per_epoch=3, \n",
    "                    validation_data = valid_batches, validation_steps=1, \n",
    "                    epochs=15, verbose=2)"
   ]
  },
  {
   "cell_type": "markdown",
   "metadata": {},
   "source": [
    "Accuracy increases first and then falls, and there is over-fitting."
   ]
  },
  {
   "cell_type": "markdown",
   "metadata": {},
   "source": [
    "### 4.3"
   ]
  },
  {
   "cell_type": "code",
   "execution_count": 53,
   "metadata": {},
   "outputs": [],
   "source": [
    "# set up model\n",
    "\n",
    "model = Sequential()\n",
    "\n",
    "model.add(Conv2D(32, (3, 3), input_shape=(224, 224, 3)))\n",
    "model.add(Activation('linear'))\n",
    "model.add(MaxPooling2D(pool_size=(2, 2)))\n",
    "model.add(Dropout(0.5))\n",
    "\n",
    "model.add(Conv2D(32, (3, 3)))\n",
    "model.add(Activation('linear'))\n",
    "model.add(MaxPooling2D(pool_size=(2, 2)))\n",
    "model.add(Dropout(0.5))\n",
    "\n",
    "model.add(Conv2D(64, (3, 3)))\n",
    "model.add(Activation('linear'))\n",
    "model.add(MaxPooling2D(pool_size=(2, 2)))\n",
    "model.add(Dropout(0.5))\n",
    "\n",
    "model.add(Flatten())\n",
    "model.add(Dense(96))\n",
    "model.add(Activation('linear'))\n",
    "model.add(Dropout(0.5))\n",
    "\n",
    "model.add(Dense(nClass))\n",
    "model.add(Activation('linear'))\n",
    "\n",
    "model.compile(loss='categorical_crossentropy',\n",
    "              optimizer='rmsprop',\n",
    "              metrics=['accuracy'])"
   ]
  },
  {
   "cell_type": "code",
   "execution_count": 54,
   "metadata": {},
   "outputs": [
    {
     "name": "stdout",
     "output_type": "stream",
     "text": [
      "Epoch 1/5\n",
      " - 8s - loss: 6.8164 - acc: 0.2778 - val_loss: 9.6709 - val_acc: 0.2000\n",
      "Epoch 2/5\n",
      " - 6s - loss: 7.0408 - acc: 0.1667 - val_loss: 6.4472 - val_acc: 0.3000\n",
      "Epoch 3/5\n",
      " - 7s - loss: 8.3007 - acc: 0.2889 - val_loss: 9.6754 - val_acc: 0.2000\n",
      "Epoch 4/5\n",
      " - 6s - loss: 7.2554 - acc: 0.2333 - val_loss: 6.4472 - val_acc: 0.2000\n",
      "Epoch 5/5\n",
      " - 6s - loss: 8.2776 - acc: 0.2444 - val_loss: 9.6709 - val_acc: 0.2000\n"
     ]
    },
    {
     "data": {
      "text/plain": [
       "<keras.callbacks.History at 0x232a2797ba8>"
      ]
     },
     "execution_count": 54,
     "metadata": {},
     "output_type": "execute_result"
    }
   ],
   "source": [
    "model.fit_generator(train_batches, steps_per_epoch=3, \n",
    "                    validation_data = valid_batches, validation_steps=1, \n",
    "                    epochs=5, verbose=2)"
   ]
  },
  {
   "cell_type": "code",
   "execution_count": 55,
   "metadata": {
    "scrolled": true
   },
   "outputs": [
    {
     "name": "stdout",
     "output_type": "stream",
     "text": [
      "Epoch 1/20\n",
      " - 6s - loss: 8.6239 - acc: 0.2556 - val_loss: 9.6709 - val_acc: 0.2000\n",
      "Epoch 2/20\n",
      " - 7s - loss: 8.5089 - acc: 0.2444 - val_loss: 6.4472 - val_acc: 0.2000\n",
      "Epoch 3/20\n",
      " - 8s - loss: 8.3724 - acc: 0.2000 - val_loss: 6.4472 - val_acc: 0.4000\n",
      "Epoch 4/20\n",
      " - 8s - loss: 7.3477 - acc: 0.2111 - val_loss: 6.4472 - val_acc: 0.2000\n",
      "Epoch 5/20\n",
      " - 8s - loss: 8.2221 - acc: 0.1444 - val_loss: 6.4524 - val_acc: 0.2000\n",
      "Epoch 6/20\n",
      " - 8s - loss: 8.9225 - acc: 0.1889 - val_loss: 9.6709 - val_acc: 0.3000\n",
      "Epoch 7/20\n",
      " - 8s - loss: 8.0150 - acc: 0.2111 - val_loss: 6.6162 - val_acc: 0.2000\n",
      "Epoch 8/20\n",
      " - 8s - loss: 7.6775 - acc: 0.2778 - val_loss: 6.4472 - val_acc: 0.2000\n",
      "Epoch 9/20\n",
      " - 8s - loss: 7.2154 - acc: 0.2111 - val_loss: 12.8945 - val_acc: 0.2000\n",
      "Epoch 10/20\n",
      " - 8s - loss: 8.5419 - acc: 0.2000 - val_loss: 9.6709 - val_acc: 0.2000\n",
      "Epoch 11/20\n",
      " - 7s - loss: 8.4959 - acc: 0.2444 - val_loss: 9.6709 - val_acc: 0.2000\n",
      "Epoch 12/20\n",
      " - 8s - loss: 8.0216 - acc: 0.2111 - val_loss: 6.9128 - val_acc: 0.2000\n",
      "Epoch 13/20\n",
      " - 8s - loss: 7.6193 - acc: 0.1444 - val_loss: 6.4472 - val_acc: 0.2000\n",
      "Epoch 14/20\n",
      " - 8s - loss: 9.5905 - acc: 0.2333 - val_loss: 9.6709 - val_acc: 0.2000\n",
      "Epoch 15/20\n",
      " - 7s - loss: 9.0544 - acc: 0.1444 - val_loss: 9.6709 - val_acc: 0.2000\n",
      "Epoch 16/20\n",
      " - 8s - loss: 7.4241 - acc: 0.2111 - val_loss: 6.4901 - val_acc: 0.2000\n",
      "Epoch 17/20\n",
      " - 7s - loss: 8.8854 - acc: 0.2556 - val_loss: 6.4472 - val_acc: 0.4000\n",
      "Epoch 18/20\n",
      " - 7s - loss: 8.0786 - acc: 0.2111 - val_loss: 9.6709 - val_acc: 0.5000\n",
      "Epoch 19/20\n",
      " - 8s - loss: 9.1873 - acc: 0.2333 - val_loss: 9.6709 - val_acc: 0.2000\n",
      "Epoch 20/20\n",
      " - 7s - loss: 9.1771 - acc: 0.1667 - val_loss: 9.6709 - val_acc: 0.2000\n"
     ]
    },
    {
     "data": {
      "text/plain": [
       "<keras.callbacks.History at 0x232a2797438>"
      ]
     },
     "execution_count": 55,
     "metadata": {},
     "output_type": "execute_result"
    }
   ],
   "source": [
    "model.fit_generator(train_batches, steps_per_epoch=3, \n",
    "                    validation_data = valid_batches, validation_steps=1, \n",
    "                    epochs=20, verbose=2)"
   ]
  },
  {
   "cell_type": "markdown",
   "metadata": {},
   "source": [
    "Accuracy increases first and then falls, and there is over-fitting."
   ]
  },
  {
   "cell_type": "markdown",
   "metadata": {},
   "source": [
    "https://www.zhihu.com/question/43673341\n",
    "\n",
    "More epoch words allow us to clearly see the various stages of training and find the time to best fit."
   ]
  },
  {
   "cell_type": "markdown",
   "metadata": {},
   "source": [
    "Epochs | Accuracy\n",
    "------------- | ------------- \n",
    "1： 5 |  0.2478\n",
    "1：10 |  0.2921\n",
    "2：10 |  0.2489\n",
    "2：15 |  0.2289\n",
    "3： 5 |  0.2889\n",
    "3：20 |  0.2778\n"
   ]
  },
  {
   "cell_type": "markdown",
   "metadata": {},
   "source": [
    "## Part 5: - Gradient estimation"
   ]
  },
  {
   "cell_type": "markdown",
   "metadata": {},
   "source": [
    "On _your Deep Learning model data_ \n",
    "* Change the gradient estimation (use at least two). How does it effect the accuracy?\n",
    "* How does it effect how quickly the network plateaus?\n",
    "* Various forms of gradient estimation:\n",
    "-\tStochastic Gradient Descent  \n",
    "-\tAdagrad  \n",
    "-\tRMSProp  \n",
    "-\tADAM  \n",
    "-\tNAG  \n",
    "-\tAdadelta  \n",
    "-\tMomentum  "
   ]
  },
  {
   "cell_type": "markdown",
   "metadata": {},
   "source": [
    "https://keras.io/optimizers/\n",
    "\n",
    "An optimizer is one of the two arguments required for compiling a Keras model.\n",
    "\n",
    "https://blog.csdn.net/aliceyangxi1987/article/details/73210204\n",
    "\n"
   ]
  },
  {
   "cell_type": "code",
   "execution_count": 29,
   "metadata": {},
   "outputs": [],
   "source": [
    "from keras import optimizers"
   ]
  },
  {
   "cell_type": "markdown",
   "metadata": {},
   "source": [
    "### 5.1 SGD\n",
    "keras.optimizers.SGD(lr=0.01, momentum=0.0, decay=0.0, nesterov=False)\n",
    "\n",
    "Stochastic gradient descent optimizer.\n",
    "\n",
    "Includes support for momentum, learning rate decay, and Nesterov momentum.\n",
    "\n",
    "Arguments\n",
    "\n",
    "lr: float >= 0. Learning rate.\n",
    "\n",
    "momentum: float >= 0. Parameter that accelerates SGD in the relevant direction and dampens oscillations.\n",
    "\n",
    "decay: float >= 0. Learning rate decay over each update.\n",
    "\n",
    "nesterov: boolean. Whether to apply Nesterov momentum."
   ]
  },
  {
   "cell_type": "code",
   "execution_count": 64,
   "metadata": {},
   "outputs": [],
   "source": [
    "# set up model\n",
    "\n",
    "model = Sequential()\n",
    "\n",
    "model.add(Conv2D(32, (3, 3), input_shape=(224, 224, 3)))\n",
    "model.add(Activation('linear'))\n",
    "model.add(MaxPooling2D(pool_size=(2, 2)))\n",
    "model.add(Dropout(0.5))\n",
    "\n",
    "model.add(Conv2D(32, (3, 3)))\n",
    "model.add(Activation('linear'))\n",
    "model.add(MaxPooling2D(pool_size=(2, 2)))\n",
    "model.add(Dropout(0.5))\n",
    "\n",
    "model.add(Conv2D(64, (3, 3)))\n",
    "model.add(Activation('linear'))\n",
    "model.add(MaxPooling2D(pool_size=(2, 2)))\n",
    "model.add(Dropout(0.5))\n",
    "\n",
    "model.add(Flatten())\n",
    "model.add(Dense(96))\n",
    "model.add(Activation('linear'))\n",
    "model.add(Dropout(0.5))\n",
    "\n",
    "model.add(Dense(nClass))\n",
    "model.add(Activation('linear'))\n",
    "\n",
    "model.compile(loss='categorical_crossentropy',\n",
    "              optimizer='sgd',\n",
    "              metrics=['accuracy'])"
   ]
  },
  {
   "cell_type": "code",
   "execution_count": 65,
   "metadata": {},
   "outputs": [
    {
     "name": "stdout",
     "output_type": "stream",
     "text": [
      "Epoch 1/10\n",
      " - 9s - loss: 5.3387 - acc: 0.1667 - val_loss: 4.2187 - val_acc: 0.2000\n",
      "Epoch 2/10\n",
      " - 8s - loss: 4.2642 - acc: 0.2000 - val_loss: 4.1474 - val_acc: 0.2000\n",
      "Epoch 3/10\n",
      " - 7s - loss: 4.1643 - acc: 0.2000 - val_loss: 4.0465 - val_acc: 0.2000\n",
      "Epoch 4/10\n",
      " - 8s - loss: 4.0378 - acc: 0.2000 - val_loss: 3.8803 - val_acc: 0.2000\n",
      "Epoch 5/10\n",
      " - 7s - loss: 3.8541 - acc: 0.2000 - val_loss: 3.2664 - val_acc: 0.2000\n",
      "Epoch 6/10\n",
      " - 7s - loss: 5.0887 - acc: 0.2000 - val_loss: 12.8945 - val_acc: 0.2000\n",
      "Epoch 7/10\n",
      " - 7s - loss: 7.7818 - acc: 0.2000 - val_loss: 12.8945 - val_acc: 0.2000\n",
      "Epoch 8/10\n",
      " - 8s - loss: 8.5335 - acc: 0.2000 - val_loss: 12.8945 - val_acc: 0.2000\n",
      "Epoch 9/10\n",
      " - 7s - loss: 9.2257 - acc: 0.2000 - val_loss: 12.8945 - val_acc: 0.2000\n",
      "Epoch 10/10\n",
      " - 7s - loss: 8.8048 - acc: 0.2000 - val_loss: 6.9737 - val_acc: 0.2000\n"
     ]
    },
    {
     "data": {
      "text/plain": [
       "<keras.callbacks.History at 0x232a9464160>"
      ]
     },
     "execution_count": 65,
     "metadata": {},
     "output_type": "execute_result"
    }
   ],
   "source": [
    "model.fit_generator(train_batches, steps_per_epoch=3, \n",
    "                    validation_data = valid_batches, validation_steps=1, \n",
    "                    epochs=10, verbose=2)"
   ]
  },
  {
   "cell_type": "markdown",
   "metadata": {},
   "source": [
    "No significant change in accuracy"
   ]
  },
  {
   "cell_type": "markdown",
   "metadata": {},
   "source": [
    "### 5.2 Adagrad\n",
    "keras.optimizers.Adagrad(lr=0.01, epsilon=None, decay=0.0)\n",
    "Adagrad optimizer.\n",
    "\n",
    "Adagrad is an optimizer with parameter-specific learning rates, which are adapted relative to how frequently a parameter gets updated during training. The more updates a parameter receives, the smaller the learning rate.\n",
    "\n",
    "It is recommended to leave the parameters of this optimizer at their default values.\n",
    "\n",
    "Arguments\n",
    "\n",
    "lr: float >= 0. Initial learning rate.\n",
    "\n",
    "epsilon: float >= 0. If None, defaults to K.epsilon().\n",
    "\n",
    "decay: float >= 0. Learning rate decay over each update."
   ]
  },
  {
   "cell_type": "code",
   "execution_count": 66,
   "metadata": {},
   "outputs": [],
   "source": [
    "# set up model\n",
    "\n",
    "model = Sequential()\n",
    "\n",
    "model.add(Conv2D(32, (3, 3), input_shape=(224, 224, 3)))\n",
    "model.add(Activation('linear'))\n",
    "model.add(MaxPooling2D(pool_size=(2, 2)))\n",
    "model.add(Dropout(0.5))\n",
    "\n",
    "model.add(Conv2D(32, (3, 3)))\n",
    "model.add(Activation('linear'))\n",
    "model.add(MaxPooling2D(pool_size=(2, 2)))\n",
    "model.add(Dropout(0.5))\n",
    "\n",
    "model.add(Conv2D(64, (3, 3)))\n",
    "model.add(Activation('linear'))\n",
    "model.add(MaxPooling2D(pool_size=(2, 2)))\n",
    "model.add(Dropout(0.5))\n",
    "\n",
    "model.add(Flatten())\n",
    "model.add(Dense(96))\n",
    "model.add(Activation('linear'))\n",
    "model.add(Dropout(0.5))\n",
    "\n",
    "model.add(Dense(nClass))\n",
    "model.add(Activation('linear'))\n",
    "\n",
    "model.compile(loss='categorical_crossentropy',\n",
    "              optimizer='adagrad',\n",
    "              metrics=['accuracy'])"
   ]
  },
  {
   "cell_type": "code",
   "execution_count": 67,
   "metadata": {},
   "outputs": [
    {
     "name": "stdout",
     "output_type": "stream",
     "text": [
      "Epoch 1/10\n",
      " - 9s - loss: 6.9329 - acc: 0.1889 - val_loss: 6.7955 - val_acc: 0.2000\n",
      "Epoch 2/10\n",
      " - 7s - loss: 4.9805 - acc: 0.2222 - val_loss: 4.0429 - val_acc: 0.4000\n",
      "Epoch 3/10\n",
      " - 8s - loss: 3.9112 - acc: 0.2667 - val_loss: 3.4125 - val_acc: 0.6000\n",
      "Epoch 4/10\n",
      " - 8s - loss: 5.6393 - acc: 0.2778 - val_loss: 12.8945 - val_acc: 0.4000\n",
      "Epoch 5/10\n",
      " - 8s - loss: 9.8935 - acc: 0.2778 - val_loss: 12.8945 - val_acc: 0.4000\n",
      "Epoch 6/10\n",
      " - 7s - loss: 11.0290 - acc: 0.2333 - val_loss: 9.8582 - val_acc: 0.4000\n",
      "Epoch 7/10\n",
      " - 7s - loss: 8.9878 - acc: 0.2333 - val_loss: 9.6709 - val_acc: 0.2000\n",
      "Epoch 8/10\n",
      " - 7s - loss: 9.3770 - acc: 0.2778 - val_loss: 9.6709 - val_acc: 0.2000\n",
      "Epoch 9/10\n",
      " - 8s - loss: 8.7942 - acc: 0.2333 - val_loss: 9.6709 - val_acc: 0.2000\n",
      "Epoch 10/10\n",
      " - 8s - loss: 8.3229 - acc: 0.2889 - val_loss: 9.6709 - val_acc: 0.2000\n"
     ]
    },
    {
     "data": {
      "text/plain": [
       "<keras.callbacks.History at 0x232aebe2ac8>"
      ]
     },
     "execution_count": 67,
     "metadata": {},
     "output_type": "execute_result"
    }
   ],
   "source": [
    "model.fit_generator(train_batches, steps_per_epoch=3, \n",
    "                    validation_data = valid_batches, validation_steps=1, \n",
    "                    epochs=10, verbose=2)"
   ]
  },
  {
   "cell_type": "markdown",
   "metadata": {},
   "source": [
    "Accuracy increases first and then decreases, and there is over-fitting."
   ]
  },
  {
   "cell_type": "markdown",
   "metadata": {},
   "source": [
    "### 5.3 Adadelta\n",
    "keras.optimizers.Adadelta(lr=1.0, rho=0.95, epsilon=None, decay=0.0)\n",
    "Adadelta optimizer.\n",
    "\n",
    "Adadelta is a more robust extension of Adagrad that adapts learning rates based on a moving window of gradient updates, instead of accumulating all past gradients. This way, Adadelta continues learning even when many updates have been done. Compared to Adagrad, in the original version of Adadelta you don't have to set an initial learning rate. In this version, initial learning rate and decay factor can be set, as in most other Keras optimizers.\n",
    "\n",
    "It is recommended to leave the parameters of this optimizer at their default values.\n",
    "\n",
    "Arguments\n",
    "\n",
    "lr: float >= 0. Initial learning rate, defaults to 1. It is recommended to leave it at the default value.\n",
    "\n",
    "rho: float >= 0. Adadelta decay factor, corresponding to fraction of gradient to keep at each time step.\n",
    "\n",
    "epsilon: float >= 0. Fuzz factor. If None, defaults to K.epsilon().\n",
    "\n",
    "decay: float >= 0. Initial learning rate decay."
   ]
  },
  {
   "cell_type": "code",
   "execution_count": 68,
   "metadata": {},
   "outputs": [],
   "source": [
    "# set up model\n",
    "\n",
    "model = Sequential()\n",
    "\n",
    "model.add(Conv2D(32, (3, 3), input_shape=(224, 224, 3)))\n",
    "model.add(Activation('linear'))\n",
    "model.add(MaxPooling2D(pool_size=(2, 2)))\n",
    "model.add(Dropout(0.5))\n",
    "\n",
    "model.add(Conv2D(32, (3, 3)))\n",
    "model.add(Activation('linear'))\n",
    "model.add(MaxPooling2D(pool_size=(2, 2)))\n",
    "model.add(Dropout(0.5))\n",
    "\n",
    "model.add(Conv2D(64, (3, 3)))\n",
    "model.add(Activation('linear'))\n",
    "model.add(MaxPooling2D(pool_size=(2, 2)))\n",
    "model.add(Dropout(0.5))\n",
    "\n",
    "model.add(Flatten())\n",
    "model.add(Dense(96))\n",
    "model.add(Activation('linear'))\n",
    "model.add(Dropout(0.5))\n",
    "\n",
    "model.add(Dense(nClass))\n",
    "model.add(Activation('linear'))\n",
    "\n",
    "model.compile(loss='categorical_crossentropy',\n",
    "              optimizer='adadelta',\n",
    "              metrics=['accuracy'])"
   ]
  },
  {
   "cell_type": "code",
   "execution_count": 69,
   "metadata": {},
   "outputs": [
    {
     "name": "stdout",
     "output_type": "stream",
     "text": [
      "Epoch 1/10\n",
      " - 9s - loss: 4.3051 - acc: 0.1222 - val_loss: 1.5670 - val_acc: 0.4000\n",
      "Epoch 2/10\n",
      " - 7s - loss: 1.6939 - acc: 0.2667 - val_loss: 1.6964 - val_acc: 0.2000\n",
      "Epoch 3/10\n",
      " - 7s - loss: 2.1190 - acc: 0.1778 - val_loss: 1.5963 - val_acc: 0.2000\n",
      "Epoch 4/10\n",
      " - 7s - loss: 1.5832 - acc: 0.2000 - val_loss: 1.5601 - val_acc: 0.2000\n",
      "Epoch 5/10\n",
      " - 6s - loss: 1.5552 - acc: 0.2778 - val_loss: 1.5290 - val_acc: 0.2000\n",
      "Epoch 6/10\n",
      " - 7s - loss: 1.5821 - acc: 0.2222 - val_loss: 1.5029 - val_acc: 0.2000\n",
      "Epoch 7/10\n",
      " - 8s - loss: 1.5535 - acc: 0.2889 - val_loss: 1.4847 - val_acc: 0.5000\n",
      "Epoch 8/10\n",
      " - 7s - loss: 1.5530 - acc: 0.3222 - val_loss: 1.4762 - val_acc: 0.3000\n",
      "Epoch 9/10\n",
      " - 7s - loss: 1.5236 - acc: 0.2778 - val_loss: 1.4506 - val_acc: 0.5000\n",
      "Epoch 10/10\n",
      " - 7s - loss: 1.5183 - acc: 0.2333 - val_loss: 1.4231 - val_acc: 0.5000\n"
     ]
    },
    {
     "data": {
      "text/plain": [
       "<keras.callbacks.History at 0x232af26e860>"
      ]
     },
     "execution_count": 69,
     "metadata": {},
     "output_type": "execute_result"
    }
   ],
   "source": [
    "model.fit_generator(train_batches, steps_per_epoch=3, \n",
    "                    validation_data = valid_batches, validation_steps=1, \n",
    "                    epochs=10, verbose=2)"
   ]
  },
  {
   "cell_type": "markdown",
   "metadata": {},
   "source": [
    "The accuracy rate is gradually increasing."
   ]
  },
  {
   "cell_type": "markdown",
   "metadata": {},
   "source": [
    "### 5.4 Adamax\n",
    "keras.optimizers.Adamax(lr=0.002, beta_1=0.9, beta_2=0.999, epsilon=None, decay=0.0)\n",
    "Adamax optimizer from Adam paper's Section 7.\n",
    "\n",
    "It is a variant of Adam based on the infinity norm. Default parameters follow those provided in the paper.\n",
    "\n",
    "Arguments\n",
    "\n",
    "lr: float >= 0. Learning rate.\n",
    "\n",
    "beta_1: floats, 0 < beta < 1. Generally close to 1.\n",
    "\n",
    "beta_2: floats, 0 < beta < 1. Generally close to 1.\n",
    "\n",
    "epsilon: float >= 0. Fuzz factor. If None, defaults to K.epsilon().\n",
    "\n",
    "decay: float >= 0. Learning rate decay over each update."
   ]
  },
  {
   "cell_type": "code",
   "execution_count": 71,
   "metadata": {},
   "outputs": [],
   "source": [
    "# set up model\n",
    "\n",
    "model = Sequential()\n",
    "\n",
    "model.add(Conv2D(32, (3, 3), input_shape=(224, 224, 3)))\n",
    "model.add(Activation('linear'))\n",
    "model.add(MaxPooling2D(pool_size=(2, 2)))\n",
    "model.add(Dropout(0.5))\n",
    "\n",
    "model.add(Conv2D(32, (3, 3)))\n",
    "model.add(Activation('linear'))\n",
    "model.add(MaxPooling2D(pool_size=(2, 2)))\n",
    "model.add(Dropout(0.5))\n",
    "\n",
    "model.add(Conv2D(64, (3, 3)))\n",
    "model.add(Activation('linear'))\n",
    "model.add(MaxPooling2D(pool_size=(2, 2)))\n",
    "model.add(Dropout(0.5))\n",
    "\n",
    "model.add(Flatten())\n",
    "model.add(Dense(96))\n",
    "model.add(Activation('linear'))\n",
    "model.add(Dropout(0.5))\n",
    "\n",
    "model.add(Dense(nClass))\n",
    "model.add(Activation('linear'))\n",
    "\n",
    "model.compile(loss='categorical_crossentropy',\n",
    "              optimizer='adamax',\n",
    "              metrics=['accuracy'])"
   ]
  },
  {
   "cell_type": "code",
   "execution_count": 70,
   "metadata": {},
   "outputs": [
    {
     "name": "stdout",
     "output_type": "stream",
     "text": [
      "Epoch 1/10\n",
      " - 7s - loss: 1.4794 - acc: 0.4222 - val_loss: 1.3901 - val_acc: 0.6000\n",
      "Epoch 2/10\n",
      " - 7s - loss: 1.4647 - acc: 0.4000 - val_loss: 1.3430 - val_acc: 0.7000\n",
      "Epoch 3/10\n",
      " - 7s - loss: 1.3814 - acc: 0.4778 - val_loss: 1.2603 - val_acc: 0.8000\n",
      "Epoch 4/10\n",
      " - 8s - loss: 1.3332 - acc: 0.5111 - val_loss: 1.0767 - val_acc: 0.9000\n",
      "Epoch 5/10\n",
      " - 8s - loss: 1.2316 - acc: 0.6000 - val_loss: 1.1921e-07 - val_acc: 0.8000\n",
      "Epoch 6/10\n",
      " - 7s - loss: 4.1487 - acc: 0.5000 - val_loss: 1.8056 - val_acc: 0.7000\n",
      "Epoch 7/10\n",
      " - 7s - loss: 2.7950 - acc: 0.4222 - val_loss: 1.6946 - val_acc: 0.6000\n",
      "Epoch 8/10\n",
      " - 7s - loss: 1.9889 - acc: 0.3667 - val_loss: 1.6649 - val_acc: 0.6000\n",
      "Epoch 9/10\n",
      " - 7s - loss: 1.7517 - acc: 0.2889 - val_loss: 1.6349 - val_acc: 0.4000\n",
      "Epoch 10/10\n",
      " - 8s - loss: 1.7760 - acc: 0.3778 - val_loss: 1.6137 - val_acc: 0.2000\n"
     ]
    },
    {
     "data": {
      "text/plain": [
       "<keras.callbacks.History at 0x232af3c0ba8>"
      ]
     },
     "execution_count": 70,
     "metadata": {},
     "output_type": "execute_result"
    }
   ],
   "source": [
    "model.fit_generator(train_batches, steps_per_epoch=3, \n",
    "                    validation_data = valid_batches, validation_steps=1, \n",
    "                    epochs=10, verbose=2)"
   ]
  },
  {
   "cell_type": "markdown",
   "metadata": {},
   "source": [
    "The accuracy is very high, maybe this is the model we are looking for!\n",
    "The accuracy first rises and then falls, and there is over-fitting."
   ]
  },
  {
   "cell_type": "markdown",
   "metadata": {},
   "source": [
    "### 5.5 Nadam\n",
    "keras.optimizers.Nadam(lr=0.002, beta_1=0.9, beta_2=0.999, epsilon=None, schedule_decay=0.004)\n",
    "Nesterov Adam optimizer.\n",
    "\n",
    "Much like Adam is essentially RMSprop with momentum, Nadam is Adam RMSprop with Nesterov momentum.\n",
    "\n",
    "Default parameters follow those provided in the paper. It is recommended to leave the parameters of this optimizer at their default values.\n",
    "\n",
    "Arguments\n",
    "\n",
    "lr: float >= 0. Learning rate.\n",
    "beta_1: floats, 0 < beta < 1. Generally close to 1.\n",
    "beta_2: floats, 0 < beta < 1. Generally close to 1.\n",
    "epsilon: float >= 0. Fuzz factor. If None, defaults to K.epsilon().\n",
    "schedule_decay: floats, 0 < schedule_decay < 1."
   ]
  },
  {
   "cell_type": "code",
   "execution_count": 73,
   "metadata": {},
   "outputs": [],
   "source": [
    "# set up model\n",
    "\n",
    "model = Sequential()\n",
    "\n",
    "model.add(Conv2D(32, (3, 3), input_shape=(224, 224, 3)))\n",
    "model.add(Activation('linear'))\n",
    "model.add(MaxPooling2D(pool_size=(2, 2)))\n",
    "model.add(Dropout(0.5))\n",
    "\n",
    "model.add(Conv2D(32, (3, 3)))\n",
    "model.add(Activation('linear'))\n",
    "model.add(MaxPooling2D(pool_size=(2, 2)))\n",
    "model.add(Dropout(0.5))\n",
    "\n",
    "model.add(Conv2D(64, (3, 3)))\n",
    "model.add(Activation('linear'))\n",
    "model.add(MaxPooling2D(pool_size=(2, 2)))\n",
    "model.add(Dropout(0.5))\n",
    "\n",
    "model.add(Flatten())\n",
    "model.add(Dense(96))\n",
    "model.add(Activation('linear'))\n",
    "model.add(Dropout(0.5))\n",
    "\n",
    "model.add(Dense(nClass))\n",
    "model.add(Activation('linear'))\n",
    "\n",
    "model.compile(loss='categorical_crossentropy',\n",
    "              optimizer='nadam',\n",
    "              metrics=['accuracy'])"
   ]
  },
  {
   "cell_type": "code",
   "execution_count": 74,
   "metadata": {},
   "outputs": [
    {
     "name": "stdout",
     "output_type": "stream",
     "text": [
      "Epoch 1/10\n",
      " - 10s - loss: 7.7452 - acc: 0.2222 - val_loss: 6.8531 - val_acc: 0.2000\n",
      "Epoch 2/10\n",
      " - 8s - loss: 8.0865 - acc: 0.2000 - val_loss: 6.9109 - val_acc: 0.2000\n",
      "Epoch 3/10\n",
      " - 7s - loss: 8.9732 - acc: 0.1778 - val_loss: 6.8393 - val_acc: 0.2000\n",
      "Epoch 4/10\n",
      " - 7s - loss: 8.5009 - acc: 0.2222 - val_loss: 4.2457 - val_acc: 0.2000\n",
      "Epoch 5/10\n",
      " - 7s - loss: 7.3183 - acc: 0.2333 - val_loss: 6.6649 - val_acc: 0.2000\n",
      "Epoch 6/10\n",
      " - 7s - loss: 7.6456 - acc: 0.2889 - val_loss: 9.6709 - val_acc: 0.2000\n",
      "Epoch 7/10\n",
      " - 7s - loss: 7.2969 - acc: 0.1889 - val_loss: 6.6293 - val_acc: 0.2000\n",
      "Epoch 8/10\n",
      " - 7s - loss: 7.2578 - acc: 0.2000 - val_loss: 6.4472 - val_acc: 0.2000\n",
      "Epoch 9/10\n",
      " - 7s - loss: 8.7801 - acc: 0.2000 - val_loss: 9.6709 - val_acc: 0.2000\n",
      "Epoch 10/10\n",
      " - 7s - loss: 8.8266 - acc: 0.2444 - val_loss: 6.5873 - val_acc: 0.2000\n"
     ]
    },
    {
     "data": {
      "text/plain": [
       "<keras.callbacks.History at 0x232b6636390>"
      ]
     },
     "execution_count": 74,
     "metadata": {},
     "output_type": "execute_result"
    }
   ],
   "source": [
    "model.fit_generator(train_batches, steps_per_epoch=3, \n",
    "                    validation_data = valid_batches, validation_steps=1, \n",
    "                    epochs=10, verbose=2)"
   ]
  },
  {
   "cell_type": "markdown",
   "metadata": {},
   "source": [
    "There is no significant change in the accuracy rate.\n",
    "\n"
   ]
  },
  {
   "cell_type": "markdown",
   "metadata": {},
   "source": [
    "### 5.6 RMSprop\n",
    "keras.optimizers.RMSprop(lr=0.001, rho=0.9, epsilon=None, decay=0.0)\n",
    "RMSProp optimizer.\n",
    "\n",
    "It is recommended to leave the parameters of this optimizer at their default values (except the learning rate, which can be freely tuned).\n",
    "\n",
    "This optimizer is usually a good choice for recurrent neural networks.\n",
    "\n",
    "Arguments\n",
    "\n",
    "lr: float >= 0. Learning rate.\n",
    "rho: float >= 0.\n",
    "epsilon: float >= 0. Fuzz factor. If None, defaults to K.epsilon().\n",
    "decay: float >= 0. Learning rate decay over each update."
   ]
  },
  {
   "cell_type": "code",
   "execution_count": 61,
   "metadata": {},
   "outputs": [],
   "source": [
    "# set up model\n",
    "\n",
    "model = Sequential()\n",
    "\n",
    "model.add(Conv2D(32, (3, 3), input_shape=(224, 224, 3)))\n",
    "model.add(Activation('linear'))\n",
    "model.add(MaxPooling2D(pool_size=(2, 2)))\n",
    "model.add(Dropout(0.5))\n",
    "\n",
    "model.add(Conv2D(32, (3, 3)))\n",
    "model.add(Activation('linear'))\n",
    "model.add(MaxPooling2D(pool_size=(2, 2)))\n",
    "model.add(Dropout(0.5))\n",
    "\n",
    "model.add(Conv2D(64, (3, 3)))\n",
    "model.add(Activation('linear'))\n",
    "model.add(MaxPooling2D(pool_size=(2, 2)))\n",
    "model.add(Dropout(0.5))\n",
    "\n",
    "model.add(Flatten())\n",
    "model.add(Dense(96))\n",
    "model.add(Activation('linear'))\n",
    "model.add(Dropout(0.5))\n",
    "\n",
    "model.add(Dense(nClass))\n",
    "model.add(Activation('linear'))\n",
    "\n",
    "model.compile(loss='categorical_crossentropy',\n",
    "              optimizer='rmsprop',\n",
    "              metrics=['accuracy'])"
   ]
  },
  {
   "cell_type": "code",
   "execution_count": 62,
   "metadata": {},
   "outputs": [
    {
     "name": "stdout",
     "output_type": "stream",
     "text": [
      "Epoch 1/15\n",
      " - 9s - loss: 7.7845 - acc: 0.1889 - val_loss: 6.7648 - val_acc: 0.2000\n",
      "Epoch 2/15\n",
      " - 7s - loss: 6.6017 - acc: 0.2111 - val_loss: 3.8389 - val_acc: 0.2000\n",
      "Epoch 3/15\n",
      " - 7s - loss: 5.2332 - acc: 0.2000 - val_loss: 10.1581 - val_acc: 0.2000\n",
      "Epoch 4/15\n",
      " - 7s - loss: 7.3467 - acc: 0.2000 - val_loss: 6.6217 - val_acc: 0.2000\n",
      "Epoch 5/15\n",
      " - 8s - loss: 7.8568 - acc: 0.2111 - val_loss: 6.5759 - val_acc: 0.2000\n",
      "Epoch 6/15\n",
      " - 7s - loss: 6.8356 - acc: 0.2000 - val_loss: 8.0590 - val_acc: 0.2000\n",
      "Epoch 7/15\n",
      " - 7s - loss: 7.5624 - acc: 0.2000 - val_loss: 9.6709 - val_acc: 0.2000\n",
      "Epoch 8/15\n",
      " - 7s - loss: 8.7764 - acc: 0.2000 - val_loss: 9.6709 - val_acc: 0.2000\n",
      "Epoch 9/15\n",
      " - 7s - loss: 8.1474 - acc: 0.2000 - val_loss: 9.6709 - val_acc: 0.2000\n",
      "Epoch 10/15\n",
      " - 7s - loss: 7.2862 - acc: 0.1889 - val_loss: 6.6394 - val_acc: 0.2000\n",
      "Epoch 11/15\n",
      " - 7s - loss: 6.9314 - acc: 0.2111 - val_loss: 6.4472 - val_acc: 0.2000\n",
      "Epoch 12/15\n",
      " - 7s - loss: 8.4965 - acc: 0.2111 - val_loss: 9.6709 - val_acc: 0.2000\n",
      "Epoch 13/15\n",
      " - 7s - loss: 8.0462 - acc: 0.1667 - val_loss: 8.3646 - val_acc: 0.2000\n",
      "Epoch 14/15\n",
      " - 7s - loss: 5.8581 - acc: 0.2000 - val_loss: 3.6586 - val_acc: 0.2000\n",
      "Epoch 15/15\n",
      " - 6s - loss: 4.2907 - acc: 0.2000 - val_loss: 9.8678 - val_acc: 0.2000\n"
     ]
    },
    {
     "data": {
      "text/plain": [
       "<keras.callbacks.History at 0x232a8cb4ef0>"
      ]
     },
     "execution_count": 62,
     "metadata": {},
     "output_type": "execute_result"
    }
   ],
   "source": [
    "model.fit_generator(train_batches, steps_per_epoch=3, \n",
    "                    validation_data = valid_batches, validation_steps=1, \n",
    "                    epochs=15, verbose=2)"
   ]
  },
  {
   "cell_type": "markdown",
   "metadata": {},
   "source": [
    "There is no significant change in the accuracy rate."
   ]
  },
  {
   "cell_type": "markdown",
   "metadata": {},
   "source": [
    "https://blog.csdn.net/aliceyangxi1987/article/details/73210204\n",
    "\n",
    "\n",
    "**Batch gradient descent**\n",
    "Gradient update rules:\n",
    "BGD uses the data from the entire training set to calculate the gradient of the cost function to the parameters:\n",
    "\n",
    "Disadvantages:\n",
    "Since this method calculates the gradient for the entire data set in one update, it is very slow to calculate, and encountering a large number of data sets can be very tricky, and it is not possible to invest in new data to update the model in real time.\n",
    "\n",
    "\n",
    "**Stochastic gradient descent**\n",
    "Gradient update rules:\n",
    "Compared with BGD's once using all data calculation gradients, SGL updates each sample with a gradient update each time it is updated.\n",
    "For large data sets, there may be similar samples, so that BGD will be redundant when calculating gradients.\n",
    "While SGD is only updated once, there is no redundancy, it is faster, and samples can be added.\n",
    "\n",
    "The overall data set is a loop in which a parameter update is performed for each sample.\n",
    "\n",
    "Disadvantages:\n",
    "However, because SGD is updated more frequently, the cost function will be severely oscillated.\n",
    "\n",
    "\n",
    "**Mini-batch gradient descent**\n",
    "Gradient update rules:\n",
    "MBGD uses a small batch of samples, ie n samples, to calculate each time.\n",
    "In this way, it can reduce the variance of the parameter update, and the convergence is more stable.\n",
    "On the other hand, highly efficient matrix operations in the deep learning library can be fully utilized for more efficient gradient calculations.\n",
    "\n",
    "The difference with SGD is that each cycle does not affect every sample, but a batch with n samples.\n",
    "\n",
    "Hyperparameter setting:\n",
    "n Generally, the value is between 50 and 256.\n",
    "\n",
    "Disadvantages:\n",
    "Mini-batch gradient descent does not guarantee good convergence\n",
    "\n",
    "**Momentum**\n",
    "SGD is easily trapped in the case of ravines, where ravines are one direction of the surface steeper than the other, and SGD will oscillate and will not be able to approach the minimum:\n",
    "\n",
    "Gradient update rules:\n",
    "Momentum accelerates SGD by adding γv_t−1 and suppresses oscillation\n",
    "\n",
    "When we roll a small ball off the hill, if there is no resistance, its momentum will become larger and larger, but if it encounters resistance, the speed will become smaller.\n",
    "By adding this item, the speed in the dimension with the same gradient direction is faster, and the update speed in the dimension where the gradient direction is changed is slower, so that the convergence can be accelerated and the oscillation can be reduced.\n",
    "\n",
    "Hyperparameter setting:\n",
    "Generally, the value of γ is about 0.9.\n",
    "\n",
    "Disadvantages:\n",
    "This situation is equivalent to a small ball rolling down the mountain is blindly rolling along the slope, if it can have some prophets, such as when going uphill, know that you need to slow down, the adaptability will be better.\n",
    "\n",
    "**Nesterov Started gradient**\n",
    "Gradient update rules:\n",
    "Use θ−γv_t−1 to approximate the value that will become the next step in the parameter. When calculating the gradient, it is not at the current position, but at the future position.\n",
    "\n",
    "Hyperparameter setting:\n",
    "γ still has a value of around 0.9.\n",
    "\n",
    "**Adagrad**\n",
    "This algorithm can make a large update to the parameters of the low frequency, and make a small update to the high frequency. Therefore, it performs well for sparse data and improves the robustness of the SGD, such as recognition. The cats in the Youtube video train GloVe word embeddings because they all require a larger update on the low frequency features.\n",
    "\n",
    "The advantage of Adagrad is that it reduces the manual adjustment of the learning rate.\n",
    "\n",
    "Hyperparameter setting:\n",
    "Generally, η is taken as 0.01.\n",
    "\n",
    "Disadvantages:\n",
    "Its disadvantage is that the denominator will continue to accumulate, so that the learning rate will shrink and eventually become very small.\n",
    "\n",
    "**Adadelta**\n",
    "This algorithm is an improvement to Adagrad.\n",
    "\n",
    "Compared with Adagrad, the denominator's G is replaced by the decay average of the past gradient squares.\n",
    "\n",
    "This denominator is equivalent to the root mean square squared (RMS) of the gradient, so it can be abbreviated with RMS\n",
    "\n",
    "**RMSprop**\n",
    "RMSprop is an adaptive learning rate method proposed by Geoff Hinton.\n",
    "\n",
    "Both RMSprop and Adadelta are designed to solve the problem of a sharp drop in Adagrad learning rates.\n",
    "\n",
    "**Adam**\n",
    "This algorithm is another way to calculate the adaptive learning rate for each parameter.\n",
    "\n",
    "Except for Adadelta and RMSprop, which store the exponential decay average of the square vt of the past gradient, it also maintains the exponential decay average of the past gradient mt like momentum\n",
    "\n",
    "\n",
    "\n",
    "If the data is sparse, use the self-applied method, namely Adagrad, Adadelta, RMSprop, Adam.\n",
    "\n",
    "RMSprop, Adadelta, Adam have similar effects in many cases.\n",
    "\n",
    "Adam added bias-correction and momentum to RMSprop.\n",
    "\n",
    "As the gradient becomes sparse, Adam will perform better than RMSprop.\n",
    "\n",
    "Overall, Adam is the best choice.\n",
    "\n",
    "SGD is used in many papers, and there is no momentum. Although SGD can reach a minimum value, it takes longer than other algorithms and may be trapped at the saddle point.\n",
    "\n",
    "If you need faster convergence, or train deeper and more complex neural networks, you need an adaptive algorithm.\n"
   ]
  },
  {
   "cell_type": "markdown",
   "metadata": {},
   "source": [
    "Gradient estimation | Accuracy\n",
    "------------- | ------------- \n",
    "SGD |  0.2000\n",
    "Adagrad |  0.6000\n",
    "Adadelta |  0.5000\n",
    "Adamax |  0.9000\n",
    "Nadam |  0.2889\n",
    "RMSprop |  0.2111\n"
   ]
  },
  {
   "cell_type": "markdown",
   "metadata": {},
   "source": [
    "## Part 6: - Network Architecture"
   ]
  },
  {
   "cell_type": "markdown",
   "metadata": {},
   "source": [
    "\n",
    "On _your Deep Learning model data_ \n",
    "* Change the network architecture (use at least two). How does it effect the accuracy?\n",
    "* How does it effect how quickly the network plateaus?\n",
    "* Various forms of network architecture:\n",
    "-\tNumber of layers  \n",
    "-\tSize of each layer  \n",
    "-\tConnection type   \n",
    "-\tPre-trained components?   "
   ]
  },
  {
   "cell_type": "markdown",
   "metadata": {},
   "source": [
    "### 6.1"
   ]
  },
  {
   "cell_type": "code",
   "execution_count": 76,
   "metadata": {},
   "outputs": [],
   "source": [
    "# set up model\n",
    "\n",
    "model = Sequential()\n",
    "\n",
    "model.add(Conv2D(32, (3, 3), input_shape=(224, 224, 3)))\n",
    "model.add(Activation('linear'))\n",
    "model.add(MaxPooling2D(pool_size=(2, 2)))\n",
    "model.add(Dropout(0.5))\n",
    "\n",
    "model.add(Conv2D(32, (3, 3)))\n",
    "model.add(Activation('linear'))\n",
    "model.add(MaxPooling2D(pool_size=(2, 2)))\n",
    "model.add(Dropout(0.5))\n",
    "\n",
    "model.add(Conv2D(64, (3, 3)))\n",
    "model.add(Activation('linear'))\n",
    "model.add(MaxPooling2D(pool_size=(2, 2)))\n",
    "model.add(Dropout(0.5))\n",
    "\n",
    "model.add(Flatten())\n",
    "model.add(Dense(96))\n",
    "model.add(Activation('linear'))\n",
    "model.add(Dropout(0.5))\n",
    "\n",
    "model.add(Dense(nClass))\n",
    "model.add(Activation('linear'))\n",
    "\n",
    "model.compile(loss='categorical_crossentropy',\n",
    "              optimizer='adamax',\n",
    "              metrics=['accuracy'])"
   ]
  },
  {
   "cell_type": "code",
   "execution_count": 77,
   "metadata": {},
   "outputs": [
    {
     "name": "stdout",
     "output_type": "stream",
     "text": [
      "Epoch 1/10\n",
      " - 9s - loss: 7.4439 - acc: 0.2222 - val_loss: 9.6767 - val_acc: 0.2000\n",
      "Epoch 2/10\n",
      " - 7s - loss: 9.5831 - acc: 0.1556 - val_loss: 9.7107 - val_acc: 0.3000\n",
      "Epoch 3/10\n",
      " - 7s - loss: 8.0027 - acc: 0.1444 - val_loss: 6.7872 - val_acc: 0.2000\n",
      "Epoch 4/10\n",
      " - 7s - loss: 7.7248 - acc: 0.2111 - val_loss: 6.8532 - val_acc: 0.2000\n",
      "Epoch 5/10\n",
      " - 7s - loss: 6.9372 - acc: 0.2222 - val_loss: 6.8790 - val_acc: 0.2000\n",
      "Epoch 6/10\n",
      " - 7s - loss: 7.3525 - acc: 0.1778 - val_loss: 6.9094 - val_acc: 0.2000\n",
      "Epoch 7/10\n",
      " - 7s - loss: 6.9123 - acc: 0.2000 - val_loss: 6.8899 - val_acc: 0.2000\n",
      "Epoch 8/10\n",
      " - 8s - loss: 5.8138 - acc: 0.2222 - val_loss: 6.7519 - val_acc: 0.2000\n",
      "Epoch 9/10\n",
      " - 7s - loss: 7.5963 - acc: 0.1778 - val_loss: 4.8354 - val_acc: 0.2000\n",
      "Epoch 10/10\n",
      " - 8s - loss: 8.6351 - acc: 0.2111 - val_loss: 9.6709 - val_acc: 0.2000\n"
     ]
    },
    {
     "data": {
      "text/plain": [
       "<keras.callbacks.History at 0x232af3c0a58>"
      ]
     },
     "execution_count": 77,
     "metadata": {},
     "output_type": "execute_result"
    }
   ],
   "source": [
    "model.fit_generator(train_batches, steps_per_epoch=3, \n",
    "                    validation_data = valid_batches, validation_steps=1, \n",
    "                    epochs=10, verbose=2)"
   ]
  },
  {
   "cell_type": "markdown",
   "metadata": {},
   "source": [
    "### 6.2"
   ]
  },
  {
   "cell_type": "code",
   "execution_count": 30,
   "metadata": {},
   "outputs": [],
   "source": [
    "# set up model\n",
    "\n",
    "model = Sequential()\n",
    "\n",
    "model.add(Conv2D(32, (3, 3), input_shape=(224, 224, 3)))\n",
    "model.add(Activation('linear'))\n",
    "model.add(MaxPooling2D(pool_size=(2, 2)))\n",
    "model.add(Dropout(0.5))\n",
    "\n",
    "model.add(Conv2D(32, (3, 3)))\n",
    "model.add(Activation('linear'))\n",
    "model.add(MaxPooling2D(pool_size=(2, 2)))\n",
    "model.add(Dropout(0.5))\n",
    "\n",
    "model.add(Conv2D(64, (3, 3)))\n",
    "model.add(Activation('linear'))\n",
    "model.add(MaxPooling2D(pool_size=(2, 2)))\n",
    "model.add(Dropout(0.5))\n",
    "\n",
    "model.add(Conv2D(64, (3, 3)))\n",
    "model.add(Activation('linear'))\n",
    "model.add(MaxPooling2D(pool_size=(2, 2)))\n",
    "model.add(Dropout(0.5))\n",
    "\n",
    "model.add(Flatten())\n",
    "model.add(Dense(96))\n",
    "model.add(Activation('linear'))\n",
    "model.add(Dropout(0.5))\n",
    "\n",
    "model.add(Dense(nClass))\n",
    "model.add(Activation('linear'))\n",
    "\n",
    "model.compile(loss='categorical_crossentropy',\n",
    "              optimizer='adamax',\n",
    "              metrics=['accuracy'])"
   ]
  },
  {
   "cell_type": "code",
   "execution_count": 31,
   "metadata": {},
   "outputs": [
    {
     "name": "stdout",
     "output_type": "stream",
     "text": [
      "Epoch 1/10\n",
      " - 8s - loss: 6.2734 - acc: 0.2360 - val_loss: 4.2175 - val_acc: 0.2000\n",
      "Epoch 2/10\n",
      " - 8s - loss: 4.8767 - acc: 0.2301 - val_loss: 4.0054 - val_acc: 0.2000\n",
      "Epoch 3/10\n",
      " - 8s - loss: 4.5192 - acc: 0.1889 - val_loss: 3.8972 - val_acc: 0.2000\n",
      "Epoch 4/10\n",
      " - 8s - loss: 4.3141 - acc: 0.2594 - val_loss: 6.7509 - val_acc: 0.2000\n",
      "Epoch 5/10\n",
      " - 8s - loss: 5.4009 - acc: 0.2298 - val_loss: 6.9632 - val_acc: 0.2000\n",
      "Epoch 6/10\n",
      " - 9s - loss: 8.5859 - acc: 0.1951 - val_loss: 6.9690 - val_acc: 0.2000\n",
      "Epoch 7/10\n",
      " - 7s - loss: 9.0986 - acc: 0.2029 - val_loss: 6.9780 - val_acc: 0.2000\n",
      "Epoch 8/10\n",
      " - 8s - loss: 10.6037 - acc: 0.2478 - val_loss: 6.9678 - val_acc: 0.2000\n",
      "Epoch 9/10\n",
      " - 7s - loss: 8.8071 - acc: 0.2360 - val_loss: 6.9691 - val_acc: 0.2000\n",
      "Epoch 10/10\n",
      " - 8s - loss: 7.7770 - acc: 0.2594 - val_loss: 6.9965 - val_acc: 0.2000\n"
     ]
    },
    {
     "data": {
      "text/plain": [
       "<keras.callbacks.History at 0x1d502f79e48>"
      ]
     },
     "execution_count": 31,
     "metadata": {},
     "output_type": "execute_result"
    }
   ],
   "source": [
    "model.fit_generator(train_batches, steps_per_epoch=3, \n",
    "                    validation_data = valid_batches, validation_steps=1, \n",
    "                    epochs=10, verbose=2)"
   ]
  },
  {
   "cell_type": "markdown",
   "metadata": {},
   "source": [
    "### 6.3"
   ]
  },
  {
   "cell_type": "code",
   "execution_count": 32,
   "metadata": {},
   "outputs": [],
   "source": [
    "# set up model\n",
    "\n",
    "model = Sequential()\n",
    "\n",
    "model.add(Conv2D(32, (3, 3), input_shape=(224, 224, 3)))\n",
    "model.add(Activation('linear'))\n",
    "model.add(MaxPooling2D(pool_size=(2, 2)))\n",
    "model.add(Dropout(0.5))\n",
    "\n",
    "model.add(Conv2D(64, (3, 3)))\n",
    "model.add(Activation('linear'))\n",
    "model.add(MaxPooling2D(pool_size=(2, 2)))\n",
    "model.add(Dropout(0.5))\n",
    "\n",
    "model.add(Conv2D(128, (3, 3)))\n",
    "model.add(Activation('linear'))\n",
    "model.add(MaxPooling2D(pool_size=(2, 2)))\n",
    "model.add(Dropout(0.5))\n",
    "\n",
    "model.add(Flatten())\n",
    "model.add(Dense(96))\n",
    "model.add(Activation('linear'))\n",
    "model.add(Dropout(0.5))\n",
    "\n",
    "model.add(Dense(nClass))\n",
    "model.add(Activation('linear'))\n",
    "\n",
    "model.compile(loss='categorical_crossentropy',\n",
    "              optimizer='adamax',\n",
    "              metrics=['accuracy'])"
   ]
  },
  {
   "cell_type": "code",
   "execution_count": 33,
   "metadata": {},
   "outputs": [
    {
     "name": "stdout",
     "output_type": "stream",
     "text": [
      "Epoch 1/10\n",
      " - 14s - loss: 4.9706 - acc: 0.2616 - val_loss: 4.2125 - val_acc: 0.2000\n",
      "Epoch 2/10\n",
      " - 13s - loss: 4.6255 - acc: 0.1956 - val_loss: 4.1186 - val_acc: 0.2000\n",
      "Epoch 3/10\n",
      " - 12s - loss: 4.0889 - acc: 0.1879 - val_loss: 4.0683 - val_acc: 0.2000\n",
      "Epoch 4/10\n",
      " - 11s - loss: 4.6468 - acc: 0.2276 - val_loss: 4.0169 - val_acc: 0.2000\n",
      "Epoch 5/10\n",
      " - 11s - loss: 4.2373 - acc: 0.2056 - val_loss: 3.9610 - val_acc: 0.2000\n",
      "Epoch 6/10\n",
      " - 11s - loss: 3.9497 - acc: 0.1912 - val_loss: 3.8851 - val_acc: 0.2000\n",
      "Epoch 7/10\n",
      " - 11s - loss: 4.2318 - acc: 0.2068 - val_loss: 3.8302 - val_acc: 0.2000\n",
      "Epoch 8/10\n",
      " - 11s - loss: 3.9536 - acc: 0.1923 - val_loss: 5.3099 - val_acc: 0.2000\n",
      "Epoch 9/10\n",
      " - 11s - loss: 4.2239 - acc: 0.2162 - val_loss: 8.0590 - val_acc: 0.2000\n",
      "Epoch 10/10\n",
      " - 11s - loss: 3.5738 - acc: 0.1805 - val_loss: 9.8456 - val_acc: 0.2000\n"
     ]
    },
    {
     "data": {
      "text/plain": [
       "<keras.callbacks.History at 0x1d503986f98>"
      ]
     },
     "execution_count": 33,
     "metadata": {},
     "output_type": "execute_result"
    }
   ],
   "source": [
    "model.fit_generator(train_batches, steps_per_epoch=3, \n",
    "                    validation_data = valid_batches, validation_steps=1, \n",
    "                    epochs=10, verbose=2)"
   ]
  },
  {
   "cell_type": "markdown",
   "metadata": {},
   "source": [
    "We don't have good result (ಥ﹏ಥ)\n",
    "Let's try other method"
   ]
  },
  {
   "cell_type": "markdown",
   "metadata": {},
   "source": [
    "### 6.4 Build CNN Model With VGG16 Model Bottleneck Features"
   ]
  },
  {
   "cell_type": "markdown",
   "metadata": {},
   "source": [
    "https://blog.csdn.net/loveliuzz/article/details/79135546\n",
    "\n",
    "VGGNet is a deep convolutional neural network developed by researchers at the Visual Geometry Group and Google DeepMind.\n",
    "\n",
    "VGGNet explores the relationship between the depth of the convolutional neural network and its performance by repeatedly stacking 3*3 small convolution kernels and 2*2 maximum pooling layers.\n",
    "\n",
    "VGGNet successfully constructed a 16~19-layer deep convolutional neural network. VGGNet has a significantly lower error rate than the previous state-of-the-art network architecture.\n",
    "\n",
    "The VGGNet paper uses 3*3 small convolution kernels and 2*2 maximum pooling cores to improve performance by continuously deepening the network structure.\n",
    "\n",
    "(1) The meaning of 16 in the VGG-16 network is: there are 16 layers containing parameters, and the total parameters are about 138 million.\n",
    "\n",
    "(2) VGG-16 network structure is very regular, there are not so many hyperparameters, focus on building a simple network, all of which are followed by a convolutional layer that can be compressed\n",
    "\n",
    "The pooling layer of image size. That is: all use 3*3 small convolution kernel and 2*2 maximum pooling layer.\n",
    "\n",
    "Convolution layer: CONV=3*3 filters, s = 1, padding = same convolution.\n",
    "\n",
    "Pooled layer: MAX_POOL = 2*2, s = 2.\n",
    "\n",
    "(3) Advantages: Simplified the structure of the convolutional neural network; Disadvantages: The number of features trained is very large.\n",
    "\n",
    "(4) As the network deepens, the width and height of the image are decreasing with a certain law.\n",
    "\n",
    "Each time it is pooled, it is just halfway down, and the number of channels is doubling."
   ]
  },
  {
   "cell_type": "code",
   "execution_count": 14,
   "metadata": {},
   "outputs": [],
   "source": [
    "vgg16_model = keras.applications.vgg16.VGG16()"
   ]
  },
  {
   "cell_type": "code",
   "execution_count": 15,
   "metadata": {},
   "outputs": [
    {
     "name": "stdout",
     "output_type": "stream",
     "text": [
      "_________________________________________________________________\n",
      "Layer (type)                 Output Shape              Param #   \n",
      "=================================================================\n",
      "input_1 (InputLayer)         (None, 224, 224, 3)       0         \n",
      "_________________________________________________________________\n",
      "block1_conv1 (Conv2D)        (None, 224, 224, 64)      1792      \n",
      "_________________________________________________________________\n",
      "block1_conv2 (Conv2D)        (None, 224, 224, 64)      36928     \n",
      "_________________________________________________________________\n",
      "block1_pool (MaxPooling2D)   (None, 112, 112, 64)      0         \n",
      "_________________________________________________________________\n",
      "block2_conv1 (Conv2D)        (None, 112, 112, 128)     73856     \n",
      "_________________________________________________________________\n",
      "block2_conv2 (Conv2D)        (None, 112, 112, 128)     147584    \n",
      "_________________________________________________________________\n",
      "block2_pool (MaxPooling2D)   (None, 56, 56, 128)       0         \n",
      "_________________________________________________________________\n",
      "block3_conv1 (Conv2D)        (None, 56, 56, 256)       295168    \n",
      "_________________________________________________________________\n",
      "block3_conv2 (Conv2D)        (None, 56, 56, 256)       590080    \n",
      "_________________________________________________________________\n",
      "block3_conv3 (Conv2D)        (None, 56, 56, 256)       590080    \n",
      "_________________________________________________________________\n",
      "block3_pool (MaxPooling2D)   (None, 28, 28, 256)       0         \n",
      "_________________________________________________________________\n",
      "block4_conv1 (Conv2D)        (None, 28, 28, 512)       1180160   \n",
      "_________________________________________________________________\n",
      "block4_conv2 (Conv2D)        (None, 28, 28, 512)       2359808   \n",
      "_________________________________________________________________\n",
      "block4_conv3 (Conv2D)        (None, 28, 28, 512)       2359808   \n",
      "_________________________________________________________________\n",
      "block4_pool (MaxPooling2D)   (None, 14, 14, 512)       0         \n",
      "_________________________________________________________________\n",
      "block5_conv1 (Conv2D)        (None, 14, 14, 512)       2359808   \n",
      "_________________________________________________________________\n",
      "block5_conv2 (Conv2D)        (None, 14, 14, 512)       2359808   \n",
      "_________________________________________________________________\n",
      "block5_conv3 (Conv2D)        (None, 14, 14, 512)       2359808   \n",
      "_________________________________________________________________\n",
      "block5_pool (MaxPooling2D)   (None, 7, 7, 512)         0         \n",
      "_________________________________________________________________\n",
      "flatten (Flatten)            (None, 25088)             0         \n",
      "_________________________________________________________________\n",
      "fc1 (Dense)                  (None, 4096)              102764544 \n",
      "_________________________________________________________________\n",
      "fc2 (Dense)                  (None, 4096)              16781312  \n",
      "_________________________________________________________________\n",
      "predictions (Dense)          (None, 1000)              4097000   \n",
      "=================================================================\n",
      "Total params: 138,357,544\n",
      "Trainable params: 138,357,544\n",
      "Non-trainable params: 0\n",
      "_________________________________________________________________\n"
     ]
    }
   ],
   "source": [
    "vgg16_model.summary()"
   ]
  },
  {
   "cell_type": "code",
   "execution_count": 16,
   "metadata": {},
   "outputs": [
    {
     "data": {
      "text/plain": [
       "23"
      ]
     },
     "execution_count": 16,
     "metadata": {},
     "output_type": "execute_result"
    }
   ],
   "source": [
    "# there are 23 layers in the original VGG 16 model\n",
    "type(vgg16_model)\n",
    "len(vgg16_model.layers)"
   ]
  },
  {
   "cell_type": "code",
   "execution_count": 17,
   "metadata": {},
   "outputs": [],
   "source": [
    "# add the first 22 layers to our face recognition model\n",
    "model = Sequential()\n",
    "for i in range(len(vgg16_model.layers)-1):\n",
    "        model.add(vgg16_model.layers[i])"
   ]
  },
  {
   "cell_type": "code",
   "execution_count": 18,
   "metadata": {},
   "outputs": [
    {
     "name": "stdout",
     "output_type": "stream",
     "text": [
      "_________________________________________________________________\n",
      "Layer (type)                 Output Shape              Param #   \n",
      "=================================================================\n",
      "block1_conv1 (Conv2D)        (None, 224, 224, 64)      1792      \n",
      "_________________________________________________________________\n",
      "block1_conv2 (Conv2D)        (None, 224, 224, 64)      36928     \n",
      "_________________________________________________________________\n",
      "block1_pool (MaxPooling2D)   (None, 112, 112, 64)      0         \n",
      "_________________________________________________________________\n",
      "block2_conv1 (Conv2D)        (None, 112, 112, 128)     73856     \n",
      "_________________________________________________________________\n",
      "block2_conv2 (Conv2D)        (None, 112, 112, 128)     147584    \n",
      "_________________________________________________________________\n",
      "block2_pool (MaxPooling2D)   (None, 56, 56, 128)       0         \n",
      "_________________________________________________________________\n",
      "block3_conv1 (Conv2D)        (None, 56, 56, 256)       295168    \n",
      "_________________________________________________________________\n",
      "block3_conv2 (Conv2D)        (None, 56, 56, 256)       590080    \n",
      "_________________________________________________________________\n",
      "block3_conv3 (Conv2D)        (None, 56, 56, 256)       590080    \n",
      "_________________________________________________________________\n",
      "block3_pool (MaxPooling2D)   (None, 28, 28, 256)       0         \n",
      "_________________________________________________________________\n",
      "block4_conv1 (Conv2D)        (None, 28, 28, 512)       1180160   \n",
      "_________________________________________________________________\n",
      "block4_conv2 (Conv2D)        (None, 28, 28, 512)       2359808   \n",
      "_________________________________________________________________\n",
      "block4_conv3 (Conv2D)        (None, 28, 28, 512)       2359808   \n",
      "_________________________________________________________________\n",
      "block4_pool (MaxPooling2D)   (None, 14, 14, 512)       0         \n",
      "_________________________________________________________________\n",
      "block5_conv1 (Conv2D)        (None, 14, 14, 512)       2359808   \n",
      "_________________________________________________________________\n",
      "block5_conv2 (Conv2D)        (None, 14, 14, 512)       2359808   \n",
      "_________________________________________________________________\n",
      "block5_conv3 (Conv2D)        (None, 14, 14, 512)       2359808   \n",
      "_________________________________________________________________\n",
      "block5_pool (MaxPooling2D)   (None, 7, 7, 512)         0         \n",
      "_________________________________________________________________\n",
      "flatten (Flatten)            (None, 25088)             0         \n",
      "_________________________________________________________________\n",
      "fc1 (Dense)                  (None, 4096)              102764544 \n",
      "_________________________________________________________________\n",
      "fc2 (Dense)                  (None, 4096)              16781312  \n",
      "=================================================================\n",
      "Total params: 134,260,544\n",
      "Trainable params: 134,260,544\n",
      "Non-trainable params: 0\n",
      "_________________________________________________________________\n"
     ]
    }
   ],
   "source": [
    "model.summary()"
   ]
  },
  {
   "cell_type": "code",
   "execution_count": 19,
   "metadata": {},
   "outputs": [],
   "source": [
    "# freeze the layers from VGG16 model\n",
    "for layer in model.layers:\n",
    "    layer.trainable = False"
   ]
  },
  {
   "cell_type": "code",
   "execution_count": 20,
   "metadata": {},
   "outputs": [],
   "source": [
    "# build our own classifier layer to put on top of the convolutional model\n",
    "model.add(Dense(5,activation='softmax'))"
   ]
  },
  {
   "cell_type": "code",
   "execution_count": 21,
   "metadata": {},
   "outputs": [
    {
     "name": "stdout",
     "output_type": "stream",
     "text": [
      "_________________________________________________________________\n",
      "Layer (type)                 Output Shape              Param #   \n",
      "=================================================================\n",
      "block1_conv1 (Conv2D)        (None, 224, 224, 64)      1792      \n",
      "_________________________________________________________________\n",
      "block1_conv2 (Conv2D)        (None, 224, 224, 64)      36928     \n",
      "_________________________________________________________________\n",
      "block1_pool (MaxPooling2D)   (None, 112, 112, 64)      0         \n",
      "_________________________________________________________________\n",
      "block2_conv1 (Conv2D)        (None, 112, 112, 128)     73856     \n",
      "_________________________________________________________________\n",
      "block2_conv2 (Conv2D)        (None, 112, 112, 128)     147584    \n",
      "_________________________________________________________________\n",
      "block2_pool (MaxPooling2D)   (None, 56, 56, 128)       0         \n",
      "_________________________________________________________________\n",
      "block3_conv1 (Conv2D)        (None, 56, 56, 256)       295168    \n",
      "_________________________________________________________________\n",
      "block3_conv2 (Conv2D)        (None, 56, 56, 256)       590080    \n",
      "_________________________________________________________________\n",
      "block3_conv3 (Conv2D)        (None, 56, 56, 256)       590080    \n",
      "_________________________________________________________________\n",
      "block3_pool (MaxPooling2D)   (None, 28, 28, 256)       0         \n",
      "_________________________________________________________________\n",
      "block4_conv1 (Conv2D)        (None, 28, 28, 512)       1180160   \n",
      "_________________________________________________________________\n",
      "block4_conv2 (Conv2D)        (None, 28, 28, 512)       2359808   \n",
      "_________________________________________________________________\n",
      "block4_conv3 (Conv2D)        (None, 28, 28, 512)       2359808   \n",
      "_________________________________________________________________\n",
      "block4_pool (MaxPooling2D)   (None, 14, 14, 512)       0         \n",
      "_________________________________________________________________\n",
      "block5_conv1 (Conv2D)        (None, 14, 14, 512)       2359808   \n",
      "_________________________________________________________________\n",
      "block5_conv2 (Conv2D)        (None, 14, 14, 512)       2359808   \n",
      "_________________________________________________________________\n",
      "block5_conv3 (Conv2D)        (None, 14, 14, 512)       2359808   \n",
      "_________________________________________________________________\n",
      "block5_pool (MaxPooling2D)   (None, 7, 7, 512)         0         \n",
      "_________________________________________________________________\n",
      "flatten (Flatten)            (None, 25088)             0         \n",
      "_________________________________________________________________\n",
      "fc1 (Dense)                  (None, 4096)              102764544 \n",
      "_________________________________________________________________\n",
      "fc2 (Dense)                  (None, 4096)              16781312  \n",
      "_________________________________________________________________\n",
      "dense_3 (Dense)              (None, 5)                 20485     \n",
      "=================================================================\n",
      "Total params: 134,281,029\n",
      "Trainable params: 20,485\n",
      "Non-trainable params: 134,260,544\n",
      "_________________________________________________________________\n"
     ]
    }
   ],
   "source": [
    "model.summary()"
   ]
  },
  {
   "cell_type": "code",
   "execution_count": 22,
   "metadata": {},
   "outputs": [],
   "source": [
    "# compile the model\n",
    "model.compile(loss='categorical_crossentropy',\n",
    "              optimizer='rmsprop',\n",
    "              metrics=['accuracy'])"
   ]
  },
  {
   "cell_type": "code",
   "execution_count": 23,
   "metadata": {},
   "outputs": [
    {
     "name": "stdout",
     "output_type": "stream",
     "text": [
      "Epoch 1/5\n",
      " - 71s - loss: 2.0276 - acc: 0.4444 - val_loss: 0.5363 - val_acc: 0.8000\n",
      "Epoch 2/5\n",
      " - 74s - loss: 0.2606 - acc: 0.8778 - val_loss: 0.1684 - val_acc: 1.0000\n",
      "Epoch 3/5\n",
      " - 75s - loss: 0.0742 - acc: 1.0000 - val_loss: 0.1063 - val_acc: 1.0000\n",
      "Epoch 4/5\n",
      " - 83s - loss: 0.0477 - acc: 1.0000 - val_loss: 0.0874 - val_acc: 1.0000\n",
      "Epoch 5/5\n",
      " - 87s - loss: 0.0373 - acc: 1.0000 - val_loss: 0.0729 - val_acc: 1.0000\n"
     ]
    },
    {
     "data": {
      "text/plain": [
       "<keras.callbacks.History at 0x241812d1b70>"
      ]
     },
     "execution_count": 23,
     "metadata": {},
     "output_type": "execute_result"
    }
   ],
   "source": [
    "# train the model with trainin data\n",
    "model.fit_generator(train_batches, steps_per_epoch=3, \n",
    "                    validation_data = valid_batches, validation_steps=1, \n",
    "                    epochs=5, verbose=2)"
   ]
  },
  {
   "cell_type": "markdown",
   "metadata": {},
   "source": [
    "###### Conclusion: computer learns really fast and soon reached 100% accuracy"
   ]
  },
  {
   "cell_type": "markdown",
   "metadata": {},
   "source": [
    "####  Save Model and Weights"
   ]
  },
  {
   "cell_type": "code",
   "execution_count": 24,
   "metadata": {},
   "outputs": [],
   "source": [
    "# save model\n",
    "\n",
    "model.save('face_cnn_mdl.h5')\n",
    "\n",
    "# save model weights\n",
    "model.save_weights('face_cnn_wts.h5')"
   ]
  },
  {
   "cell_type": "markdown",
   "metadata": {},
   "source": [
    "#### Prediction"
   ]
  },
  {
   "cell_type": "code",
   "execution_count": 26,
   "metadata": {},
   "outputs": [
    {
     "data": {
      "text/plain": [
       "{'s36': 0, 's37': 1, 's38': 2, 's39': 3, 's40': 4}"
      ]
     },
     "execution_count": 26,
     "metadata": {},
     "output_type": "execute_result"
    }
   ],
   "source": [
    "# build class label map with predictions\n",
    "\n",
    "face_dict = test_batches.class_indices\n",
    "\n",
    "# revert key and value\n",
    "\n",
    "face_dict = {v:k for k,v in breed_dict.items()}\n",
    "face_dict"
   ]
  },
  {
   "cell_type": "code",
   "execution_count": 27,
   "metadata": {},
   "outputs": [],
   "source": [
    "# predict single picture\n",
    "\n",
    "from keras.preprocessing import image\n",
    "from keras.applications.imagenet_utils import preprocess_input\n",
    "\n",
    "\n",
    "def predictPic(path):    \n",
    "    image_path = path\n",
    "    img = image.load_img(image_path, target_size=(224, 224))\n",
    "    x = image.img_to_array(img)\n",
    "    x = np.expand_dims(x, axis=0)\n",
    "    x = preprocess_input(x)\n",
    "    predict_index = np.argmax(model.predict(x), axis=1)[0] # index of the max in a row\n",
    "    predict_class = breed_dict[predict_index]\n",
    "    ax = plt.subplot(1,1,1)\n",
    "    ax.imshow(img)\n",
    "    ax.text(10, 200, 'Predict: %s' % predict_class, color='k', backgroundcolor='w', alpha=0.8)\n",
    "    ax.axis('off')\n",
    "#     plt.show()"
   ]
  },
  {
   "cell_type": "code",
   "execution_count": 28,
   "metadata": {},
   "outputs": [
    {
     "data": {
      "image/png": "[encoded data removed]",
      "text/plain": [
       "<Figure size 432x288 with 1 Axes>"
      ]
     },
     "metadata": {
      "needs_background": "light"
     },
     "output_type": "display_data"
    }
   ],
   "source": [
    "path = 'orl_faces_cnn/Test/s36/1.png'\n",
    "predictPic(path)"
   ]
  },
  {
   "cell_type": "code",
   "execution_count": 29,
   "metadata": {},
   "outputs": [
    {
     "data": {
      "image/png": "[encoded data removed]",
      "text/plain": [
       "<Figure size 432x288 with 1 Axes>"
      ]
     },
     "metadata": {
      "needs_background": "light"
     },
     "output_type": "display_data"
    }
   ],
   "source": [
    "predictPic('orl_faces_cnn/Test/s38/1.png')"
   ]
  },
  {
   "cell_type": "code",
   "execution_count": 30,
   "metadata": {},
   "outputs": [],
   "source": [
    "# predict album\n",
    "\n",
    "def predictAlbum(path):\n",
    "    labels = [filename for filename in os.listdir(test_path) if not filename.startswith('.')]\n",
    "    album = []\n",
    "    for label in labels:\n",
    "        filePath = os.path.join(path, label)\n",
    "        for img in os.listdir(filePath):\n",
    "            if not img.startswith('.'):\n",
    "                img = image.load_img(os.path.join(path, label, img), target_size=(224, 224))\n",
    "                album.append(img)\n",
    "\n",
    "    plt.figure(figsize=(4*6,11*6))\n",
    "    for i in range(len(album)):\n",
    "        x = image.img_to_array(album[i])\n",
    "        x = np.expand_dims(x, axis=0)\n",
    "        x = preprocess_input(x)\n",
    "        predict_index = np.argmax(model.predict(x), axis=1)[0] # index of the max in a row\n",
    "        predict_class = breed_dict[predict_index]\n",
    "\n",
    "        ax = plt.subplot(11, 4, i+1)\n",
    "        ax.imshow(album[i])\n",
    "        ax.text(10, 200, 'Predict: %s' % predict_class, color='k', backgroundcolor='w', alpha=0.8, fontsize=16)\n",
    "        ax.axis('off')"
   ]
  },
  {
   "cell_type": "code",
   "execution_count": 31,
   "metadata": {},
   "outputs": [
    {
     "data": {
      "image/png": "[encoded data removed]",
      "text/plain": [
       "<Figure size 1728x4752 with 10 Axes>"
      ]
     },
     "metadata": {
      "needs_background": "light"
     },
     "output_type": "display_data"
    }
   ],
   "source": [
    "predictAlbum(test_path)"
   ]
  },
  {
   "cell_type": "markdown",
   "metadata": {},
   "source": [
    "a much better result!"
   ]
  },
  {
   "cell_type": "markdown",
   "metadata": {},
   "source": [
    "Network Architecture | Accuracy\n",
    "------------- | ------------- \n",
    "1 |  0.2222\n",
    "2 |  0.2594\n",
    "3 |  0.2616 \n",
    "4 |  1.0000\n"
   ]
  },
  {
   "cell_type": "markdown",
   "metadata": {},
   "source": [
    "## Part 7: - Network initialization"
   ]
  },
  {
   "cell_type": "markdown",
   "metadata": {},
   "source": [
    "On _your Deep Learning model data_   \n",
    "* Change the network initialization (use at least two). How does it effect the accuracy?  \n",
    "* How does it effect how quickly the network plateaus?  \n",
    "* Various forms of network initialization:  \n",
    "-\t0   \n",
    "-\tUniform  \n",
    "-\tGaussian   \n",
    "-\tXavier Glorot Initialization   [http://andyljones.tumblr.com/post/110998971763/an-explanation-of-xavier-initialization](http://andyljones.tumblr.com/post/110998971763/an-explanation-of-xavier-initialization)  \n",
    "    -\tXavier Uniform  \n",
    "    -\tXavier Gaussian  \n"
   ]
  },
  {
   "cell_type": "markdown",
   "metadata": {},
   "source": [
    "https://keras.io/initializers/\n"
   ]
  },
  {
   "cell_type": "markdown",
   "metadata": {},
   "source": [
    "### 7.1 RandomUniform\n",
    "\n",
    "keras.initializers.RandomUniform(minval=-0.05, maxval=0.05, seed=None)\n",
    "\n",
    "Initializer that generates tensors with a uniform distribution.\n",
    "\n",
    "Arguments\n",
    "\n",
    "minval: A python scalar or a scalar tensor. Lower bound of the range of random values to generate.\n",
    "\n",
    "maxval: A python scalar or a scalar tensor. Upper bound of the range of random values to generate. Defaults to 1 for float types.\n",
    "\n",
    "seed: A Python integer. Used to seed the random generator.\n"
   ]
  },
  {
   "cell_type": "code",
   "execution_count": 82,
   "metadata": {},
   "outputs": [],
   "source": [
    "# set up model\n",
    "\n",
    "model = Sequential()\n",
    "\n",
    "model.add(Conv2D(32, (3, 3), input_shape=(224, 224, 3)))\n",
    "model.add(Activation('linear'))\n",
    "model.add(MaxPooling2D(pool_size=(2, 2)))\n",
    "model.add(Dropout(0.5))\n",
    "\n",
    "model.add(Conv2D(32, (3, 3)))\n",
    "model.add(Activation('linear'))\n",
    "model.add(MaxPooling2D(pool_size=(2, 2)))\n",
    "model.add(Dropout(0.5))\n",
    "\n",
    "model.add(Conv2D(64, (3, 3)))\n",
    "model.add(Activation('linear'))\n",
    "model.add(MaxPooling2D(pool_size=(2, 2)))\n",
    "model.add(Dropout(0.5))\n",
    "\n",
    "model.add(Flatten())\n",
    "model.add(Dense(64,\n",
    "                kernel_initializer='random_uniform',\n",
    "                bias_initializer='zeros'))\n",
    "model.add(Activation('linear'))\n",
    "model.add(Dropout(0.5))\n",
    "\n",
    "model.add(Dense(nClass))\n",
    "model.add(Activation('linear'))\n",
    "\n",
    "model.compile(loss='categorical_crossentropy',\n",
    "              optimizer='adamax',\n",
    "              metrics=['accuracy'])"
   ]
  },
  {
   "cell_type": "code",
   "execution_count": 83,
   "metadata": {},
   "outputs": [
    {
     "name": "stdout",
     "output_type": "stream",
     "text": [
      "Epoch 1/10\n",
      " - 10s - loss: 6.8938 - acc: 0.2556 - val_loss: 4.3979 - val_acc: 0.2000\n",
      "Epoch 2/10\n",
      " - 7s - loss: 5.8859 - acc: 0.1444 - val_loss: 4.2347 - val_acc: 0.2000\n",
      "Epoch 3/10\n",
      " - 7s - loss: 4.0128 - acc: 0.1667 - val_loss: 4.1872 - val_acc: 0.2000\n",
      "Epoch 4/10\n",
      " - 7s - loss: 4.6241 - acc: 0.2000 - val_loss: 4.2066 - val_acc: 0.2000\n",
      "Epoch 5/10\n",
      " - 8s - loss: 4.2501 - acc: 0.2000 - val_loss: 4.1993 - val_acc: 0.2000\n",
      "Epoch 6/10\n",
      " - 7s - loss: 3.4993 - acc: 0.1889 - val_loss: 4.1844 - val_acc: 0.2000\n",
      "Epoch 7/10\n",
      " - 7s - loss: 3.2625 - acc: 0.1889 - val_loss: 4.1924 - val_acc: 0.2000\n",
      "Epoch 8/10\n",
      " - 7s - loss: 3.7056 - acc: 0.2000 - val_loss: 4.2225 - val_acc: 0.2000\n",
      "Epoch 9/10\n",
      " - 7s - loss: 3.7390 - acc: 0.1889 - val_loss: 4.2454 - val_acc: 0.2000\n",
      "Epoch 10/10\n",
      " - 7s - loss: 3.1157 - acc: 0.1889 - val_loss: 1.9005 - val_acc: 0.2000\n"
     ]
    },
    {
     "data": {
      "text/plain": [
       "<keras.callbacks.History at 0x232b759ba58>"
      ]
     },
     "execution_count": 83,
     "metadata": {},
     "output_type": "execute_result"
    }
   ],
   "source": [
    "model.fit_generator(train_batches, steps_per_epoch=3, \n",
    "                    validation_data = valid_batches, validation_steps=1, \n",
    "                    epochs=10, verbose=2)"
   ]
  },
  {
   "cell_type": "markdown",
   "metadata": {},
   "source": [
    "Accuracy rate did not change significantly"
   ]
  },
  {
   "cell_type": "markdown",
   "metadata": {},
   "source": [
    "### 7.2 Initializer\n",
    "\n",
    "keras.initializers.Initializer()\n",
    "\n",
    "Initializer base class: all initializers inherit from this class.\n",
    "\n"
   ]
  },
  {
   "cell_type": "code",
   "execution_count": 89,
   "metadata": {},
   "outputs": [
    {
     "data": {
      "text/plain": [
       "<keras.initializers.Initializer at 0x232be7259e8>"
      ]
     },
     "execution_count": 89,
     "metadata": {},
     "output_type": "execute_result"
    }
   ],
   "source": [
    "keras.initializers.Initializer()"
   ]
  },
  {
   "cell_type": "code",
   "execution_count": 90,
   "metadata": {},
   "outputs": [],
   "source": [
    "# set up model\n",
    "\n",
    "model = Sequential()\n",
    "\n",
    "model.add(Conv2D(32, (3, 3), input_shape=(224, 224, 3)))\n",
    "model.add(Activation('linear'))\n",
    "model.add(MaxPooling2D(pool_size=(2, 2)))\n",
    "model.add(Dropout(0.5))\n",
    "\n",
    "model.add(Conv2D(32, (3, 3)))\n",
    "model.add(Activation('linear'))\n",
    "model.add(MaxPooling2D(pool_size=(2, 2)))\n",
    "model.add(Dropout(0.5))\n",
    "\n",
    "model.add(Conv2D(64, (3, 3)))\n",
    "model.add(Activation('linear'))\n",
    "model.add(MaxPooling2D(pool_size=(2, 2)))\n",
    "model.add(Dropout(0.5))\n",
    "\n",
    "model.add(Flatten())\n",
    "model.add(Dense(96))\n",
    "model.add(Activation('linear'))\n",
    "model.add(Dropout(0.5))\n",
    "\n",
    "model.add(Dense(nClass))\n",
    "model.add(Activation('linear'))\n",
    "\n",
    "model.compile(loss='categorical_crossentropy',\n",
    "              optimizer='adadelta',\n",
    "              metrics=['accuracy'])"
   ]
  },
  {
   "cell_type": "code",
   "execution_count": 91,
   "metadata": {
    "scrolled": true
   },
   "outputs": [
    {
     "name": "stdout",
     "output_type": "stream",
     "text": [
      "Epoch 1/5\n",
      " - 11s - loss: 3.8983 - acc: 0.2444 - val_loss: 1.6663 - val_acc: 0.2000\n",
      "Epoch 2/5\n",
      " - 7s - loss: 1.8309 - acc: 0.2111 - val_loss: 1.5796 - val_acc: 0.4000\n",
      "Epoch 3/5\n",
      " - 7s - loss: 1.7473 - acc: 0.2889 - val_loss: 1.5660 - val_acc: 0.2000\n",
      "Epoch 4/5\n",
      " - 7s - loss: 1.5875 - acc: 0.2333 - val_loss: 1.5144 - val_acc: 0.2000\n",
      "Epoch 5/5\n",
      " - 7s - loss: 1.4986 - acc: 0.3111 - val_loss: 1.4708 - val_acc: 0.7000\n"
     ]
    },
    {
     "data": {
      "text/plain": [
       "<keras.callbacks.History at 0x232c238cef0>"
      ]
     },
     "execution_count": 91,
     "metadata": {},
     "output_type": "execute_result"
    }
   ],
   "source": [
    "model.fit_generator(train_batches, steps_per_epoch=3, \n",
    "                    validation_data = valid_batches, validation_steps=1, \n",
    "                    epochs=5, verbose=2)"
   ]
  },
  {
   "cell_type": "markdown",
   "metadata": {},
   "source": [
    "### 7.3 Zeros\n",
    "\n",
    "keras.initializers.Zeros()\n",
    "\n",
    "Initializer that generates tensors initialized to 0."
   ]
  },
  {
   "cell_type": "code",
   "execution_count": 93,
   "metadata": {},
   "outputs": [
    {
     "data": {
      "text/plain": [
       "<keras.initializers.Zeros at 0x232c2363048>"
      ]
     },
     "execution_count": 93,
     "metadata": {},
     "output_type": "execute_result"
    }
   ],
   "source": [
    "keras.initializers.Zeros()"
   ]
  },
  {
   "cell_type": "code",
   "execution_count": 94,
   "metadata": {},
   "outputs": [],
   "source": [
    "# set up model\n",
    "\n",
    "model = Sequential()\n",
    "\n",
    "model.add(Conv2D(32, (3, 3), input_shape=(224, 224, 3)))\n",
    "model.add(Activation('linear'))\n",
    "model.add(MaxPooling2D(pool_size=(2, 2)))\n",
    "model.add(Dropout(0.5))\n",
    "\n",
    "model.add(Conv2D(32, (3, 3)))\n",
    "model.add(Activation('linear'))\n",
    "model.add(MaxPooling2D(pool_size=(2, 2)))\n",
    "model.add(Dropout(0.5))\n",
    "\n",
    "model.add(Conv2D(64, (3, 3)))\n",
    "model.add(Activation('linear'))\n",
    "model.add(MaxPooling2D(pool_size=(2, 2)))\n",
    "model.add(Dropout(0.5))\n",
    "\n",
    "model.add(Flatten())\n",
    "model.add(Dense(96))\n",
    "model.add(Activation('linear'))\n",
    "model.add(Dropout(0.5))\n",
    "\n",
    "model.add(Dense(nClass))\n",
    "model.add(Activation('linear'))\n",
    "\n",
    "model.compile(loss='categorical_crossentropy',\n",
    "              optimizer='adadelta',\n",
    "              metrics=['accuracy'])"
   ]
  },
  {
   "cell_type": "code",
   "execution_count": 95,
   "metadata": {},
   "outputs": [
    {
     "name": "stdout",
     "output_type": "stream",
     "text": [
      "Epoch 1/5\n",
      " - 10s - loss: 6.3994 - acc: 0.1333 - val_loss: 4.0091 - val_acc: 0.2000\n",
      "Epoch 2/5\n",
      " - 7s - loss: 5.9255 - acc: 0.2000 - val_loss: 9.8031 - val_acc: 0.2000\n",
      "Epoch 3/5\n",
      " - 7s - loss: 8.1312 - acc: 0.2000 - val_loss: 4.0926 - val_acc: 0.2000\n",
      "Epoch 4/5\n",
      " - 7s - loss: 4.5659 - acc: 0.2333 - val_loss: 3.7901 - val_acc: 0.2000\n",
      "Epoch 5/5\n",
      " - 7s - loss: 7.7961 - acc: 0.2444 - val_loss: 3.2236 - val_acc: 0.2000\n"
     ]
    },
    {
     "data": {
      "text/plain": [
       "<keras.callbacks.History at 0x232c2c3ca20>"
      ]
     },
     "execution_count": 95,
     "metadata": {},
     "output_type": "execute_result"
    }
   ],
   "source": [
    "model.fit_generator(train_batches, steps_per_epoch=3, \n",
    "                    validation_data = valid_batches, validation_steps=1, \n",
    "                    epochs=5, verbose=2)"
   ]
  },
  {
   "cell_type": "markdown",
   "metadata": {},
   "source": [
    "### 7.4 Ones\n",
    "\n",
    "keras.initializers.Ones()\n",
    "\n",
    "Initializer that generates tensors initialized to 1."
   ]
  },
  {
   "cell_type": "code",
   "execution_count": 96,
   "metadata": {},
   "outputs": [
    {
     "data": {
      "text/plain": [
       "<keras.initializers.Ones at 0x232c238c4e0>"
      ]
     },
     "execution_count": 96,
     "metadata": {},
     "output_type": "execute_result"
    }
   ],
   "source": [
    "keras.initializers.Ones()"
   ]
  },
  {
   "cell_type": "code",
   "execution_count": 97,
   "metadata": {},
   "outputs": [],
   "source": [
    "# set up model\n",
    "\n",
    "model = Sequential()\n",
    "\n",
    "model.add(Conv2D(32, (3, 3), input_shape=(224, 224, 3)))\n",
    "model.add(Activation('linear'))\n",
    "model.add(MaxPooling2D(pool_size=(2, 2)))\n",
    "model.add(Dropout(0.5))\n",
    "\n",
    "model.add(Conv2D(32, (3, 3)))\n",
    "model.add(Activation('linear'))\n",
    "model.add(MaxPooling2D(pool_size=(2, 2)))\n",
    "model.add(Dropout(0.5))\n",
    "\n",
    "model.add(Conv2D(64, (3, 3)))\n",
    "model.add(Activation('linear'))\n",
    "model.add(MaxPooling2D(pool_size=(2, 2)))\n",
    "model.add(Dropout(0.5))\n",
    "\n",
    "model.add(Flatten())\n",
    "model.add(Dense(96))\n",
    "model.add(Activation('linear'))\n",
    "model.add(Dropout(0.5))\n",
    "\n",
    "model.add(Dense(nClass))\n",
    "model.add(Activation('linear'))\n",
    "\n",
    "model.compile(loss='categorical_crossentropy',\n",
    "              optimizer='adadelta',\n",
    "              metrics=['accuracy'])"
   ]
  },
  {
   "cell_type": "code",
   "execution_count": 98,
   "metadata": {},
   "outputs": [
    {
     "name": "stdout",
     "output_type": "stream",
     "text": [
      "Epoch 1/5\n",
      " - 11s - loss: 6.4227 - acc: 0.2111 - val_loss: 12.8945 - val_acc: 0.2000\n",
      "Epoch 2/5\n",
      " - 7s - loss: 6.6570 - acc: 0.1667 - val_loss: 4.2172 - val_acc: 0.2000\n",
      "Epoch 3/5\n",
      " - 7s - loss: 4.0902 - acc: 0.2889 - val_loss: 4.0845 - val_acc: 0.4000\n",
      "Epoch 4/5\n",
      " - 7s - loss: 4.0065 - acc: 0.2778 - val_loss: 3.5549 - val_acc: 0.3000\n",
      "Epoch 5/5\n",
      " - 7s - loss: 6.3037 - acc: 0.2778 - val_loss: 12.8945 - val_acc: 0.2000\n"
     ]
    },
    {
     "data": {
      "text/plain": [
       "<keras.callbacks.History at 0x232c238c390>"
      ]
     },
     "execution_count": 98,
     "metadata": {},
     "output_type": "execute_result"
    }
   ],
   "source": [
    "model.fit_generator(train_batches, steps_per_epoch=3, \n",
    "                    validation_data = valid_batches, validation_steps=1, \n",
    "                    epochs=5, verbose=2)"
   ]
  },
  {
   "cell_type": "markdown",
   "metadata": {},
   "source": [
    "### 7.5 Constant"
   ]
  },
  {
   "cell_type": "code",
   "execution_count": 99,
   "metadata": {},
   "outputs": [
    {
     "data": {
      "text/plain": [
       "<keras.initializers.Constant at 0x232c20ccba8>"
      ]
     },
     "execution_count": 99,
     "metadata": {},
     "output_type": "execute_result"
    }
   ],
   "source": [
    "keras.initializers.Constant(value=0)"
   ]
  },
  {
   "cell_type": "code",
   "execution_count": 100,
   "metadata": {},
   "outputs": [],
   "source": [
    "# set up model\n",
    "\n",
    "model = Sequential()\n",
    "\n",
    "model.add(Conv2D(32, (3, 3), input_shape=(224, 224, 3)))\n",
    "model.add(Activation('linear'))\n",
    "model.add(MaxPooling2D(pool_size=(2, 2)))\n",
    "model.add(Dropout(0.5))\n",
    "\n",
    "model.add(Conv2D(32, (3, 3)))\n",
    "model.add(Activation('linear'))\n",
    "model.add(MaxPooling2D(pool_size=(2, 2)))\n",
    "model.add(Dropout(0.5))\n",
    "\n",
    "model.add(Conv2D(64, (3, 3)))\n",
    "model.add(Activation('linear'))\n",
    "model.add(MaxPooling2D(pool_size=(2, 2)))\n",
    "model.add(Dropout(0.5))\n",
    "\n",
    "model.add(Flatten())\n",
    "model.add(Dense(96))\n",
    "model.add(Activation('linear'))\n",
    "model.add(Dropout(0.5))\n",
    "\n",
    "model.add(Dense(nClass))\n",
    "model.add(Activation('linear'))\n",
    "\n",
    "model.compile(loss='categorical_crossentropy',\n",
    "              optimizer='adadelta',\n",
    "              metrics=['accuracy'])"
   ]
  },
  {
   "cell_type": "code",
   "execution_count": 101,
   "metadata": {},
   "outputs": [
    {
     "name": "stdout",
     "output_type": "stream",
     "text": [
      "Epoch 1/5\n",
      " - 11s - loss: 7.2286 - acc: 0.1778 - val_loss: 6.7113 - val_acc: 0.4000\n",
      "Epoch 2/5\n",
      " - 7s - loss: 6.5490 - acc: 0.1889 - val_loss: 9.6709 - val_acc: 0.4000\n",
      "Epoch 3/5\n",
      " - 7s - loss: 8.2650 - acc: 0.2222 - val_loss: 9.6709 - val_acc: 0.4000\n",
      "Epoch 4/5\n",
      " - 7s - loss: 9.8707 - acc: 0.1667 - val_loss: 9.6709 - val_acc: 0.4000\n",
      "Epoch 5/5\n",
      " - 7s - loss: 8.6234 - acc: 0.2111 - val_loss: 9.6709 - val_acc: 0.4000\n"
     ]
    },
    {
     "data": {
      "text/plain": [
       "<keras.callbacks.History at 0x232c6eb3c88>"
      ]
     },
     "execution_count": 101,
     "metadata": {},
     "output_type": "execute_result"
    }
   ],
   "source": [
    "model.fit_generator(train_batches, steps_per_epoch=3, \n",
    "                    validation_data = valid_batches, validation_steps=1, \n",
    "                    epochs=5, verbose=2)"
   ]
  },
  {
   "cell_type": "markdown",
   "metadata": {},
   "source": [
    "### 7.6 RandomNormal"
   ]
  },
  {
   "cell_type": "code",
   "execution_count": 102,
   "metadata": {},
   "outputs": [
    {
     "data": {
      "text/plain": [
       "<keras.initializers.RandomNormal at 0x232c6eb3668>"
      ]
     },
     "execution_count": 102,
     "metadata": {},
     "output_type": "execute_result"
    }
   ],
   "source": [
    "keras.initializers.RandomNormal(mean=0.0, stddev=0.05, seed=None)"
   ]
  },
  {
   "cell_type": "code",
   "execution_count": 103,
   "metadata": {},
   "outputs": [],
   "source": [
    "# set up model\n",
    "\n",
    "model = Sequential()\n",
    "\n",
    "model.add(Conv2D(32, (3, 3), input_shape=(224, 224, 3)))\n",
    "model.add(Activation('linear'))\n",
    "model.add(MaxPooling2D(pool_size=(2, 2)))\n",
    "model.add(Dropout(0.5))\n",
    "\n",
    "model.add(Conv2D(32, (3, 3)))\n",
    "model.add(Activation('linear'))\n",
    "model.add(MaxPooling2D(pool_size=(2, 2)))\n",
    "model.add(Dropout(0.5))\n",
    "\n",
    "model.add(Conv2D(64, (3, 3)))\n",
    "model.add(Activation('linear'))\n",
    "model.add(MaxPooling2D(pool_size=(2, 2)))\n",
    "model.add(Dropout(0.5))\n",
    "\n",
    "model.add(Flatten())\n",
    "model.add(Dense(96))\n",
    "model.add(Activation('linear'))\n",
    "model.add(Dropout(0.5))\n",
    "\n",
    "model.add(Dense(nClass))\n",
    "model.add(Activation('linear'))\n",
    "\n",
    "model.compile(loss='categorical_crossentropy',\n",
    "              optimizer='adadelta',\n",
    "              metrics=['accuracy'])"
   ]
  },
  {
   "cell_type": "code",
   "execution_count": 104,
   "metadata": {},
   "outputs": [
    {
     "name": "stdout",
     "output_type": "stream",
     "text": [
      "Epoch 1/5\n",
      " - 11s - loss: 4.3735 - acc: 0.2667 - val_loss: 2.4931 - val_acc: 0.2000\n",
      "Epoch 2/5\n",
      " - 7s - loss: 2.0049 - acc: 0.2444 - val_loss: 1.5763 - val_acc: 0.0000e+00\n",
      "Epoch 3/5\n",
      " - 7s - loss: 1.5974 - acc: 0.1667 - val_loss: 1.5500 - val_acc: 0.0000e+00\n",
      "Epoch 4/5\n",
      " - 7s - loss: 1.7404 - acc: 0.1444 - val_loss: 1.5266 - val_acc: 0.0000e+00\n",
      "Epoch 5/5\n",
      " - 7s - loss: 1.7211 - acc: 0.1444 - val_loss: 1.5012 - val_acc: 0.0000e+00\n"
     ]
    },
    {
     "data": {
      "text/plain": [
       "<keras.callbacks.History at 0x232ca471ac8>"
      ]
     },
     "execution_count": 104,
     "metadata": {},
     "output_type": "execute_result"
    }
   ],
   "source": [
    "model.fit_generator(train_batches, steps_per_epoch=3, \n",
    "                    validation_data = valid_batches, validation_steps=1, \n",
    "                    epochs=5, verbose=2)"
   ]
  },
  {
   "cell_type": "markdown",
   "metadata": {},
   "source": [
    "### 7.7 RandomUniform"
   ]
  },
  {
   "cell_type": "code",
   "execution_count": 105,
   "metadata": {},
   "outputs": [
    {
     "data": {
      "text/plain": [
       "<keras.initializers.RandomUniform at 0x232ca471e10>"
      ]
     },
     "execution_count": 105,
     "metadata": {},
     "output_type": "execute_result"
    }
   ],
   "source": [
    "keras.initializers.RandomUniform(minval=-0.05, maxval=0.05, seed=None)"
   ]
  },
  {
   "cell_type": "code",
   "execution_count": 106,
   "metadata": {},
   "outputs": [],
   "source": [
    "# set up model\n",
    "\n",
    "model = Sequential()\n",
    "\n",
    "model.add(Conv2D(32, (3, 3), input_shape=(224, 224, 3)))\n",
    "model.add(Activation('linear'))\n",
    "model.add(MaxPooling2D(pool_size=(2, 2)))\n",
    "model.add(Dropout(0.5))\n",
    "\n",
    "model.add(Conv2D(32, (3, 3)))\n",
    "model.add(Activation('linear'))\n",
    "model.add(MaxPooling2D(pool_size=(2, 2)))\n",
    "model.add(Dropout(0.5))\n",
    "\n",
    "model.add(Conv2D(64, (3, 3)))\n",
    "model.add(Activation('linear'))\n",
    "model.add(MaxPooling2D(pool_size=(2, 2)))\n",
    "model.add(Dropout(0.5))\n",
    "\n",
    "model.add(Flatten())\n",
    "model.add(Dense(96))\n",
    "model.add(Activation('linear'))\n",
    "model.add(Dropout(0.5))\n",
    "\n",
    "model.add(Dense(nClass))\n",
    "model.add(Activation('linear'))\n",
    "\n",
    "model.compile(loss='categorical_crossentropy',\n",
    "              optimizer='adadelta',\n",
    "              metrics=['accuracy'])"
   ]
  },
  {
   "cell_type": "code",
   "execution_count": 107,
   "metadata": {},
   "outputs": [
    {
     "name": "stdout",
     "output_type": "stream",
     "text": [
      "Epoch 1/5\n",
      " - 10s - loss: 7.8159 - acc: 0.1889 - val_loss: 6.5075 - val_acc: 0.2000\n",
      "Epoch 2/5\n",
      " - 7s - loss: 6.8688 - acc: 0.1444 - val_loss: 6.4472 - val_acc: 0.2000\n",
      "Epoch 3/5\n",
      " - 7s - loss: 7.1707 - acc: 0.2111 - val_loss: 9.6709 - val_acc: 0.2000\n",
      "Epoch 4/5\n",
      " - 7s - loss: 8.2541 - acc: 0.1889 - val_loss: 9.6709 - val_acc: 0.2000\n",
      "Epoch 5/5\n",
      " - 7s - loss: 9.1630 - acc: 0.2000 - val_loss: 9.6709 - val_acc: 0.2000\n"
     ]
    },
    {
     "data": {
      "text/plain": [
       "<keras.callbacks.History at 0x232caa86fd0>"
      ]
     },
     "execution_count": 107,
     "metadata": {},
     "output_type": "execute_result"
    }
   ],
   "source": [
    "model.fit_generator(train_batches, steps_per_epoch=3, \n",
    "                    validation_data = valid_batches, validation_steps=1, \n",
    "                    epochs=5, verbose=2)"
   ]
  },
  {
   "cell_type": "markdown",
   "metadata": {},
   "source": [
    "### 7.8 TruncatedNormal"
   ]
  },
  {
   "cell_type": "code",
   "execution_count": 108,
   "metadata": {},
   "outputs": [
    {
     "data": {
      "text/plain": [
       "<keras.initializers.TruncatedNormal at 0x232caa86be0>"
      ]
     },
     "execution_count": 108,
     "metadata": {},
     "output_type": "execute_result"
    }
   ],
   "source": [
    "keras.initializers.TruncatedNormal(mean=0.0, stddev=0.05, seed=None)"
   ]
  },
  {
   "cell_type": "code",
   "execution_count": 109,
   "metadata": {},
   "outputs": [],
   "source": [
    "# set up model\n",
    "\n",
    "model = Sequential()\n",
    "\n",
    "model.add(Conv2D(32, (3, 3), input_shape=(224, 224, 3)))\n",
    "model.add(Activation('linear'))\n",
    "model.add(MaxPooling2D(pool_size=(2, 2)))\n",
    "model.add(Dropout(0.5))\n",
    "\n",
    "model.add(Conv2D(32, (3, 3)))\n",
    "model.add(Activation('linear'))\n",
    "model.add(MaxPooling2D(pool_size=(2, 2)))\n",
    "model.add(Dropout(0.5))\n",
    "\n",
    "model.add(Conv2D(64, (3, 3)))\n",
    "model.add(Activation('linear'))\n",
    "model.add(MaxPooling2D(pool_size=(2, 2)))\n",
    "model.add(Dropout(0.5))\n",
    "\n",
    "model.add(Flatten())\n",
    "model.add(Dense(96))\n",
    "model.add(Activation('linear'))\n",
    "model.add(Dropout(0.5))\n",
    "\n",
    "model.add(Dense(nClass))\n",
    "model.add(Activation('linear'))\n",
    "\n",
    "model.compile(loss='categorical_crossentropy',\n",
    "              optimizer='adadelta',\n",
    "              metrics=['accuracy'])"
   ]
  },
  {
   "cell_type": "code",
   "execution_count": 110,
   "metadata": {},
   "outputs": [
    {
     "name": "stdout",
     "output_type": "stream",
     "text": [
      "Epoch 1/5\n",
      " - 10s - loss: 8.5188 - acc: 0.2000 - val_loss: 6.5288 - val_acc: 0.2000\n",
      "Epoch 2/5\n",
      " - 7s - loss: 7.8097 - acc: 0.2333 - val_loss: 6.7292 - val_acc: 0.3000\n",
      "Epoch 3/5\n",
      " - 7s - loss: 8.5314 - acc: 0.2000 - val_loss: 9.6709 - val_acc: 0.4000\n",
      "Epoch 4/5\n",
      " - 8s - loss: 9.3702 - acc: 0.2444 - val_loss: 9.6709 - val_acc: 0.4000\n",
      "Epoch 5/5\n",
      " - 7s - loss: 7.3011 - acc: 0.2333 - val_loss: 6.7242 - val_acc: 0.2000\n"
     ]
    },
    {
     "data": {
      "text/plain": [
       "<keras.callbacks.History at 0x232d1028eb8>"
      ]
     },
     "execution_count": 110,
     "metadata": {},
     "output_type": "execute_result"
    }
   ],
   "source": [
    "model.fit_generator(train_batches, steps_per_epoch=3, \n",
    "                    validation_data = valid_batches, validation_steps=1, \n",
    "                    epochs=5, verbose=2)"
   ]
  },
  {
   "cell_type": "markdown",
   "metadata": {},
   "source": [
    "### 7.9 VarianceScaling"
   ]
  },
  {
   "cell_type": "code",
   "execution_count": 111,
   "metadata": {},
   "outputs": [
    {
     "data": {
      "text/plain": [
       "<keras.initializers.VarianceScaling at 0x232d08cc828>"
      ]
     },
     "execution_count": 111,
     "metadata": {},
     "output_type": "execute_result"
    }
   ],
   "source": [
    "keras.initializers.VarianceScaling(scale=1.0, mode='fan_in', distribution='normal', seed=None)"
   ]
  },
  {
   "cell_type": "code",
   "execution_count": 112,
   "metadata": {},
   "outputs": [],
   "source": [
    "# set up model\n",
    "\n",
    "model = Sequential()\n",
    "\n",
    "model.add(Conv2D(32, (3, 3), input_shape=(224, 224, 3)))\n",
    "model.add(Activation('linear'))\n",
    "model.add(MaxPooling2D(pool_size=(2, 2)))\n",
    "model.add(Dropout(0.5))\n",
    "\n",
    "model.add(Conv2D(32, (3, 3)))\n",
    "model.add(Activation('linear'))\n",
    "model.add(MaxPooling2D(pool_size=(2, 2)))\n",
    "model.add(Dropout(0.5))\n",
    "\n",
    "model.add(Conv2D(64, (3, 3)))\n",
    "model.add(Activation('linear'))\n",
    "model.add(MaxPooling2D(pool_size=(2, 2)))\n",
    "model.add(Dropout(0.5))\n",
    "\n",
    "model.add(Flatten())\n",
    "model.add(Dense(96))\n",
    "model.add(Activation('linear'))\n",
    "model.add(Dropout(0.5))\n",
    "\n",
    "model.add(Dense(nClass))\n",
    "model.add(Activation('linear'))\n",
    "\n",
    "model.compile(loss='categorical_crossentropy',\n",
    "              optimizer='adadelta',\n",
    "              metrics=['accuracy'])"
   ]
  },
  {
   "cell_type": "code",
   "execution_count": 113,
   "metadata": {},
   "outputs": [
    {
     "name": "stdout",
     "output_type": "stream",
     "text": [
      "Epoch 1/5\n",
      " - 10s - loss: 5.9997 - acc: 0.1778 - val_loss: 3.9628 - val_acc: 0.2000\n",
      "Epoch 2/5\n",
      " - 6s - loss: 4.4317 - acc: 0.2889 - val_loss: 3.2236 - val_acc: 0.2000\n",
      "Epoch 3/5\n",
      " - 7s - loss: 6.6027 - acc: 0.2000 - val_loss: 10.0341 - val_acc: 0.3000\n",
      "Epoch 4/5\n",
      " - 7s - loss: 7.9231 - acc: 0.2000 - val_loss: 6.8949 - val_acc: 0.2000\n",
      "Epoch 5/5\n",
      " - 7s - loss: 5.6336 - acc: 0.2111 - val_loss: 4.0631 - val_acc: 0.2000\n"
     ]
    },
    {
     "data": {
      "text/plain": [
       "<keras.callbacks.History at 0x232d116c080>"
      ]
     },
     "execution_count": 113,
     "metadata": {},
     "output_type": "execute_result"
    }
   ],
   "source": [
    "model.fit_generator(train_batches, steps_per_epoch=3, \n",
    "                    validation_data = valid_batches, validation_steps=1, \n",
    "                    epochs=5, verbose=2)"
   ]
  },
  {
   "cell_type": "markdown",
   "metadata": {},
   "source": [
    "### 7.10 Orthogonal"
   ]
  },
  {
   "cell_type": "code",
   "execution_count": 114,
   "metadata": {
    "collapsed": true
   },
   "outputs": [
    {
     "data": {
      "text/plain": [
       "<keras.initializers.Orthogonal at 0x232d116cf60>"
      ]
     },
     "execution_count": 114,
     "metadata": {},
     "output_type": "execute_result"
    }
   ],
   "source": [
    "keras.initializers.Orthogonal(gain=1.0, seed=None)"
   ]
  },
  {
   "cell_type": "code",
   "execution_count": 115,
   "metadata": {},
   "outputs": [],
   "source": [
    "# set up model\n",
    "\n",
    "model = Sequential()\n",
    "\n",
    "model.add(Conv2D(32, (3, 3), input_shape=(224, 224, 3)))\n",
    "model.add(Activation('linear'))\n",
    "model.add(MaxPooling2D(pool_size=(2, 2)))\n",
    "model.add(Dropout(0.5))\n",
    "\n",
    "model.add(Conv2D(32, (3, 3)))\n",
    "model.add(Activation('linear'))\n",
    "model.add(MaxPooling2D(pool_size=(2, 2)))\n",
    "model.add(Dropout(0.5))\n",
    "\n",
    "model.add(Conv2D(64, (3, 3)))\n",
    "model.add(Activation('linear'))\n",
    "model.add(MaxPooling2D(pool_size=(2, 2)))\n",
    "model.add(Dropout(0.5))\n",
    "\n",
    "model.add(Flatten())\n",
    "model.add(Dense(96))\n",
    "model.add(Activation('linear'))\n",
    "model.add(Dropout(0.5))\n",
    "\n",
    "model.add(Dense(nClass))\n",
    "model.add(Activation('linear'))\n",
    "\n",
    "model.compile(loss='categorical_crossentropy',\n",
    "              optimizer='adadelta',\n",
    "              metrics=['accuracy'])"
   ]
  },
  {
   "cell_type": "code",
   "execution_count": 116,
   "metadata": {},
   "outputs": [
    {
     "name": "stdout",
     "output_type": "stream",
     "text": [
      "Epoch 1/5\n",
      " - 10s - loss: 4.9734 - acc: 0.1667 - val_loss: 3.8367 - val_acc: 0.2000\n",
      "Epoch 2/5\n",
      " - 6s - loss: 4.6727 - acc: 0.2333 - val_loss: 3.4997 - val_acc: 0.2000\n",
      "Epoch 3/5\n",
      " - 6s - loss: 7.3825 - acc: 0.2778 - val_loss: 9.8954 - val_acc: 0.3000\n",
      "Epoch 4/5\n",
      " - 6s - loss: 8.8596 - acc: 0.2333 - val_loss: 6.5180 - val_acc: 0.2000\n",
      "Epoch 5/5\n",
      " - 7s - loss: 7.1844 - acc: 0.2111 - val_loss: 6.4472 - val_acc: 0.2000\n"
     ]
    },
    {
     "data": {
      "text/plain": [
       "<keras.callbacks.History at 0x232d92686a0>"
      ]
     },
     "execution_count": 116,
     "metadata": {},
     "output_type": "execute_result"
    }
   ],
   "source": [
    "model.fit_generator(train_batches, steps_per_epoch=3, \n",
    "                    validation_data = valid_batches, validation_steps=1, \n",
    "                    epochs=5, verbose=2)"
   ]
  },
  {
   "cell_type": "markdown",
   "metadata": {},
   "source": [
    "### 7.11 Identity"
   ]
  },
  {
   "cell_type": "code",
   "execution_count": 117,
   "metadata": {},
   "outputs": [
    {
     "data": {
      "text/plain": [
       "<keras.initializers.Identity at 0x232d9268e80>"
      ]
     },
     "execution_count": 117,
     "metadata": {},
     "output_type": "execute_result"
    }
   ],
   "source": [
    "keras.initializers.Identity(gain=1.0)"
   ]
  },
  {
   "cell_type": "code",
   "execution_count": 118,
   "metadata": {},
   "outputs": [],
   "source": [
    "# set up model\n",
    "\n",
    "model = Sequential()\n",
    "\n",
    "model.add(Conv2D(32, (3, 3), input_shape=(224, 224, 3)))\n",
    "model.add(Activation('linear'))\n",
    "model.add(MaxPooling2D(pool_size=(2, 2)))\n",
    "model.add(Dropout(0.5))\n",
    "\n",
    "model.add(Conv2D(32, (3, 3)))\n",
    "model.add(Activation('linear'))\n",
    "model.add(MaxPooling2D(pool_size=(2, 2)))\n",
    "model.add(Dropout(0.5))\n",
    "\n",
    "model.add(Conv2D(64, (3, 3)))\n",
    "model.add(Activation('linear'))\n",
    "model.add(MaxPooling2D(pool_size=(2, 2)))\n",
    "model.add(Dropout(0.5))\n",
    "\n",
    "model.add(Flatten())\n",
    "model.add(Dense(96))\n",
    "model.add(Activation('linear'))\n",
    "model.add(Dropout(0.5))\n",
    "\n",
    "model.add(Dense(nClass))\n",
    "model.add(Activation('linear'))\n",
    "\n",
    "model.compile(loss='categorical_crossentropy',\n",
    "              optimizer='adadelta',\n",
    "              metrics=['accuracy'])"
   ]
  },
  {
   "cell_type": "code",
   "execution_count": 119,
   "metadata": {},
   "outputs": [
    {
     "name": "stdout",
     "output_type": "stream",
     "text": [
      "Epoch 1/5\n",
      " - 10s - loss: 6.4905 - acc: 0.2111 - val_loss: 6.6542 - val_acc: 0.2000\n",
      "Epoch 2/5\n",
      " - 7s - loss: 5.8955 - acc: 0.2000 - val_loss: 4.0703 - val_acc: 0.2000\n",
      "Epoch 3/5\n",
      " - 6s - loss: 4.3516 - acc: 0.2000 - val_loss: 12.8945 - val_acc: 0.2000\n",
      "Epoch 4/5\n",
      " - 6s - loss: 7.2090 - acc: 0.2000 - val_loss: 4.3744 - val_acc: 0.2000\n",
      "Epoch 5/5\n",
      " - 6s - loss: 5.0604 - acc: 0.2000 - val_loss: 4.2931 - val_acc: 0.2000\n"
     ]
    },
    {
     "data": {
      "text/plain": [
       "<keras.callbacks.History at 0x232d95dee48>"
      ]
     },
     "execution_count": 119,
     "metadata": {},
     "output_type": "execute_result"
    }
   ],
   "source": [
    "model.fit_generator(train_batches, steps_per_epoch=3, \n",
    "                    validation_data = valid_batches, validation_steps=1, \n",
    "                    epochs=5, verbose=2)"
   ]
  },
  {
   "cell_type": "markdown",
   "metadata": {},
   "source": [
    "### 7.11 lecun_uniform"
   ]
  },
  {
   "cell_type": "code",
   "execution_count": 120,
   "metadata": {},
   "outputs": [
    {
     "data": {
      "text/plain": [
       "<keras.initializers.VarianceScaling at 0x232d95dedd8>"
      ]
     },
     "execution_count": 120,
     "metadata": {},
     "output_type": "execute_result"
    }
   ],
   "source": [
    "keras.initializers.lecun_uniform(seed=None)"
   ]
  },
  {
   "cell_type": "code",
   "execution_count": 121,
   "metadata": {},
   "outputs": [],
   "source": [
    "# set up model\n",
    "\n",
    "model = Sequential()\n",
    "\n",
    "model.add(Conv2D(32, (3, 3), input_shape=(224, 224, 3)))\n",
    "model.add(Activation('linear'))\n",
    "model.add(MaxPooling2D(pool_size=(2, 2)))\n",
    "model.add(Dropout(0.5))\n",
    "\n",
    "model.add(Conv2D(32, (3, 3)))\n",
    "model.add(Activation('linear'))\n",
    "model.add(MaxPooling2D(pool_size=(2, 2)))\n",
    "model.add(Dropout(0.5))\n",
    "\n",
    "model.add(Conv2D(64, (3, 3)))\n",
    "model.add(Activation('linear'))\n",
    "model.add(MaxPooling2D(pool_size=(2, 2)))\n",
    "model.add(Dropout(0.5))\n",
    "\n",
    "model.add(Flatten())\n",
    "model.add(Dense(96))\n",
    "model.add(Activation('linear'))\n",
    "model.add(Dropout(0.5))\n",
    "\n",
    "model.add(Dense(nClass))\n",
    "model.add(Activation('linear'))\n",
    "\n",
    "model.compile(loss='categorical_crossentropy',\n",
    "              optimizer='adadelta',\n",
    "              metrics=['accuracy'])"
   ]
  },
  {
   "cell_type": "code",
   "execution_count": 122,
   "metadata": {},
   "outputs": [
    {
     "name": "stdout",
     "output_type": "stream",
     "text": [
      "Epoch 1/5\n",
      " - 11s - loss: 6.2770 - acc: 0.2444 - val_loss: 4.2066 - val_acc: 0.2000\n",
      "Epoch 2/5\n",
      " - 6s - loss: 4.3256 - acc: 0.2000 - val_loss: 3.9647 - val_acc: 0.2000\n",
      "Epoch 3/5\n",
      " - 6s - loss: 4.0561 - acc: 0.2111 - val_loss: 12.8945 - val_acc: 0.2000\n",
      "Epoch 4/5\n",
      " - 7s - loss: 5.1415 - acc: 0.2000 - val_loss: 11.6594 - val_acc: 0.2000\n",
      "Epoch 5/5\n",
      " - 6s - loss: 7.2644 - acc: 0.2000 - val_loss: 10.1090 - val_acc: 0.2000\n"
     ]
    },
    {
     "data": {
      "text/plain": [
       "<keras.callbacks.History at 0x232def49160>"
      ]
     },
     "execution_count": 122,
     "metadata": {},
     "output_type": "execute_result"
    }
   ],
   "source": [
    "model.fit_generator(train_batches, steps_per_epoch=3, \n",
    "                    validation_data = valid_batches, validation_steps=1, \n",
    "                    epochs=5, verbose=2)"
   ]
  },
  {
   "cell_type": "markdown",
   "metadata": {},
   "source": [
    "It doesn't look like a good model, and the accuracy hasn't changed, it has been low."
   ]
  },
  {
   "cell_type": "markdown",
   "metadata": {},
   "source": [
    "### 7.12 glorot_normal"
   ]
  },
  {
   "cell_type": "code",
   "execution_count": 123,
   "metadata": {},
   "outputs": [
    {
     "data": {
      "text/plain": [
       "<keras.initializers.VarianceScaling at 0x232def492b0>"
      ]
     },
     "execution_count": 123,
     "metadata": {},
     "output_type": "execute_result"
    }
   ],
   "source": [
    "keras.initializers.glorot_normal(seed=None)"
   ]
  },
  {
   "cell_type": "code",
   "execution_count": 124,
   "metadata": {},
   "outputs": [],
   "source": [
    "# set up model\n",
    "\n",
    "model = Sequential()\n",
    "\n",
    "model.add(Conv2D(32, (3, 3), input_shape=(224, 224, 3)))\n",
    "model.add(Activation('linear'))\n",
    "model.add(MaxPooling2D(pool_size=(2, 2)))\n",
    "model.add(Dropout(0.5))\n",
    "\n",
    "model.add(Conv2D(32, (3, 3)))\n",
    "model.add(Activation('linear'))\n",
    "model.add(MaxPooling2D(pool_size=(2, 2)))\n",
    "model.add(Dropout(0.5))\n",
    "\n",
    "model.add(Conv2D(64, (3, 3)))\n",
    "model.add(Activation('linear'))\n",
    "model.add(MaxPooling2D(pool_size=(2, 2)))\n",
    "model.add(Dropout(0.5))\n",
    "\n",
    "model.add(Flatten())\n",
    "model.add(Dense(96))\n",
    "model.add(Activation('linear'))\n",
    "model.add(Dropout(0.5))\n",
    "\n",
    "model.add(Dense(nClass))\n",
    "model.add(Activation('linear'))\n",
    "\n",
    "model.compile(loss='categorical_crossentropy',\n",
    "              optimizer='adadelta',\n",
    "              metrics=['accuracy'])"
   ]
  },
  {
   "cell_type": "code",
   "execution_count": 125,
   "metadata": {},
   "outputs": [
    {
     "name": "stdout",
     "output_type": "stream",
     "text": [
      "Epoch 1/5\n",
      " - 11s - loss: 6.8419 - acc: 0.2111 - val_loss: 9.6709 - val_acc: 0.4000\n",
      "Epoch 2/5\n",
      " - 7s - loss: 8.2132 - acc: 0.1556 - val_loss: 6.4472 - val_acc: 0.2000\n",
      "Epoch 3/5\n",
      " - 7s - loss: 8.7867 - acc: 0.1667 - val_loss: 6.4472 - val_acc: 0.2000\n",
      "Epoch 4/5\n",
      " - 7s - loss: 9.3236 - acc: 0.2000 - val_loss: 9.6709 - val_acc: 0.2000\n",
      "Epoch 5/5\n",
      " - 7s - loss: 7.5262 - acc: 0.2444 - val_loss: 9.6709 - val_acc: 0.2000\n"
     ]
    },
    {
     "data": {
      "text/plain": [
       "<keras.callbacks.History at 0x232def49208>"
      ]
     },
     "execution_count": 125,
     "metadata": {},
     "output_type": "execute_result"
    }
   ],
   "source": [
    "model.fit_generator(train_batches, steps_per_epoch=3, \n",
    "                    validation_data = valid_batches, validation_steps=1, \n",
    "                    epochs=5, verbose=2)"
   ]
  },
  {
   "cell_type": "markdown",
   "metadata": {},
   "source": [
    "The loss is reduced first and then increased, and finally there may be a case of overfitting."
   ]
  },
  {
   "cell_type": "markdown",
   "metadata": {},
   "source": [
    "### 7.13 glorot_uniform"
   ]
  },
  {
   "cell_type": "code",
   "execution_count": 126,
   "metadata": {},
   "outputs": [
    {
     "data": {
      "text/plain": [
       "<keras.initializers.VarianceScaling at 0x232e002ff60>"
      ]
     },
     "execution_count": 126,
     "metadata": {},
     "output_type": "execute_result"
    }
   ],
   "source": [
    "keras.initializers.glorot_uniform(seed=None)"
   ]
  },
  {
   "cell_type": "code",
   "execution_count": 127,
   "metadata": {},
   "outputs": [],
   "source": [
    "# set up model\n",
    "\n",
    "model = Sequential()\n",
    "\n",
    "model.add(Conv2D(32, (3, 3), input_shape=(224, 224, 3)))\n",
    "model.add(Activation('linear'))\n",
    "model.add(MaxPooling2D(pool_size=(2, 2)))\n",
    "model.add(Dropout(0.5))\n",
    "\n",
    "model.add(Conv2D(32, (3, 3)))\n",
    "model.add(Activation('linear'))\n",
    "model.add(MaxPooling2D(pool_size=(2, 2)))\n",
    "model.add(Dropout(0.5))\n",
    "\n",
    "model.add(Conv2D(64, (3, 3)))\n",
    "model.add(Activation('linear'))\n",
    "model.add(MaxPooling2D(pool_size=(2, 2)))\n",
    "model.add(Dropout(0.5))\n",
    "\n",
    "model.add(Flatten())\n",
    "model.add(Dense(96))\n",
    "model.add(Activation('linear'))\n",
    "model.add(Dropout(0.5))\n",
    "\n",
    "model.add(Dense(nClass))\n",
    "model.add(Activation('linear'))\n",
    "\n",
    "model.compile(loss='categorical_crossentropy',\n",
    "              optimizer='adadelta',\n",
    "              metrics=['accuracy'])"
   ]
  },
  {
   "cell_type": "code",
   "execution_count": 128,
   "metadata": {},
   "outputs": [
    {
     "name": "stdout",
     "output_type": "stream",
     "text": [
      "Epoch 1/5\n",
      " - 11s - loss: 5.6221 - acc: 0.2000 - val_loss: 4.0879 - val_acc: 0.2000\n",
      "Epoch 2/5\n",
      " - 7s - loss: 4.0152 - acc: 0.2000 - val_loss: 12.8945 - val_acc: 0.2000\n",
      "Epoch 3/5\n",
      " - 8s - loss: 7.3341 - acc: 0.2000 - val_loss: 4.6488 - val_acc: 0.2000\n",
      "Epoch 4/5\n",
      " - 7s - loss: 7.0037 - acc: 0.2000 - val_loss: 9.6709 - val_acc: 0.4000\n",
      "Epoch 5/5\n",
      " - 7s - loss: 7.5422 - acc: 0.2222 - val_loss: 6.4472 - val_acc: 0.4000\n"
     ]
    },
    {
     "data": {
      "text/plain": [
       "<keras.callbacks.History at 0x232e03b3898>"
      ]
     },
     "execution_count": 128,
     "metadata": {},
     "output_type": "execute_result"
    }
   ],
   "source": [
    "model.fit_generator(train_batches, steps_per_epoch=3, \n",
    "                    validation_data = valid_batches, validation_steps=1, \n",
    "                    epochs=5, verbose=2)"
   ]
  },
  {
   "cell_type": "markdown",
   "metadata": {},
   "source": [
    "The loss is reduced and the accuracy is increased."
   ]
  },
  {
   "cell_type": "markdown",
   "metadata": {},
   "source": [
    "### 7.14 he_normal"
   ]
  },
  {
   "cell_type": "code",
   "execution_count": 129,
   "metadata": {},
   "outputs": [
    {
     "data": {
      "text/plain": [
       "<keras.initializers.VarianceScaling at 0x232e03b3748>"
      ]
     },
     "execution_count": 129,
     "metadata": {},
     "output_type": "execute_result"
    }
   ],
   "source": [
    "keras.initializers.he_normal(seed=None)"
   ]
  },
  {
   "cell_type": "code",
   "execution_count": 130,
   "metadata": {},
   "outputs": [],
   "source": [
    "# set up model\n",
    "\n",
    "model = Sequential()\n",
    "\n",
    "model.add(Conv2D(32, (3, 3), input_shape=(224, 224, 3)))\n",
    "model.add(Activation('linear'))\n",
    "model.add(MaxPooling2D(pool_size=(2, 2)))\n",
    "model.add(Dropout(0.5))\n",
    "\n",
    "model.add(Conv2D(32, (3, 3)))\n",
    "model.add(Activation('linear'))\n",
    "model.add(MaxPooling2D(pool_size=(2, 2)))\n",
    "model.add(Dropout(0.5))\n",
    "\n",
    "model.add(Conv2D(64, (3, 3)))\n",
    "model.add(Activation('linear'))\n",
    "model.add(MaxPooling2D(pool_size=(2, 2)))\n",
    "model.add(Dropout(0.5))\n",
    "\n",
    "model.add(Flatten())\n",
    "model.add(Dense(96))\n",
    "model.add(Activation('linear'))\n",
    "model.add(Dropout(0.5))\n",
    "\n",
    "model.add(Dense(nClass))\n",
    "model.add(Activation('linear'))\n",
    "\n",
    "model.compile(loss='categorical_crossentropy',\n",
    "              optimizer='adadelta',\n",
    "              metrics=['accuracy'])"
   ]
  },
  {
   "cell_type": "code",
   "execution_count": 131,
   "metadata": {},
   "outputs": [
    {
     "name": "stdout",
     "output_type": "stream",
     "text": [
      "Epoch 1/5\n",
      " - 10s - loss: 5.7826 - acc: 0.2222 - val_loss: 2.4896 - val_acc: 0.0000e+00\n",
      "Epoch 2/5\n",
      " - 7s - loss: 5.3317 - acc: 0.2000 - val_loss: 4.3721 - val_acc: 0.2000\n",
      "Epoch 3/5\n",
      " - 7s - loss: 5.3178 - acc: 0.2111 - val_loss: 1.6399 - val_acc: 0.2000\n",
      "Epoch 4/5\n",
      " - 7s - loss: 1.6554 - acc: 0.1333 - val_loss: 1.5911 - val_acc: 0.2000\n",
      "Epoch 5/5\n",
      " - 6s - loss: 1.7680 - acc: 0.1667 - val_loss: 1.5184 - val_acc: 0.1000\n"
     ]
    },
    {
     "data": {
      "text/plain": [
       "<keras.callbacks.History at 0x232df5b97f0>"
      ]
     },
     "execution_count": 131,
     "metadata": {},
     "output_type": "execute_result"
    }
   ],
   "source": [
    "model.fit_generator(train_batches, steps_per_epoch=3, \n",
    "                    validation_data = valid_batches, validation_steps=1, \n",
    "                    epochs=5, verbose=2)"
   ]
  },
  {
   "cell_type": "markdown",
   "metadata": {},
   "source": [
    "### 7.15 lecun_normal"
   ]
  },
  {
   "cell_type": "code",
   "execution_count": 132,
   "metadata": {
    "scrolled": true
   },
   "outputs": [
    {
     "data": {
      "text/plain": [
       "<keras.initializers.VarianceScaling at 0x232f653c940>"
      ]
     },
     "execution_count": 132,
     "metadata": {},
     "output_type": "execute_result"
    }
   ],
   "source": [
    "keras.initializers.lecun_normal(seed=None)"
   ]
  },
  {
   "cell_type": "code",
   "execution_count": 133,
   "metadata": {},
   "outputs": [],
   "source": [
    "# set up model\n",
    "\n",
    "model = Sequential()\n",
    "\n",
    "model.add(Conv2D(32, (3, 3), input_shape=(224, 224, 3)))\n",
    "model.add(Activation('linear'))\n",
    "model.add(MaxPooling2D(pool_size=(2, 2)))\n",
    "model.add(Dropout(0.5))\n",
    "\n",
    "model.add(Conv2D(32, (3, 3)))\n",
    "model.add(Activation('linear'))\n",
    "model.add(MaxPooling2D(pool_size=(2, 2)))\n",
    "model.add(Dropout(0.5))\n",
    "\n",
    "model.add(Conv2D(64, (3, 3)))\n",
    "model.add(Activation('linear'))\n",
    "model.add(MaxPooling2D(pool_size=(2, 2)))\n",
    "model.add(Dropout(0.5))\n",
    "\n",
    "model.add(Flatten())\n",
    "model.add(Dense(96))\n",
    "model.add(Activation('linear'))\n",
    "model.add(Dropout(0.5))\n",
    "\n",
    "model.add(Dense(nClass))\n",
    "model.add(Activation('linear'))\n",
    "\n",
    "model.compile(loss='categorical_crossentropy',\n",
    "              optimizer='adadelta',\n",
    "              metrics=['accuracy'])"
   ]
  },
  {
   "cell_type": "code",
   "execution_count": 134,
   "metadata": {},
   "outputs": [
    {
     "name": "stdout",
     "output_type": "stream",
     "text": [
      "Epoch 1/5\n",
      " - 10s - loss: 6.4822 - acc: 0.1556 - val_loss: 7.0889 - val_acc: 0.2000\n",
      "Epoch 2/5\n",
      " - 6s - loss: 7.3770 - acc: 0.2333 - val_loss: 9.6709 - val_acc: 0.2000\n",
      "Epoch 3/5\n",
      " - 7s - loss: 7.4481 - acc: 0.2111 - val_loss: 9.6709 - val_acc: 0.2000\n",
      "Epoch 4/5\n",
      " - 7s - loss: 7.7435 - acc: 0.2000 - val_loss: 9.6709 - val_acc: 0.2000\n",
      "Epoch 5/5\n",
      " - 7s - loss: 8.4634 - acc: 0.2111 - val_loss: 9.6709 - val_acc: 0.2000\n"
     ]
    },
    {
     "data": {
      "text/plain": [
       "<keras.callbacks.History at 0x232f6e77908>"
      ]
     },
     "execution_count": 134,
     "metadata": {},
     "output_type": "execute_result"
    }
   ],
   "source": [
    "model.fit_generator(train_batches, steps_per_epoch=3, \n",
    "                    validation_data = valid_batches, validation_steps=1, \n",
    "                    epochs=5, verbose=2)"
   ]
  },
  {
   "cell_type": "markdown",
   "metadata": {},
   "source": [
    "There is no obvious change, the accuracy rate has been low, not a good model."
   ]
  },
  {
   "cell_type": "markdown",
   "metadata": {},
   "source": [
    "### 7.16 he_uniform"
   ]
  },
  {
   "cell_type": "code",
   "execution_count": 9,
   "metadata": {},
   "outputs": [
    {
     "data": {
      "text/plain": [
       "<keras.initializers.VarianceScaling at 0x2a0b2fc8f98>"
      ]
     },
     "execution_count": 9,
     "metadata": {},
     "output_type": "execute_result"
    }
   ],
   "source": [
    "keras.initializers.he_uniform(seed=None)"
   ]
  },
  {
   "cell_type": "code",
   "execution_count": 136,
   "metadata": {},
   "outputs": [],
   "source": [
    "# set up model\n",
    "\n",
    "model = Sequential()\n",
    "\n",
    "model.add(Conv2D(32, (3, 3), input_shape=(224, 224, 3)))\n",
    "model.add(Activation('linear'))\n",
    "model.add(MaxPooling2D(pool_size=(2, 2)))\n",
    "model.add(Dropout(0.5))\n",
    "\n",
    "model.add(Conv2D(32, (3, 3)))\n",
    "model.add(Activation('linear'))\n",
    "model.add(MaxPooling2D(pool_size=(2, 2)))\n",
    "model.add(Dropout(0.5))\n",
    "\n",
    "model.add(Conv2D(64, (3, 3)))\n",
    "model.add(Activation('linear'))\n",
    "model.add(MaxPooling2D(pool_size=(2, 2)))\n",
    "model.add(Dropout(0.5))\n",
    "\n",
    "model.add(Flatten())\n",
    "model.add(Dense(96))\n",
    "model.add(Activation('linear'))\n",
    "model.add(Dropout(0.5))\n",
    "\n",
    "model.add(Dense(nClass))\n",
    "model.add(Activation('linear'))\n",
    "\n",
    "model.compile(loss='categorical_crossentropy',\n",
    "              optimizer='adadelta',\n",
    "              metrics=['accuracy'])"
   ]
  },
  {
   "cell_type": "code",
   "execution_count": 137,
   "metadata": {},
   "outputs": [
    {
     "name": "stdout",
     "output_type": "stream",
     "text": [
      "Epoch 1/5\n",
      " - 11s - loss: 3.8486 - acc: 0.1667 - val_loss: 1.6027 - val_acc: 0.2000\n",
      "Epoch 2/5\n",
      " - 7s - loss: 1.7487 - acc: 0.2111 - val_loss: 1.5677 - val_acc: 0.2000\n",
      "Epoch 3/5\n",
      " - 7s - loss: 1.5403 - acc: 0.2778 - val_loss: 1.5447 - val_acc: 0.6000\n",
      "Epoch 4/5\n",
      " - 7s - loss: 1.5882 - acc: 0.2889 - val_loss: 1.5249 - val_acc: 0.7000\n",
      "Epoch 5/5\n",
      " - 7s - loss: 1.5326 - acc: 0.2778 - val_loss: 1.5012 - val_acc: 0.9000\n"
     ]
    },
    {
     "data": {
      "text/plain": [
       "<keras.callbacks.History at 0x233027f7e80>"
      ]
     },
     "execution_count": 137,
     "metadata": {},
     "output_type": "execute_result"
    }
   ],
   "source": [
    "model.fit_generator(train_batches, steps_per_epoch=3, \n",
    "                    validation_data = valid_batches, validation_steps=1, \n",
    "                    epochs=5, verbose=2)"
   ]
  },
  {
   "cell_type": "markdown",
   "metadata": {},
   "source": [
    "The loss is reduced and the accuracy is increased. This looks like a good model!"
   ]
  },
  {
   "cell_type": "markdown",
   "metadata": {},
   "source": [
    "Network initialization | Accuracy\n",
    "------------- | ------------- \n",
    "RandomUniform |  0.2000\n",
    "Initializer |  0.7000\n",
    "Zeros |  0.2444\n",
    "Ones |  0.4000\n",
    "Constant |  0.4000\n",
    "RandomNormal |  0.2667\n",
    "RandomUniform |  0.2111\n",
    "TruncatedNormal |  0.4000\n",
    "VarianceScaling |  0.3000\n",
    "Orthogonal |  0.3000\n",
    "Identity |  0.2111\n",
    "lecun_uniform |  0.2444\n",
    "glorot_normal |  0.4000\n",
    "glorot_uniform |  0.4000\n",
    "he_normal |  0.2222\n",
    "lecun_normal |  0.2333 \n",
    "he_uniform |  0.9000"
   ]
  },
  {
   "cell_type": "markdown",
   "metadata": {},
   "source": [
    "# license\n",
    "\n",
    "Copyright <2019> Rui Wang\n",
    "\n",
    "Permission is hereby granted, free of charge, to any person obtaining a copy of this software and associated documentation files (the \"Software\"), to deal in the Software without restriction, including without limitation the rights to use, copy, modify, merge, publish, distribute, sublicense, and/or sell copies of the Software, and to permit persons to whom the Software is furnished to do so, subject to the following conditions:\n",
    "\n",
    "The above copyright notice and this permission notice shall be included in all copies or substantial portions of the Software.\n",
    "\n",
    "THE SOFTWARE IS PROVIDED \"AS IS\", WITHOUT WARRANTY OF ANY KIND, EXPRESS OR IMPLIED, INCLUDING BUT NOT LIMITED TO THE WARRANTIES OF MERCHANTABILITY, FITNESS FOR A PARTICULAR PURPOSE AND NONINFRINGEMENT. IN NO EVENT SHALL THE AUTHORS OR COPYRIGHT HOLDERS BE LIABLE FOR ANY CLAIM, DAMAGES OR OTHER LIABILITY, WHETHER IN AN ACTION OF CONTRACT, TORT OR OTHERWISE, ARISING FROM, OUT OF OR IN CONNECTION WITH THE SOFTWARE OR THE USE OR OTHER DEALINGS IN THE SOFTWARE."
   ]
  },
  {
   "cell_type": "code",
   "execution_count": null,
   "metadata": {},
   "outputs": [],
   "source": []
  },
  {
   "cell_type": "code",
   "execution_count": null,
   "metadata": {},
   "outputs": [],
   "source": []
  },
  {
   "cell_type": "code",
   "execution_count": null,
   "metadata": {},
   "outputs": [],
   "source": []
  },
  {
   "cell_type": "code",
   "execution_count": null,
   "metadata": {},
   "outputs": [],
   "source": []
  },
  {
   "cell_type": "code",
   "execution_count": null,
   "metadata": {},
   "outputs": [],
   "source": []
  },
  {
   "cell_type": "code",
   "execution_count": null,
   "metadata": {},
   "outputs": [],
   "source": []
  },
  {
   "cell_type": "code",
   "execution_count": null,
   "metadata": {},
   "outputs": [],
   "source": []
  },
  {
   "cell_type": "code",
   "execution_count": null,
   "metadata": {},
   "outputs": [],
   "source": []
  },
  {
   "cell_type": "code",
   "execution_count": null,
   "metadata": {},
   "outputs": [],
   "source": []
  },
  {
   "cell_type": "code",
   "execution_count": null,
   "metadata": {},
   "outputs": [],
   "source": []
  },
  {
   "cell_type": "code",
   "execution_count": null,
   "metadata": {},
   "outputs": [],
   "source": []
  },
  {
   "cell_type": "code",
   "execution_count": null,
   "metadata": {},
   "outputs": [],
   "source": []
  },
  {
   "cell_type": "code",
   "execution_count": null,
   "metadata": {},
   "outputs": [],
   "source": []
  },
  {
   "cell_type": "code",
   "execution_count": null,
   "metadata": {},
   "outputs": [],
   "source": []
  },
  {
   "cell_type": "code",
   "execution_count": null,
   "metadata": {},
   "outputs": [],
   "source": []
  },
  {
   "cell_type": "code",
   "execution_count": null,
   "metadata": {},
   "outputs": [],
   "source": []
  },
  {
   "cell_type": "code",
   "execution_count": null,
   "metadata": {},
   "outputs": [],
   "source": []
  },
  {
   "cell_type": "code",
   "execution_count": null,
   "metadata": {},
   "outputs": [],
   "source": []
  },
  {
   "cell_type": "code",
   "execution_count": null,
   "metadata": {},
   "outputs": [],
   "source": []
  },
  {
   "cell_type": "code",
   "execution_count": null,
   "metadata": {},
   "outputs": [],
   "source": []
  },
  {
   "cell_type": "code",
   "execution_count": null,
   "metadata": {},
   "outputs": [],
   "source": []
  },
  {
   "cell_type": "code",
   "execution_count": null,
   "metadata": {},
   "outputs": [],
   "source": []
  },
  {
   "cell_type": "code",
   "execution_count": null,
   "metadata": {},
   "outputs": [],
   "source": []
  },
  {
   "cell_type": "code",
   "execution_count": null,
   "metadata": {},
   "outputs": [],
   "source": []
  },
  {
   "cell_type": "code",
   "execution_count": null,
   "metadata": {},
   "outputs": [],
   "source": []
  },
  {
   "cell_type": "code",
   "execution_count": null,
   "metadata": {},
   "outputs": [],
   "source": []
  },
  {
   "cell_type": "code",
   "execution_count": null,
   "metadata": {},
   "outputs": [],
   "source": []
  },
  {
   "cell_type": "code",
   "execution_count": null,
   "metadata": {},
   "outputs": [],
   "source": []
  },
  {
   "cell_type": "code",
   "execution_count": null,
   "metadata": {},
   "outputs": [],
   "source": []
  },
  {
   "cell_type": "code",
   "execution_count": null,
   "metadata": {},
   "outputs": [],
   "source": []
  },
  {
   "cell_type": "code",
   "execution_count": null,
   "metadata": {},
   "outputs": [],
   "source": []
  },
  {
   "cell_type": "code",
   "execution_count": null,
   "metadata": {},
   "outputs": [],
   "source": []
  },
  {
   "cell_type": "code",
   "execution_count": null,
   "metadata": {},
   "outputs": [],
   "source": []
  },
  {
   "cell_type": "code",
   "execution_count": null,
   "metadata": {},
   "outputs": [],
   "source": []
  },
  {
   "cell_type": "code",
   "execution_count": null,
   "metadata": {},
   "outputs": [],
   "source": []
  },
  {
   "cell_type": "code",
   "execution_count": null,
   "metadata": {},
   "outputs": [],
   "source": []
  },
  {
   "cell_type": "code",
   "execution_count": null,
   "metadata": {},
   "outputs": [],
   "source": []
  },
  {
   "cell_type": "code",
   "execution_count": null,
   "metadata": {},
   "outputs": [],
   "source": []
  },
  {
   "cell_type": "code",
   "execution_count": null,
   "metadata": {},
   "outputs": [],
   "source": []
  },
  {
   "cell_type": "code",
   "execution_count": null,
   "metadata": {},
   "outputs": [],
   "source": []
  },
  {
   "cell_type": "code",
   "execution_count": null,
   "metadata": {},
   "outputs": [],
   "source": []
  },
  {
   "cell_type": "code",
   "execution_count": null,
   "metadata": {},
   "outputs": [],
   "source": []
  },
  {
   "cell_type": "code",
   "execution_count": null,
   "metadata": {},
   "outputs": [],
   "source": []
  },
  {
   "cell_type": "code",
   "execution_count": null,
   "metadata": {},
   "outputs": [],
   "source": []
  },
  {
   "cell_type": "code",
   "execution_count": null,
   "metadata": {},
   "outputs": [],
   "source": []
  },
  {
   "cell_type": "code",
   "execution_count": null,
   "metadata": {},
   "outputs": [],
   "source": []
  },
  {
   "cell_type": "code",
   "execution_count": null,
   "metadata": {},
   "outputs": [],
   "source": []
  },
  {
   "cell_type": "code",
   "execution_count": null,
   "metadata": {},
   "outputs": [],
   "source": []
  },
  {
   "cell_type": "code",
   "execution_count": null,
   "metadata": {},
   "outputs": [],
   "source": []
  },
  {
   "cell_type": "code",
   "execution_count": null,
   "metadata": {},
   "outputs": [],
   "source": []
  },
  {
   "cell_type": "code",
   "execution_count": null,
   "metadata": {},
   "outputs": [],
   "source": []
  },
  {
   "cell_type": "code",
   "execution_count": null,
   "metadata": {},
   "outputs": [],
   "source": []
  },
  {
   "cell_type": "code",
   "execution_count": null,
   "metadata": {},
   "outputs": [],
   "source": []
  },
  {
   "cell_type": "code",
   "execution_count": null,
   "metadata": {},
   "outputs": [],
   "source": []
  },
  {
   "cell_type": "code",
   "execution_count": null,
   "metadata": {},
   "outputs": [],
   "source": []
  },
  {
   "cell_type": "code",
   "execution_count": null,
   "metadata": {},
   "outputs": [],
   "source": []
  },
  {
   "cell_type": "code",
   "execution_count": null,
   "metadata": {},
   "outputs": [],
   "source": []
  },
  {
   "cell_type": "markdown",
   "metadata": {},
   "source": []
  }
 ],
 "metadata": {
  "kernelspec": {
   "display_name": "Python (rui)",
   "language": "python",
   "name": "rui"
  },
  "language_info": {
   "codemirror_mode": {
    "name": "ipython",
    "version": 3
   },
   "file_extension": ".py",
   "mimetype": "text/x-python",
   "name": "python",
   "nbconvert_exporter": "python",
   "pygments_lexer": "ipython3",
   "version": "3.6.7"
  }
 },
 "nbformat": 4,
 "nbformat_minor": 2
}
